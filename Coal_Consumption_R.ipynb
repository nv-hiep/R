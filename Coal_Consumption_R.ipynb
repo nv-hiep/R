{
  "nbformat": 4,
  "nbformat_minor": 0,
  "metadata": {
    "colab": {
      "name": "Coal_Consumption_R.ipynb",
      "provenance": [],
      "collapsed_sections": [],
      "authorship_tag": "ABX9TyMngRoh+6d6ZxYjlw4p9fy4",
      "include_colab_link": true
    },
    "kernelspec": {
      "name": "ir",
      "display_name": "R"
    }
  },
  "cells": [
    {
      "cell_type": "markdown",
      "metadata": {
        "id": "view-in-github",
        "colab_type": "text"
      },
      "source": [
        "<a href=\"https://colab.research.google.com/github/nv-hiep/R/blob/main/Coal_Consumption_R.ipynb\" target=\"_parent\"><img src=\"https://colab.research.google.com/assets/colab-badge.svg\" alt=\"Open In Colab\"/></a>"
      ]
    },
    {
      "cell_type": "markdown",
      "metadata": {
        "id": "1MRLIbGl_dLS"
      },
      "source": [
        "Data Wrangling in R\n",
        "\n",
        "Coal Consumption"
      ]
    },
    {
      "cell_type": "markdown",
      "metadata": {
        "id": "js4jLbneikQO"
      },
      "source": [
        "https://colab.research.google.com/notebook#create=true&language=r"
      ]
    },
    {
      "cell_type": "markdown",
      "metadata": {
        "id": "atsneToaAJu-"
      },
      "source": [
        "# Load library"
      ]
    },
    {
      "cell_type": "code",
      "metadata": {
        "colab": {
          "base_uri": "https://localhost:8080/"
        },
        "id": "2RCk5rxo_jdM",
        "outputId": "6bdb61b2-748f-4209-fa91-4026cc5c20d4"
      },
      "source": [
        "library(tidyverse)"
      ],
      "execution_count": 1,
      "outputs": [
        {
          "output_type": "stream",
          "text": [
            "Warning message in system(\"timedatectl\", intern = TRUE):\n",
            "“running command 'timedatectl' had status 1”\n",
            "── \u001b[1mAttaching packages\u001b[22m ─────────────────────────────────────── tidyverse 1.3.1 ──\n",
            "\n",
            "\u001b[32m✔\u001b[39m \u001b[34mggplot2\u001b[39m 3.3.5     \u001b[32m✔\u001b[39m \u001b[34mpurrr  \u001b[39m 0.3.4\n",
            "\u001b[32m✔\u001b[39m \u001b[34mtibble \u001b[39m 3.1.2     \u001b[32m✔\u001b[39m \u001b[34mdplyr  \u001b[39m 1.0.7\n",
            "\u001b[32m✔\u001b[39m \u001b[34mtidyr  \u001b[39m 1.1.3     \u001b[32m✔\u001b[39m \u001b[34mstringr\u001b[39m 1.4.0\n",
            "\u001b[32m✔\u001b[39m \u001b[34mreadr  \u001b[39m 1.4.0     \u001b[32m✔\u001b[39m \u001b[34mforcats\u001b[39m 0.5.1\n",
            "\n",
            "── \u001b[1mConflicts\u001b[22m ────────────────────────────────────────── tidyverse_conflicts() ──\n",
            "\u001b[31m✖\u001b[39m \u001b[34mdplyr\u001b[39m::\u001b[32mfilter()\u001b[39m masks \u001b[34mstats\u001b[39m::filter()\n",
            "\u001b[31m✖\u001b[39m \u001b[34mdplyr\u001b[39m::\u001b[32mlag()\u001b[39m    masks \u001b[34mstats\u001b[39m::lag()\n",
            "\n"
          ],
          "name": "stderr"
        }
      ]
    },
    {
      "cell_type": "markdown",
      "metadata": {
        "id": "ZCfK683BANB_"
      },
      "source": [
        "# Read data"
      ]
    },
    {
      "cell_type": "code",
      "metadata": {
        "colab": {
          "base_uri": "https://localhost:8080/"
        },
        "id": "TM2QscmZAO2y",
        "outputId": "1b68fd11-ea83-4524-b703-0197b7884f7c"
      },
      "source": [
        "# Read in the coal dataset\n",
        "coal <- read_csv(\"http://594442.youcanlearnit.net/coal.csv\")\n",
        "glimpse(coal)"
      ],
      "execution_count": 2,
      "outputs": [
        {
          "output_type": "stream",
          "text": [
            "Warning message:\n",
            "“Missing column names filled in: 'X2' [2], 'X3' [3], 'X4' [4], 'X5' [5], 'X6' [6], 'X7' [7], 'X8' [8], 'X9' [9], 'X10' [10], 'X11' [11], 'X12' [12], 'X13' [13], 'X14' [14], 'X15' [15], 'X16' [16], 'X17' [17], 'X18' [18], 'X19' [19], 'X20' [20], 'X21' [21], 'X22' [22], 'X23' [23], 'X24' [24], 'X25' [25], 'X26' [26], 'X27' [27], 'X28' [28], 'X29' [29], 'X30' [30], 'X31' [31]”\n",
            "\n",
            "\u001b[36m──\u001b[39m \u001b[1m\u001b[1mColumn specification\u001b[1m\u001b[22m \u001b[36m────────────────────────────────────────────────────────\u001b[39m\n",
            "cols(\n",
            "  .default = col_character()\n",
            ")\n",
            "\u001b[36mℹ\u001b[39m Use \u001b[30m\u001b[47m\u001b[30m\u001b[47m`spec()`\u001b[47m\u001b[30m\u001b[49m\u001b[39m for the full column specifications.\n",
            "\n",
            "\n"
          ],
          "name": "stderr"
        },
        {
          "output_type": "stream",
          "text": [
            "Rows: 234\n",
            "Columns: 31\n",
            "$ `Table: Total Coal Consumption (Quadrillion Btu)` \u001b[3m\u001b[90m<chr>\u001b[39m\u001b[23m NA, NA, \"North Ameri…\n",
            "$ X2                                                \u001b[3m\u001b[90m<chr>\u001b[39m\u001b[23m NA, \"1980\", \"16.4517…\n",
            "$ X3                                                \u001b[3m\u001b[90m<chr>\u001b[39m\u001b[23m NA, \"1981\", \"16.9877…\n",
            "$ X4                                                \u001b[3m\u001b[90m<chr>\u001b[39m\u001b[23m NA, \"1982\", \"16.4754…\n",
            "$ X5                                                \u001b[3m\u001b[90m<chr>\u001b[39m\u001b[23m NA, \"1983\", \"17.1240…\n",
            "$ X6                                                \u001b[3m\u001b[90m<chr>\u001b[39m\u001b[23m NA, \"1984\", \"18.4267…\n",
            "$ X7                                                \u001b[3m\u001b[90m<chr>\u001b[39m\u001b[23m NA, \"1985\", \"18.8181…\n",
            "$ X8                                                \u001b[3m\u001b[90m<chr>\u001b[39m\u001b[23m NA, \"1986\", \"18.5255…\n",
            "$ X9                                                \u001b[3m\u001b[90m<chr>\u001b[39m\u001b[23m NA, \"1987\", \"19.4378…\n",
            "$ X10                                               \u001b[3m\u001b[90m<chr>\u001b[39m\u001b[23m NA, \"1988\", \"20.4036…\n",
            "$ X11                                               \u001b[3m\u001b[90m<chr>\u001b[39m\u001b[23m NA, \"1989\", \"20.6257…\n",
            "$ X12                                               \u001b[3m\u001b[90m<chr>\u001b[39m\u001b[23m NA, \"1990\", \"20.5602…\n",
            "$ X13                                               \u001b[3m\u001b[90m<chr>\u001b[39m\u001b[23m NA, \"1991\", \"20.4251…\n",
            "$ X14                                               \u001b[3m\u001b[90m<chr>\u001b[39m\u001b[23m NA, \"1992\", \"20.6467…\n",
            "$ X15                                               \u001b[3m\u001b[90m<chr>\u001b[39m\u001b[23m NA, \"1993\", \"21.2821…\n",
            "$ X16                                               \u001b[3m\u001b[90m<chr>\u001b[39m\u001b[23m NA, \"1994\", \"21.3963…\n",
            "$ X17                                               \u001b[3m\u001b[90m<chr>\u001b[39m\u001b[23m NA, \"1995\", \"21.6422…\n",
            "$ X18                                               \u001b[3m\u001b[90m<chr>\u001b[39m\u001b[23m NA, \"1996\", \"22.5757…\n",
            "$ X19                                               \u001b[3m\u001b[90m<chr>\u001b[39m\u001b[23m NA, \"1997\", \"23.2049…\n",
            "$ X20                                               \u001b[3m\u001b[90m<chr>\u001b[39m\u001b[23m NA, \"1998\", \"23.5002…\n",
            "$ X21                                               \u001b[3m\u001b[90m<chr>\u001b[39m\u001b[23m NA, \"1999\", \"23.4747…\n",
            "$ X22                                               \u001b[3m\u001b[90m<chr>\u001b[39m\u001b[23m NA, \"2000\", \"24.5558…\n",
            "$ X23                                               \u001b[3m\u001b[90m<chr>\u001b[39m\u001b[23m NA, \"2001\", \"23.6270…\n",
            "$ X24                                               \u001b[3m\u001b[90m<chr>\u001b[39m\u001b[23m NA, \"2002\", \"23.6987…\n",
            "$ X25                                               \u001b[3m\u001b[90m<chr>\u001b[39m\u001b[23m NA, \"2003\", \"24.1778…\n",
            "$ X26                                               \u001b[3m\u001b[90m<chr>\u001b[39m\u001b[23m NA, \"2004\", \"24.3602…\n",
            "$ X27                                               \u001b[3m\u001b[90m<chr>\u001b[39m\u001b[23m NA, \"2005\", \"24.6876…\n",
            "$ X28                                               \u001b[3m\u001b[90m<chr>\u001b[39m\u001b[23m NA, \"2006\", \"24.3217…\n",
            "$ X29                                               \u001b[3m\u001b[90m<chr>\u001b[39m\u001b[23m NA, \"2007\", \"24.5474…\n",
            "$ X30                                               \u001b[3m\u001b[90m<chr>\u001b[39m\u001b[23m NA, \"2008\", \"24.1199…\n",
            "$ X31                                               \u001b[3m\u001b[90m<chr>\u001b[39m\u001b[23m NA, \"2009\", \"21.1480…\n"
          ],
          "name": "stdout"
        }
      ]
    },
    {
      "cell_type": "code",
      "metadata": {
        "colab": {
          "base_uri": "https://localhost:8080/"
        },
        "id": "fxOmp8lUAhFN",
        "outputId": "9fb53217-0dee-4b5b-8a6a-131bd2356df0"
      },
      "source": [
        "# Read in the coal dataset\n",
        "coal <- read_csv(\"http://594442.youcanlearnit.net/coal.csv\", skip = 2)\n",
        "glimpse(coal)"
      ],
      "execution_count": 3,
      "outputs": [
        {
          "output_type": "stream",
          "text": [
            "Warning message:\n",
            "“Missing column names filled in: 'X1' [1]”\n",
            "\n",
            "\u001b[36m──\u001b[39m \u001b[1m\u001b[1mColumn specification\u001b[1m\u001b[22m \u001b[36m────────────────────────────────────────────────────────\u001b[39m\n",
            "cols(\n",
            "  .default = col_character()\n",
            ")\n",
            "\u001b[36mℹ\u001b[39m Use \u001b[30m\u001b[47m\u001b[30m\u001b[47m`spec()`\u001b[47m\u001b[30m\u001b[49m\u001b[39m for the full column specifications.\n",
            "\n",
            "\n"
          ],
          "name": "stderr"
        },
        {
          "output_type": "stream",
          "text": [
            "Rows: 232\n",
            "Columns: 31\n",
            "$ X1     \u001b[3m\u001b[90m<chr>\u001b[39m\u001b[23m \"North America\", \"Bermuda\", \"Canada\", \"Greenland\", \"Mexico\", \"S…\n",
            "$ `1980` \u001b[3m\u001b[90m<chr>\u001b[39m\u001b[23m \"16.45179\", \"0\", \"0.96156\", \"0.00005\", \"0.10239\", \"0\", \"15.3877…\n",
            "$ `1981` \u001b[3m\u001b[90m<chr>\u001b[39m\u001b[23m \"16.98772\", \"0\", \"0.99047\", \"0.00005\", \"0.10562\", \"0\", \"15.8915…\n",
            "$ `1982` \u001b[3m\u001b[90m<chr>\u001b[39m\u001b[23m \"16.47546\", \"0\", \"1.05584\", \"0.00003\", \"0.11967\", \"0\", \"15.2999…\n",
            "$ `1983` \u001b[3m\u001b[90m<chr>\u001b[39m\u001b[23m \"17.12407\", \"0\", \"1.11653\", \"0.00003\", \"0.12869\", \"0\", \"15.8788…\n",
            "$ `1984` \u001b[3m\u001b[90m<chr>\u001b[39m\u001b[23m \"18.4267\", \"0\", \"1.23682\", \"0.00003\", \"0.13071\", \"0\", \"17.05914…\n",
            "$ `1985` \u001b[3m\u001b[90m<chr>\u001b[39m\u001b[23m \"18.81819\", \"0\", \"1.20679\", \"0\", \"0.14646\", \"0\", \"17.46494\", \"0…\n",
            "$ `1986` \u001b[3m\u001b[90m<chr>\u001b[39m\u001b[23m \"18.52559\", \"0\", \"1.12583\", \"0\", \"0.15609\", \"0\", \"17.24367\", \"0…\n",
            "$ `1987` \u001b[3m\u001b[90m<chr>\u001b[39m\u001b[23m \"19.43781\", \"0\", \"1.25072\", \"0\", \"0.17001\", \"0\", \"18.01708\", \"0…\n",
            "$ `1988` \u001b[3m\u001b[90m<chr>\u001b[39m\u001b[23m \"20.40363\", \"0\", \"1.35809\", \"0\", \"0.15967\", \"0\", \"18.88587\", \"0…\n",
            "$ `1989` \u001b[3m\u001b[90m<chr>\u001b[39m\u001b[23m \"20.62571\", \"0\", \"1.35196\", \"0\", \"0.17359\", \"0\", \"19.10017\", \"0…\n",
            "$ `1990` \u001b[3m\u001b[90m<chr>\u001b[39m\u001b[23m \"20.5602\", \"0\", \"1.21338\", \"0\", \"0.1694\", \"0\", \"19.17742\", \"0.5…\n",
            "$ `1991` \u001b[3m\u001b[90m<chr>\u001b[39m\u001b[23m \"20.4251\", \"0\", \"1.26457\", \"0\", \"0.15916\", \"0\", \"19.00137\", \"0.…\n",
            "$ `1992` \u001b[3m\u001b[90m<chr>\u001b[39m\u001b[23m \"20.64672\", \"0\", \"1.32379\", \"0\", \"0.16584\", \"0\", \"19.15709\", \"0…\n",
            "$ `1993` \u001b[3m\u001b[90m<chr>\u001b[39m\u001b[23m \"21.28219\", \"0\", \"1.22875\", \"0\", \"0.19118\", \"0\", \"19.86225\", \"0…\n",
            "$ `1994` \u001b[3m\u001b[90m<chr>\u001b[39m\u001b[23m \"21.39631\", \"0\", \"1.24492\", \"0\", \"0.1836\", \"0\", \"19.96779\", \"0.…\n",
            "$ `1995` \u001b[3m\u001b[90m<chr>\u001b[39m\u001b[23m \"21.64225\", \"0\", \"1.28479\", \"0\", \"0.20768\", \"0\", \"20.14978\", \"0…\n",
            "$ `1996` \u001b[3m\u001b[90m<chr>\u001b[39m\u001b[23m \"22.57572\", \"0\", \"1.30032\", \"0\", \"0.25067\", \"0\", \"21.02473\", \"0…\n",
            "$ `1997` \u001b[3m\u001b[90m<chr>\u001b[39m\u001b[23m \"23.20491\", \"0\", \"1.44933\", \"0\", \"0.26373\", \"0\", \"21.49186\", \"0…\n",
            "$ `1998` \u001b[3m\u001b[90m<chr>\u001b[39m\u001b[23m \"23.5002\", \"0\", \"1.50985\", \"0\", \"0.26753\", \"0\", \"21.72283\", \"0.…\n",
            "$ `1999` \u001b[3m\u001b[90m<chr>\u001b[39m\u001b[23m \"23.4747\", \"0\", \"1.505\", \"0\", \"0.28947\", \"0\", \"21.68023\", \"0.77…\n",
            "$ `2000` \u001b[3m\u001b[90m<chr>\u001b[39m\u001b[23m \"24.55583\", \"0\", \"1.61651\", \"0\", \"0.29444\", \"0\", \"22.64488\", \"0…\n",
            "$ `2001` \u001b[3m\u001b[90m<chr>\u001b[39m\u001b[23m \"23.62705\", \"0\", \"1.35444\", \"0\", \"0.32908\", \"0\", \"21.94353\", \"0…\n",
            "$ `2002` \u001b[3m\u001b[90m<chr>\u001b[39m\u001b[23m \"23.69876\", \"0\", \"1.36876\", \"0\", \"0.36525\", \"0\", \"21.96475\", \"0…\n",
            "$ `2003` \u001b[3m\u001b[90m<chr>\u001b[39m\u001b[23m \"24.17788\", \"0\", \"1.38766\", \"0\", \"0.41878\", \"0\", \"22.37144\", \"0…\n",
            "$ `2004` \u001b[3m\u001b[90m<chr>\u001b[39m\u001b[23m \"24.36024\", \"0\", \"1.43684\", \"0\", \"0.31944\", \"0\", \"22.60396\", \"0…\n",
            "$ `2005` \u001b[3m\u001b[90m<chr>\u001b[39m\u001b[23m \"24.6876\", \"0\", \"1.44948\", \"0\", \"0.39739\", \"0\", \"22.84073\", \"0.…\n",
            "$ `2006` \u001b[3m\u001b[90m<chr>\u001b[39m\u001b[23m \"24.32174\", \"0\", \"1.42135\", \"0\", \"0.39244\", \"0\", \"22.50795\", \"0…\n",
            "$ `2007` \u001b[3m\u001b[90m<chr>\u001b[39m\u001b[23m \"24.54746\", \"0\", \"1.38369\", \"0\", \"0.38911\", \"0\", \"22.77466\", \"0…\n",
            "$ `2008` \u001b[3m\u001b[90m<chr>\u001b[39m\u001b[23m \"24.11993\", \"0\", \"1.37388\", \"0\", \"0.32008\", \"0\", \"22.42597\", \"1…\n",
            "$ `2009` \u001b[3m\u001b[90m<chr>\u001b[39m\u001b[23m \"21.14803\", \"0\", \"1.14314\", \"0\", \"0.3365\", \"0\", \"19.66839\", \"0.…\n"
          ],
          "name": "stdout"
        }
      ]
    },
    {
      "cell_type": "code",
      "metadata": {
        "id": "_4VoTw94AtWr"
      },
      "source": [
        "colnames(coal)[1] <- \"Region\""
      ],
      "execution_count": 5,
      "outputs": []
    },
    {
      "cell_type": "code",
      "metadata": {
        "colab": {
          "base_uri": "https://localhost:8080/"
        },
        "id": "iBhfm0LnA45C",
        "outputId": "5d838983-f89c-40a5-ec00-4e677ba810fa"
      },
      "source": [
        "glimpse(coal)"
      ],
      "execution_count": 6,
      "outputs": [
        {
          "output_type": "stream",
          "text": [
            "Rows: 232\n",
            "Columns: 31\n",
            "$ Region \u001b[3m\u001b[90m<chr>\u001b[39m\u001b[23m \"North America\", \"Bermuda\", \"Canada\", \"Greenland\", \"Mexico\", \"S…\n",
            "$ `1980` \u001b[3m\u001b[90m<chr>\u001b[39m\u001b[23m \"16.45179\", \"0\", \"0.96156\", \"0.00005\", \"0.10239\", \"0\", \"15.3877…\n",
            "$ `1981` \u001b[3m\u001b[90m<chr>\u001b[39m\u001b[23m \"16.98772\", \"0\", \"0.99047\", \"0.00005\", \"0.10562\", \"0\", \"15.8915…\n",
            "$ `1982` \u001b[3m\u001b[90m<chr>\u001b[39m\u001b[23m \"16.47546\", \"0\", \"1.05584\", \"0.00003\", \"0.11967\", \"0\", \"15.2999…\n",
            "$ `1983` \u001b[3m\u001b[90m<chr>\u001b[39m\u001b[23m \"17.12407\", \"0\", \"1.11653\", \"0.00003\", \"0.12869\", \"0\", \"15.8788…\n",
            "$ `1984` \u001b[3m\u001b[90m<chr>\u001b[39m\u001b[23m \"18.4267\", \"0\", \"1.23682\", \"0.00003\", \"0.13071\", \"0\", \"17.05914…\n",
            "$ `1985` \u001b[3m\u001b[90m<chr>\u001b[39m\u001b[23m \"18.81819\", \"0\", \"1.20679\", \"0\", \"0.14646\", \"0\", \"17.46494\", \"0…\n",
            "$ `1986` \u001b[3m\u001b[90m<chr>\u001b[39m\u001b[23m \"18.52559\", \"0\", \"1.12583\", \"0\", \"0.15609\", \"0\", \"17.24367\", \"0…\n",
            "$ `1987` \u001b[3m\u001b[90m<chr>\u001b[39m\u001b[23m \"19.43781\", \"0\", \"1.25072\", \"0\", \"0.17001\", \"0\", \"18.01708\", \"0…\n",
            "$ `1988` \u001b[3m\u001b[90m<chr>\u001b[39m\u001b[23m \"20.40363\", \"0\", \"1.35809\", \"0\", \"0.15967\", \"0\", \"18.88587\", \"0…\n",
            "$ `1989` \u001b[3m\u001b[90m<chr>\u001b[39m\u001b[23m \"20.62571\", \"0\", \"1.35196\", \"0\", \"0.17359\", \"0\", \"19.10017\", \"0…\n",
            "$ `1990` \u001b[3m\u001b[90m<chr>\u001b[39m\u001b[23m \"20.5602\", \"0\", \"1.21338\", \"0\", \"0.1694\", \"0\", \"19.17742\", \"0.5…\n",
            "$ `1991` \u001b[3m\u001b[90m<chr>\u001b[39m\u001b[23m \"20.4251\", \"0\", \"1.26457\", \"0\", \"0.15916\", \"0\", \"19.00137\", \"0.…\n",
            "$ `1992` \u001b[3m\u001b[90m<chr>\u001b[39m\u001b[23m \"20.64672\", \"0\", \"1.32379\", \"0\", \"0.16584\", \"0\", \"19.15709\", \"0…\n",
            "$ `1993` \u001b[3m\u001b[90m<chr>\u001b[39m\u001b[23m \"21.28219\", \"0\", \"1.22875\", \"0\", \"0.19118\", \"0\", \"19.86225\", \"0…\n",
            "$ `1994` \u001b[3m\u001b[90m<chr>\u001b[39m\u001b[23m \"21.39631\", \"0\", \"1.24492\", \"0\", \"0.1836\", \"0\", \"19.96779\", \"0.…\n",
            "$ `1995` \u001b[3m\u001b[90m<chr>\u001b[39m\u001b[23m \"21.64225\", \"0\", \"1.28479\", \"0\", \"0.20768\", \"0\", \"20.14978\", \"0…\n",
            "$ `1996` \u001b[3m\u001b[90m<chr>\u001b[39m\u001b[23m \"22.57572\", \"0\", \"1.30032\", \"0\", \"0.25067\", \"0\", \"21.02473\", \"0…\n",
            "$ `1997` \u001b[3m\u001b[90m<chr>\u001b[39m\u001b[23m \"23.20491\", \"0\", \"1.44933\", \"0\", \"0.26373\", \"0\", \"21.49186\", \"0…\n",
            "$ `1998` \u001b[3m\u001b[90m<chr>\u001b[39m\u001b[23m \"23.5002\", \"0\", \"1.50985\", \"0\", \"0.26753\", \"0\", \"21.72283\", \"0.…\n",
            "$ `1999` \u001b[3m\u001b[90m<chr>\u001b[39m\u001b[23m \"23.4747\", \"0\", \"1.505\", \"0\", \"0.28947\", \"0\", \"21.68023\", \"0.77…\n",
            "$ `2000` \u001b[3m\u001b[90m<chr>\u001b[39m\u001b[23m \"24.55583\", \"0\", \"1.61651\", \"0\", \"0.29444\", \"0\", \"22.64488\", \"0…\n",
            "$ `2001` \u001b[3m\u001b[90m<chr>\u001b[39m\u001b[23m \"23.62705\", \"0\", \"1.35444\", \"0\", \"0.32908\", \"0\", \"21.94353\", \"0…\n",
            "$ `2002` \u001b[3m\u001b[90m<chr>\u001b[39m\u001b[23m \"23.69876\", \"0\", \"1.36876\", \"0\", \"0.36525\", \"0\", \"21.96475\", \"0…\n",
            "$ `2003` \u001b[3m\u001b[90m<chr>\u001b[39m\u001b[23m \"24.17788\", \"0\", \"1.38766\", \"0\", \"0.41878\", \"0\", \"22.37144\", \"0…\n",
            "$ `2004` \u001b[3m\u001b[90m<chr>\u001b[39m\u001b[23m \"24.36024\", \"0\", \"1.43684\", \"0\", \"0.31944\", \"0\", \"22.60396\", \"0…\n",
            "$ `2005` \u001b[3m\u001b[90m<chr>\u001b[39m\u001b[23m \"24.6876\", \"0\", \"1.44948\", \"0\", \"0.39739\", \"0\", \"22.84073\", \"0.…\n",
            "$ `2006` \u001b[3m\u001b[90m<chr>\u001b[39m\u001b[23m \"24.32174\", \"0\", \"1.42135\", \"0\", \"0.39244\", \"0\", \"22.50795\", \"0…\n",
            "$ `2007` \u001b[3m\u001b[90m<chr>\u001b[39m\u001b[23m \"24.54746\", \"0\", \"1.38369\", \"0\", \"0.38911\", \"0\", \"22.77466\", \"0…\n",
            "$ `2008` \u001b[3m\u001b[90m<chr>\u001b[39m\u001b[23m \"24.11993\", \"0\", \"1.37388\", \"0\", \"0.32008\", \"0\", \"22.42597\", \"1…\n",
            "$ `2009` \u001b[3m\u001b[90m<chr>\u001b[39m\u001b[23m \"21.14803\", \"0\", \"1.14314\", \"0\", \"0.3365\", \"0\", \"19.66839\", \"0.…\n"
          ],
          "name": "stdout"
        }
      ]
    },
    {
      "cell_type": "code",
      "metadata": {
        "colab": {
          "base_uri": "https://localhost:8080/"
        },
        "id": "O-zqapR3A_zB",
        "outputId": "27b58cda-f3cc-47dc-a83e-49495abe5a84"
      },
      "source": [
        "print(coal, n=10)"
      ],
      "execution_count": 7,
      "outputs": [
        {
          "output_type": "stream",
          "text": [
            "\u001b[90m# A tibble: 232 x 31\u001b[39m\n",
            "   Region  `1980` `1981` `1982` `1983` `1984` `1985` `1986` `1987` `1988` `1989`\n",
            "   \u001b[3m\u001b[90m<chr>\u001b[39m\u001b[23m   \u001b[3m\u001b[90m<chr>\u001b[39m\u001b[23m  \u001b[3m\u001b[90m<chr>\u001b[39m\u001b[23m  \u001b[3m\u001b[90m<chr>\u001b[39m\u001b[23m  \u001b[3m\u001b[90m<chr>\u001b[39m\u001b[23m  \u001b[3m\u001b[90m<chr>\u001b[39m\u001b[23m  \u001b[3m\u001b[90m<chr>\u001b[39m\u001b[23m  \u001b[3m\u001b[90m<chr>\u001b[39m\u001b[23m  \u001b[3m\u001b[90m<chr>\u001b[39m\u001b[23m  \u001b[3m\u001b[90m<chr>\u001b[39m\u001b[23m  \u001b[3m\u001b[90m<chr>\u001b[39m\u001b[23m \n",
            "\u001b[90m 1\u001b[39m North … 16.45… 16.98… 16.47… 17.12… 18.42… 18.81… 18.52… 19.43… 20.40… 20.62…\n",
            "\u001b[90m 2\u001b[39m Bermuda 0      0      0      0      0      0      0      0      0      0     \n",
            "\u001b[90m 3\u001b[39m Canada  0.961… 0.990… 1.055… 1.116… 1.236… 1.206… 1.125… 1.250… 1.358… 1.351…\n",
            "\u001b[90m 4\u001b[39m Greenl… 0.000… 0.000… 0.000… 0.000… 0.000… 0      0      0      0      0     \n",
            "\u001b[90m 5\u001b[39m Mexico  0.102… 0.105… 0.119… 0.128… 0.130… 0.146… 0.156… 0.170… 0.159… 0.173…\n",
            "\u001b[90m 6\u001b[39m Saint … 0      0      0      0      0      0      0      0      0      0     \n",
            "\u001b[90m 7\u001b[39m United… 15.38… 15.89… 15.29… 15.87… 17.05… 17.46… 17.24… 18.01… 18.88… 19.10…\n",
            "\u001b[90m 8\u001b[39m Centra… 0.420… 0.413… 0.4154 0.466… 0.524… 0.591… 0.596… 0.615… 0.669… 0.6737\n",
            "\u001b[90m 9\u001b[39m Antarc… 0      0      0      0      0      0      0      0      0      0     \n",
            "\u001b[90m10\u001b[39m Antigu… 0      0      0      0      0      0      0      0      0      0     \n",
            "\u001b[90m# … with 222 more rows, and 20 more variables: 1990 <chr>, 1991 <chr>,\u001b[39m\n",
            "\u001b[90m#   1992 <chr>, 1993 <chr>, 1994 <chr>, 1995 <chr>, 1996 <chr>, 1997 <chr>,\u001b[39m\n",
            "\u001b[90m#   1998 <chr>, 1999 <chr>, 2000 <chr>, 2001 <chr>, 2002 <chr>, 2003 <chr>,\u001b[39m\n",
            "\u001b[90m#   2004 <chr>, 2005 <chr>, 2006 <chr>, 2007 <chr>, 2008 <chr>, 2009 <chr>\u001b[39m\n"
          ],
          "name": "stdout"
        }
      ]
    },
    {
      "cell_type": "code",
      "metadata": {
        "colab": {
          "base_uri": "https://localhost:8080/",
          "height": 285
        },
        "id": "x7ZpJ8IiBDzZ",
        "outputId": "57a0a5c6-b828-4c85-e691-37d8500336fb"
      },
      "source": [
        "head(coal)"
      ],
      "execution_count": 8,
      "outputs": [
        {
          "output_type": "display_data",
          "data": {
            "text/plain": [
              "  Region                    1980     1981     1982     1983     1984   \n",
              "1 North America             16.45179 16.98772 16.47546 17.12407 18.4267\n",
              "2 Bermuda                   0        0        0        0        0      \n",
              "3 Canada                    0.96156  0.99047  1.05584  1.11653  1.23682\n",
              "4 Greenland                 0.00005  0.00005  0.00003  0.00003  0.00003\n",
              "5 Mexico                    0.10239  0.10562  0.11967  0.12869  0.13071\n",
              "6 Saint Pierre and Miquelon 0        0        0        0        0      \n",
              "  1985     1986     1987     1988     ⋯ 2000     2001     2002     2003    \n",
              "1 18.81819 18.52559 19.43781 20.40363 ⋯ 24.55583 23.62705 23.69876 24.17788\n",
              "2 0        0        0        0        ⋯ 0        0        0        0       \n",
              "3 1.20679  1.12583  1.25072  1.35809  ⋯ 1.61651  1.35444  1.36876  1.38766 \n",
              "4 0        0        0        0        ⋯ 0        0        0        0       \n",
              "5 0.14646  0.15609  0.17001  0.15967  ⋯ 0.29444  0.32908  0.36525  0.41878 \n",
              "6 0        0        0        0        ⋯ 0        0        0        0       \n",
              "  2004     2005    2006     2007     2008     2009    \n",
              "1 24.36024 24.6876 24.32174 24.54746 24.11993 21.14803\n",
              "2 0        0       0        0        0        0       \n",
              "3 1.43684  1.44948 1.42135  1.38369  1.37388  1.14314 \n",
              "4 0        0       0        0        0        0       \n",
              "5 0.31944  0.39739 0.39244  0.38911  0.32008  0.3365  \n",
              "6 0        0       0        0        0        0       "
            ],
            "text/latex": "A tibble: 6 × 31\n\\begin{tabular}{lllllllllllllllllllll}\n Region & 1980 & 1981 & 1982 & 1983 & 1984 & 1985 & 1986 & 1987 & 1988 & ⋯ & 2000 & 2001 & 2002 & 2003 & 2004 & 2005 & 2006 & 2007 & 2008 & 2009\\\\\n <chr> & <chr> & <chr> & <chr> & <chr> & <chr> & <chr> & <chr> & <chr> & <chr> & ⋯ & <chr> & <chr> & <chr> & <chr> & <chr> & <chr> & <chr> & <chr> & <chr> & <chr>\\\\\n\\hline\n\t North America             & 16.45179 & 16.98772 & 16.47546 & 17.12407 & 18.4267 & 18.81819 & 18.52559 & 19.43781 & 20.40363 & ⋯ & 24.55583 & 23.62705 & 23.69876 & 24.17788 & 24.36024 & 24.6876 & 24.32174 & 24.54746 & 24.11993 & 21.14803\\\\\n\t Bermuda                   & 0        & 0        & 0        & 0        & 0       & 0        & 0        & 0        & 0        & ⋯ & 0        & 0        & 0        & 0        & 0        & 0       & 0        & 0        & 0        & 0       \\\\\n\t Canada                    & 0.96156  & 0.99047  & 1.05584  & 1.11653  & 1.23682 & 1.20679  & 1.12583  & 1.25072  & 1.35809  & ⋯ & 1.61651  & 1.35444  & 1.36876  & 1.38766  & 1.43684  & 1.44948 & 1.42135  & 1.38369  & 1.37388  & 1.14314 \\\\\n\t Greenland                 & 0.00005  & 0.00005  & 0.00003  & 0.00003  & 0.00003 & 0        & 0        & 0        & 0        & ⋯ & 0        & 0        & 0        & 0        & 0        & 0       & 0        & 0        & 0        & 0       \\\\\n\t Mexico                    & 0.10239  & 0.10562  & 0.11967  & 0.12869  & 0.13071 & 0.14646  & 0.15609  & 0.17001  & 0.15967  & ⋯ & 0.29444  & 0.32908  & 0.36525  & 0.41878  & 0.31944  & 0.39739 & 0.39244  & 0.38911  & 0.32008  & 0.3365  \\\\\n\t Saint Pierre and Miquelon & 0        & 0        & 0        & 0        & 0       & 0        & 0        & 0        & 0        & ⋯ & 0        & 0        & 0        & 0        & 0        & 0       & 0        & 0        & 0        & 0       \\\\\n\\end{tabular}\n",
            "text/markdown": "\nA tibble: 6 × 31\n\n| Region &lt;chr&gt; | 1980 &lt;chr&gt; | 1981 &lt;chr&gt; | 1982 &lt;chr&gt; | 1983 &lt;chr&gt; | 1984 &lt;chr&gt; | 1985 &lt;chr&gt; | 1986 &lt;chr&gt; | 1987 &lt;chr&gt; | 1988 &lt;chr&gt; | ⋯ ⋯ | 2000 &lt;chr&gt; | 2001 &lt;chr&gt; | 2002 &lt;chr&gt; | 2003 &lt;chr&gt; | 2004 &lt;chr&gt; | 2005 &lt;chr&gt; | 2006 &lt;chr&gt; | 2007 &lt;chr&gt; | 2008 &lt;chr&gt; | 2009 &lt;chr&gt; |\n|---|---|---|---|---|---|---|---|---|---|---|---|---|---|---|---|---|---|---|---|---|\n| North America             | 16.45179 | 16.98772 | 16.47546 | 17.12407 | 18.4267 | 18.81819 | 18.52559 | 19.43781 | 20.40363 | ⋯ | 24.55583 | 23.62705 | 23.69876 | 24.17788 | 24.36024 | 24.6876 | 24.32174 | 24.54746 | 24.11993 | 21.14803 |\n| Bermuda                   | 0        | 0        | 0        | 0        | 0       | 0        | 0        | 0        | 0        | ⋯ | 0        | 0        | 0        | 0        | 0        | 0       | 0        | 0        | 0        | 0        |\n| Canada                    | 0.96156  | 0.99047  | 1.05584  | 1.11653  | 1.23682 | 1.20679  | 1.12583  | 1.25072  | 1.35809  | ⋯ | 1.61651  | 1.35444  | 1.36876  | 1.38766  | 1.43684  | 1.44948 | 1.42135  | 1.38369  | 1.37388  | 1.14314  |\n| Greenland                 | 0.00005  | 0.00005  | 0.00003  | 0.00003  | 0.00003 | 0        | 0        | 0        | 0        | ⋯ | 0        | 0        | 0        | 0        | 0        | 0       | 0        | 0        | 0        | 0        |\n| Mexico                    | 0.10239  | 0.10562  | 0.11967  | 0.12869  | 0.13071 | 0.14646  | 0.15609  | 0.17001  | 0.15967  | ⋯ | 0.29444  | 0.32908  | 0.36525  | 0.41878  | 0.31944  | 0.39739 | 0.39244  | 0.38911  | 0.32008  | 0.3365   |\n| Saint Pierre and Miquelon | 0        | 0        | 0        | 0        | 0       | 0        | 0        | 0        | 0        | ⋯ | 0        | 0        | 0        | 0        | 0        | 0       | 0        | 0        | 0        | 0        |\n\n",
            "text/html": [
              "<table class=\"dataframe\">\n",
              "<caption>A tibble: 6 × 31</caption>\n",
              "<thead>\n",
              "\t<tr><th scope=col>Region</th><th scope=col>1980</th><th scope=col>1981</th><th scope=col>1982</th><th scope=col>1983</th><th scope=col>1984</th><th scope=col>1985</th><th scope=col>1986</th><th scope=col>1987</th><th scope=col>1988</th><th scope=col>⋯</th><th scope=col>2000</th><th scope=col>2001</th><th scope=col>2002</th><th scope=col>2003</th><th scope=col>2004</th><th scope=col>2005</th><th scope=col>2006</th><th scope=col>2007</th><th scope=col>2008</th><th scope=col>2009</th></tr>\n",
              "\t<tr><th scope=col>&lt;chr&gt;</th><th scope=col>&lt;chr&gt;</th><th scope=col>&lt;chr&gt;</th><th scope=col>&lt;chr&gt;</th><th scope=col>&lt;chr&gt;</th><th scope=col>&lt;chr&gt;</th><th scope=col>&lt;chr&gt;</th><th scope=col>&lt;chr&gt;</th><th scope=col>&lt;chr&gt;</th><th scope=col>&lt;chr&gt;</th><th scope=col>⋯</th><th scope=col>&lt;chr&gt;</th><th scope=col>&lt;chr&gt;</th><th scope=col>&lt;chr&gt;</th><th scope=col>&lt;chr&gt;</th><th scope=col>&lt;chr&gt;</th><th scope=col>&lt;chr&gt;</th><th scope=col>&lt;chr&gt;</th><th scope=col>&lt;chr&gt;</th><th scope=col>&lt;chr&gt;</th><th scope=col>&lt;chr&gt;</th></tr>\n",
              "</thead>\n",
              "<tbody>\n",
              "\t<tr><td>North America            </td><td>16.45179</td><td>16.98772</td><td>16.47546</td><td>17.12407</td><td>18.4267</td><td>18.81819</td><td>18.52559</td><td>19.43781</td><td>20.40363</td><td>⋯</td><td>24.55583</td><td>23.62705</td><td>23.69876</td><td>24.17788</td><td>24.36024</td><td>24.6876</td><td>24.32174</td><td>24.54746</td><td>24.11993</td><td>21.14803</td></tr>\n",
              "\t<tr><td>Bermuda                  </td><td>0       </td><td>0       </td><td>0       </td><td>0       </td><td>0      </td><td>0       </td><td>0       </td><td>0       </td><td>0       </td><td>⋯</td><td>0       </td><td>0       </td><td>0       </td><td>0       </td><td>0       </td><td>0      </td><td>0       </td><td>0       </td><td>0       </td><td>0       </td></tr>\n",
              "\t<tr><td>Canada                   </td><td>0.96156 </td><td>0.99047 </td><td>1.05584 </td><td>1.11653 </td><td>1.23682</td><td>1.20679 </td><td>1.12583 </td><td>1.25072 </td><td>1.35809 </td><td>⋯</td><td>1.61651 </td><td>1.35444 </td><td>1.36876 </td><td>1.38766 </td><td>1.43684 </td><td>1.44948</td><td>1.42135 </td><td>1.38369 </td><td>1.37388 </td><td>1.14314 </td></tr>\n",
              "\t<tr><td>Greenland                </td><td>0.00005 </td><td>0.00005 </td><td>0.00003 </td><td>0.00003 </td><td>0.00003</td><td>0       </td><td>0       </td><td>0       </td><td>0       </td><td>⋯</td><td>0       </td><td>0       </td><td>0       </td><td>0       </td><td>0       </td><td>0      </td><td>0       </td><td>0       </td><td>0       </td><td>0       </td></tr>\n",
              "\t<tr><td>Mexico                   </td><td>0.10239 </td><td>0.10562 </td><td>0.11967 </td><td>0.12869 </td><td>0.13071</td><td>0.14646 </td><td>0.15609 </td><td>0.17001 </td><td>0.15967 </td><td>⋯</td><td>0.29444 </td><td>0.32908 </td><td>0.36525 </td><td>0.41878 </td><td>0.31944 </td><td>0.39739</td><td>0.39244 </td><td>0.38911 </td><td>0.32008 </td><td>0.3365  </td></tr>\n",
              "\t<tr><td>Saint Pierre and Miquelon</td><td>0       </td><td>0       </td><td>0       </td><td>0       </td><td>0      </td><td>0       </td><td>0       </td><td>0       </td><td>0       </td><td>⋯</td><td>0       </td><td>0       </td><td>0       </td><td>0       </td><td>0       </td><td>0      </td><td>0       </td><td>0       </td><td>0       </td><td>0       </td></tr>\n",
              "</tbody>\n",
              "</table>\n"
            ]
          },
          "metadata": {
            "tags": []
          }
        }
      ]
    },
    {
      "cell_type": "code",
      "metadata": {
        "colab": {
          "base_uri": "https://localhost:8080/",
          "height": 599
        },
        "id": "YiD7UNhdBKqB",
        "outputId": "d7a22666-f9f8-4dd3-85bd-defd0a01d9a3"
      },
      "source": [
        "summary(coal)"
      ],
      "execution_count": 9,
      "outputs": [
        {
          "output_type": "display_data",
          "data": {
            "text/plain": [
              "    Region              1980               1981               1982          \n",
              " Length:232         Length:232         Length:232         Length:232        \n",
              " Class :character   Class :character   Class :character   Class :character  \n",
              " Mode  :character   Mode  :character   Mode  :character   Mode  :character  \n",
              "     1983               1984               1985               1986          \n",
              " Length:232         Length:232         Length:232         Length:232        \n",
              " Class :character   Class :character   Class :character   Class :character  \n",
              " Mode  :character   Mode  :character   Mode  :character   Mode  :character  \n",
              "     1987               1988               1989               1990          \n",
              " Length:232         Length:232         Length:232         Length:232        \n",
              " Class :character   Class :character   Class :character   Class :character  \n",
              " Mode  :character   Mode  :character   Mode  :character   Mode  :character  \n",
              "     1991               1992               1993               1994          \n",
              " Length:232         Length:232         Length:232         Length:232        \n",
              " Class :character   Class :character   Class :character   Class :character  \n",
              " Mode  :character   Mode  :character   Mode  :character   Mode  :character  \n",
              "     1995               1996               1997               1998          \n",
              " Length:232         Length:232         Length:232         Length:232        \n",
              " Class :character   Class :character   Class :character   Class :character  \n",
              " Mode  :character   Mode  :character   Mode  :character   Mode  :character  \n",
              "     1999               2000               2001               2002          \n",
              " Length:232         Length:232         Length:232         Length:232        \n",
              " Class :character   Class :character   Class :character   Class :character  \n",
              " Mode  :character   Mode  :character   Mode  :character   Mode  :character  \n",
              "     2003               2004               2005               2006          \n",
              " Length:232         Length:232         Length:232         Length:232        \n",
              " Class :character   Class :character   Class :character   Class :character  \n",
              " Mode  :character   Mode  :character   Mode  :character   Mode  :character  \n",
              "     2007               2008               2009          \n",
              " Length:232         Length:232         Length:232        \n",
              " Class :character   Class :character   Class :character  \n",
              " Mode  :character   Mode  :character   Mode  :character  "
            ]
          },
          "metadata": {
            "tags": []
          }
        }
      ]
    },
    {
      "cell_type": "code",
      "metadata": {
        "colab": {
          "base_uri": "https://localhost:8080/",
          "height": 285
        },
        "id": "2AjA2wPcBU7Z",
        "outputId": "a00b759f-7fdc-4916-b64d-a2358604618f"
      },
      "source": [
        "head(coal)"
      ],
      "execution_count": 12,
      "outputs": [
        {
          "output_type": "display_data",
          "data": {
            "text/plain": [
              "  Region                    1980     1981     1982     1983     1984   \n",
              "1 North America             16.45179 16.98772 16.47546 17.12407 18.4267\n",
              "2 Bermuda                   0        0        0        0        0      \n",
              "3 Canada                    0.96156  0.99047  1.05584  1.11653  1.23682\n",
              "4 Greenland                 0.00005  0.00005  0.00003  0.00003  0.00003\n",
              "5 Mexico                    0.10239  0.10562  0.11967  0.12869  0.13071\n",
              "6 Saint Pierre and Miquelon 0        0        0        0        0      \n",
              "  1985     1986     1987     1988     ⋯ 2000     2001     2002     2003    \n",
              "1 18.81819 18.52559 19.43781 20.40363 ⋯ 24.55583 23.62705 23.69876 24.17788\n",
              "2 0        0        0        0        ⋯ 0        0        0        0       \n",
              "3 1.20679  1.12583  1.25072  1.35809  ⋯ 1.61651  1.35444  1.36876  1.38766 \n",
              "4 0        0        0        0        ⋯ 0        0        0        0       \n",
              "5 0.14646  0.15609  0.17001  0.15967  ⋯ 0.29444  0.32908  0.36525  0.41878 \n",
              "6 0        0        0        0        ⋯ 0        0        0        0       \n",
              "  2004     2005    2006     2007     2008     2009    \n",
              "1 24.36024 24.6876 24.32174 24.54746 24.11993 21.14803\n",
              "2 0        0       0        0        0        0       \n",
              "3 1.43684  1.44948 1.42135  1.38369  1.37388  1.14314 \n",
              "4 0        0       0        0        0        0       \n",
              "5 0.31944  0.39739 0.39244  0.38911  0.32008  0.3365  \n",
              "6 0        0       0        0        0        0       "
            ],
            "text/latex": "A tibble: 6 × 31\n\\begin{tabular}{lllllllllllllllllllll}\n Region & 1980 & 1981 & 1982 & 1983 & 1984 & 1985 & 1986 & 1987 & 1988 & ⋯ & 2000 & 2001 & 2002 & 2003 & 2004 & 2005 & 2006 & 2007 & 2008 & 2009\\\\\n <chr> & <chr> & <chr> & <chr> & <chr> & <chr> & <chr> & <chr> & <chr> & <chr> & ⋯ & <chr> & <chr> & <chr> & <chr> & <chr> & <chr> & <chr> & <chr> & <chr> & <chr>\\\\\n\\hline\n\t North America             & 16.45179 & 16.98772 & 16.47546 & 17.12407 & 18.4267 & 18.81819 & 18.52559 & 19.43781 & 20.40363 & ⋯ & 24.55583 & 23.62705 & 23.69876 & 24.17788 & 24.36024 & 24.6876 & 24.32174 & 24.54746 & 24.11993 & 21.14803\\\\\n\t Bermuda                   & 0        & 0        & 0        & 0        & 0       & 0        & 0        & 0        & 0        & ⋯ & 0        & 0        & 0        & 0        & 0        & 0       & 0        & 0        & 0        & 0       \\\\\n\t Canada                    & 0.96156  & 0.99047  & 1.05584  & 1.11653  & 1.23682 & 1.20679  & 1.12583  & 1.25072  & 1.35809  & ⋯ & 1.61651  & 1.35444  & 1.36876  & 1.38766  & 1.43684  & 1.44948 & 1.42135  & 1.38369  & 1.37388  & 1.14314 \\\\\n\t Greenland                 & 0.00005  & 0.00005  & 0.00003  & 0.00003  & 0.00003 & 0        & 0        & 0        & 0        & ⋯ & 0        & 0        & 0        & 0        & 0        & 0       & 0        & 0        & 0        & 0       \\\\\n\t Mexico                    & 0.10239  & 0.10562  & 0.11967  & 0.12869  & 0.13071 & 0.14646  & 0.15609  & 0.17001  & 0.15967  & ⋯ & 0.29444  & 0.32908  & 0.36525  & 0.41878  & 0.31944  & 0.39739 & 0.39244  & 0.38911  & 0.32008  & 0.3365  \\\\\n\t Saint Pierre and Miquelon & 0        & 0        & 0        & 0        & 0       & 0        & 0        & 0        & 0        & ⋯ & 0        & 0        & 0        & 0        & 0        & 0       & 0        & 0        & 0        & 0       \\\\\n\\end{tabular}\n",
            "text/markdown": "\nA tibble: 6 × 31\n\n| Region &lt;chr&gt; | 1980 &lt;chr&gt; | 1981 &lt;chr&gt; | 1982 &lt;chr&gt; | 1983 &lt;chr&gt; | 1984 &lt;chr&gt; | 1985 &lt;chr&gt; | 1986 &lt;chr&gt; | 1987 &lt;chr&gt; | 1988 &lt;chr&gt; | ⋯ ⋯ | 2000 &lt;chr&gt; | 2001 &lt;chr&gt; | 2002 &lt;chr&gt; | 2003 &lt;chr&gt; | 2004 &lt;chr&gt; | 2005 &lt;chr&gt; | 2006 &lt;chr&gt; | 2007 &lt;chr&gt; | 2008 &lt;chr&gt; | 2009 &lt;chr&gt; |\n|---|---|---|---|---|---|---|---|---|---|---|---|---|---|---|---|---|---|---|---|---|\n| North America             | 16.45179 | 16.98772 | 16.47546 | 17.12407 | 18.4267 | 18.81819 | 18.52559 | 19.43781 | 20.40363 | ⋯ | 24.55583 | 23.62705 | 23.69876 | 24.17788 | 24.36024 | 24.6876 | 24.32174 | 24.54746 | 24.11993 | 21.14803 |\n| Bermuda                   | 0        | 0        | 0        | 0        | 0       | 0        | 0        | 0        | 0        | ⋯ | 0        | 0        | 0        | 0        | 0        | 0       | 0        | 0        | 0        | 0        |\n| Canada                    | 0.96156  | 0.99047  | 1.05584  | 1.11653  | 1.23682 | 1.20679  | 1.12583  | 1.25072  | 1.35809  | ⋯ | 1.61651  | 1.35444  | 1.36876  | 1.38766  | 1.43684  | 1.44948 | 1.42135  | 1.38369  | 1.37388  | 1.14314  |\n| Greenland                 | 0.00005  | 0.00005  | 0.00003  | 0.00003  | 0.00003 | 0        | 0        | 0        | 0        | ⋯ | 0        | 0        | 0        | 0        | 0        | 0       | 0        | 0        | 0        | 0        |\n| Mexico                    | 0.10239  | 0.10562  | 0.11967  | 0.12869  | 0.13071 | 0.14646  | 0.15609  | 0.17001  | 0.15967  | ⋯ | 0.29444  | 0.32908  | 0.36525  | 0.41878  | 0.31944  | 0.39739 | 0.39244  | 0.38911  | 0.32008  | 0.3365   |\n| Saint Pierre and Miquelon | 0        | 0        | 0        | 0        | 0       | 0        | 0        | 0        | 0        | ⋯ | 0        | 0        | 0        | 0        | 0        | 0       | 0        | 0        | 0        | 0        |\n\n",
            "text/html": [
              "<table class=\"dataframe\">\n",
              "<caption>A tibble: 6 × 31</caption>\n",
              "<thead>\n",
              "\t<tr><th scope=col>Region</th><th scope=col>1980</th><th scope=col>1981</th><th scope=col>1982</th><th scope=col>1983</th><th scope=col>1984</th><th scope=col>1985</th><th scope=col>1986</th><th scope=col>1987</th><th scope=col>1988</th><th scope=col>⋯</th><th scope=col>2000</th><th scope=col>2001</th><th scope=col>2002</th><th scope=col>2003</th><th scope=col>2004</th><th scope=col>2005</th><th scope=col>2006</th><th scope=col>2007</th><th scope=col>2008</th><th scope=col>2009</th></tr>\n",
              "\t<tr><th scope=col>&lt;chr&gt;</th><th scope=col>&lt;chr&gt;</th><th scope=col>&lt;chr&gt;</th><th scope=col>&lt;chr&gt;</th><th scope=col>&lt;chr&gt;</th><th scope=col>&lt;chr&gt;</th><th scope=col>&lt;chr&gt;</th><th scope=col>&lt;chr&gt;</th><th scope=col>&lt;chr&gt;</th><th scope=col>&lt;chr&gt;</th><th scope=col>⋯</th><th scope=col>&lt;chr&gt;</th><th scope=col>&lt;chr&gt;</th><th scope=col>&lt;chr&gt;</th><th scope=col>&lt;chr&gt;</th><th scope=col>&lt;chr&gt;</th><th scope=col>&lt;chr&gt;</th><th scope=col>&lt;chr&gt;</th><th scope=col>&lt;chr&gt;</th><th scope=col>&lt;chr&gt;</th><th scope=col>&lt;chr&gt;</th></tr>\n",
              "</thead>\n",
              "<tbody>\n",
              "\t<tr><td>North America            </td><td>16.45179</td><td>16.98772</td><td>16.47546</td><td>17.12407</td><td>18.4267</td><td>18.81819</td><td>18.52559</td><td>19.43781</td><td>20.40363</td><td>⋯</td><td>24.55583</td><td>23.62705</td><td>23.69876</td><td>24.17788</td><td>24.36024</td><td>24.6876</td><td>24.32174</td><td>24.54746</td><td>24.11993</td><td>21.14803</td></tr>\n",
              "\t<tr><td>Bermuda                  </td><td>0       </td><td>0       </td><td>0       </td><td>0       </td><td>0      </td><td>0       </td><td>0       </td><td>0       </td><td>0       </td><td>⋯</td><td>0       </td><td>0       </td><td>0       </td><td>0       </td><td>0       </td><td>0      </td><td>0       </td><td>0       </td><td>0       </td><td>0       </td></tr>\n",
              "\t<tr><td>Canada                   </td><td>0.96156 </td><td>0.99047 </td><td>1.05584 </td><td>1.11653 </td><td>1.23682</td><td>1.20679 </td><td>1.12583 </td><td>1.25072 </td><td>1.35809 </td><td>⋯</td><td>1.61651 </td><td>1.35444 </td><td>1.36876 </td><td>1.38766 </td><td>1.43684 </td><td>1.44948</td><td>1.42135 </td><td>1.38369 </td><td>1.37388 </td><td>1.14314 </td></tr>\n",
              "\t<tr><td>Greenland                </td><td>0.00005 </td><td>0.00005 </td><td>0.00003 </td><td>0.00003 </td><td>0.00003</td><td>0       </td><td>0       </td><td>0       </td><td>0       </td><td>⋯</td><td>0       </td><td>0       </td><td>0       </td><td>0       </td><td>0       </td><td>0      </td><td>0       </td><td>0       </td><td>0       </td><td>0       </td></tr>\n",
              "\t<tr><td>Mexico                   </td><td>0.10239 </td><td>0.10562 </td><td>0.11967 </td><td>0.12869 </td><td>0.13071</td><td>0.14646 </td><td>0.15609 </td><td>0.17001 </td><td>0.15967 </td><td>⋯</td><td>0.29444 </td><td>0.32908 </td><td>0.36525 </td><td>0.41878 </td><td>0.31944 </td><td>0.39739</td><td>0.39244 </td><td>0.38911 </td><td>0.32008 </td><td>0.3365  </td></tr>\n",
              "\t<tr><td>Saint Pierre and Miquelon</td><td>0       </td><td>0       </td><td>0       </td><td>0       </td><td>0      </td><td>0       </td><td>0       </td><td>0       </td><td>0       </td><td>⋯</td><td>0       </td><td>0       </td><td>0       </td><td>0       </td><td>0       </td><td>0      </td><td>0       </td><td>0       </td><td>0       </td><td>0       </td></tr>\n",
              "</tbody>\n",
              "</table>\n"
            ]
          },
          "metadata": {
            "tags": []
          }
        }
      ]
    },
    {
      "cell_type": "markdown",
      "metadata": {
        "id": "1oRyxld9HqJm"
      },
      "source": [
        "# Data Cleaning / Data Wrangling"
      ]
    },
    {
      "cell_type": "markdown",
      "metadata": {
        "id": "sZ_1av1MBcIs"
      },
      "source": [
        "Convert from wide to long"
      ]
    },
    {
      "cell_type": "code",
      "metadata": {
        "id": "vPlju1r8BgHN"
      },
      "source": [
        "?gather"
      ],
      "execution_count": 11,
      "outputs": []
    },
    {
      "cell_type": "code",
      "metadata": {
        "colab": {
          "base_uri": "https://localhost:8080/"
        },
        "id": "cpPnf_jLBkYp",
        "outputId": "b77a107d-4185-4a9e-ab31-aacdcd85ff0c"
      },
      "source": [
        "coal.long <- gather( coal, \"year\", \"coal_consumption\", -Region )\n",
        "print(coal.long, n=10)"
      ],
      "execution_count": 17,
      "outputs": [
        {
          "output_type": "stream",
          "text": [
            "\u001b[90m# A tibble: 6,960 x 3\u001b[39m\n",
            "   Region                    year  coal_consumption\n",
            "   \u001b[3m\u001b[90m<chr>\u001b[39m\u001b[23m                     \u001b[3m\u001b[90m<chr>\u001b[39m\u001b[23m \u001b[3m\u001b[90m<chr>\u001b[39m\u001b[23m           \n",
            "\u001b[90m 1\u001b[39m North America             1980  16.45179        \n",
            "\u001b[90m 2\u001b[39m Bermuda                   1980  0               \n",
            "\u001b[90m 3\u001b[39m Canada                    1980  0.96156         \n",
            "\u001b[90m 4\u001b[39m Greenland                 1980  0.00005         \n",
            "\u001b[90m 5\u001b[39m Mexico                    1980  0.10239         \n",
            "\u001b[90m 6\u001b[39m Saint Pierre and Miquelon 1980  0               \n",
            "\u001b[90m 7\u001b[39m United States             1980  15.38779        \n",
            "\u001b[90m 8\u001b[39m Central & South America   1980  0.42011         \n",
            "\u001b[90m 9\u001b[39m Antarctica                1980  0               \n",
            "\u001b[90m10\u001b[39m Antigua and Barbuda       1980  0               \n",
            "\u001b[90m# … with 6,950 more rows\u001b[39m\n"
          ],
          "name": "stdout"
        }
      ]
    },
    {
      "cell_type": "code",
      "metadata": {
        "colab": {
          "base_uri": "https://localhost:8080/"
        },
        "id": "mkh2UOr4CVCE",
        "outputId": "190fd91e-e393-4fef-aad8-acdd3dfdbdad"
      },
      "source": [
        "glimpse(coal.long)"
      ],
      "execution_count": 18,
      "outputs": [
        {
          "output_type": "stream",
          "text": [
            "Rows: 6,960\n",
            "Columns: 3\n",
            "$ Region           \u001b[3m\u001b[90m<chr>\u001b[39m\u001b[23m \"North America\", \"Bermuda\", \"Canada\", \"Greenland\", \"M…\n",
            "$ year             \u001b[3m\u001b[90m<chr>\u001b[39m\u001b[23m \"1980\", \"1980\", \"1980\", \"1980\", \"1980\", \"1980\", \"1980…\n",
            "$ coal_consumption \u001b[3m\u001b[90m<chr>\u001b[39m\u001b[23m \"16.45179\", \"0\", \"0.96156\", \"0.00005\", \"0.10239\", \"0\"…\n"
          ],
          "name": "stdout"
        }
      ]
    },
    {
      "cell_type": "code",
      "metadata": {
        "id": "h478Nsu_CaRM"
      },
      "source": [
        "coal.long$year <- as.integer(coal.long$year)"
      ],
      "execution_count": 19,
      "outputs": []
    },
    {
      "cell_type": "code",
      "metadata": {
        "colab": {
          "base_uri": "https://localhost:8080/"
        },
        "id": "jYkMhgblCgOm",
        "outputId": "766951ce-333f-4933-8d10-27ae8297a4e0"
      },
      "source": [
        "coal.long$coal_consumption <- as.numeric(coal.long$coal_consumption)"
      ],
      "execution_count": 20,
      "outputs": [
        {
          "output_type": "stream",
          "text": [
            "Warning message in eval(expr, envir, enclos):\n",
            "“NAs introduced by coercion”\n"
          ],
          "name": "stderr"
        }
      ]
    },
    {
      "cell_type": "code",
      "metadata": {
        "colab": {
          "base_uri": "https://localhost:8080/",
          "height": 163
        },
        "id": "uaAD1rkkCnNg",
        "outputId": "c2fa24ed-6004-417a-feb1-d971755a8347"
      },
      "source": [
        "summary(coal.long)"
      ],
      "execution_count": 21,
      "outputs": [
        {
          "output_type": "display_data",
          "data": {
            "text/plain": [
              "    Region               year      coal_consumption  \n",
              " Length:6960        Min.   :1980   Min.   : -0.0003  \n",
              " Class :character   1st Qu.:1987   1st Qu.:  0.0000  \n",
              " Mode  :character   Median :1994   Median :  0.0002  \n",
              "                    Mean   :1994   Mean   :  1.3256  \n",
              "                    3rd Qu.:2002   3rd Qu.:  0.0773  \n",
              "                    Max.   :2009   Max.   :138.8298  \n",
              "                                   NA's   :517       "
            ]
          },
          "metadata": {
            "tags": []
          }
        }
      ]
    },
    {
      "cell_type": "code",
      "metadata": {
        "colab": {
          "base_uri": "https://localhost:8080/"
        },
        "id": "pKFsGglPCtuh",
        "outputId": "80f56091-92a5-49a4-9cde-6aba224ff001"
      },
      "source": [
        "glimpse(coal.long)"
      ],
      "execution_count": 22,
      "outputs": [
        {
          "output_type": "stream",
          "text": [
            "Rows: 6,960\n",
            "Columns: 3\n",
            "$ Region           \u001b[3m\u001b[90m<chr>\u001b[39m\u001b[23m \"North America\", \"Bermuda\", \"Canada\", \"Greenland\", \"M…\n",
            "$ year             \u001b[3m\u001b[90m<int>\u001b[39m\u001b[23m 1980, 1980, 1980, 1980, 1980, 1980, 1980, 1980, 1980,…\n",
            "$ coal_consumption \u001b[3m\u001b[90m<dbl>\u001b[39m\u001b[23m 16.45179, 0.00000, 0.96156, 0.00005, 0.10239, 0.00000…\n"
          ],
          "name": "stdout"
        }
      ]
    },
    {
      "cell_type": "code",
      "metadata": {
        "colab": {
          "base_uri": "https://localhost:8080/",
          "height": 242
        },
        "id": "_s5u6gK_C4uC",
        "outputId": "0dc548fd-4e79-4e4e-8c4d-077ac27684e5"
      },
      "source": [
        "# Get unique regions\n",
        "unique(coal.long$Region)"
      ],
      "execution_count": 23,
      "outputs": [
        {
          "output_type": "display_data",
          "data": {
            "text/plain": [
              "  [1] \"North America\"                     \"Bermuda\"                          \n",
              "  [3] \"Canada\"                            \"Greenland\"                        \n",
              "  [5] \"Mexico\"                            \"Saint Pierre and Miquelon\"        \n",
              "  [7] \"United States\"                     \"Central & South America\"          \n",
              "  [9] \"Antarctica\"                        \"Antigua and Barbuda\"              \n",
              " [11] \"Argentina\"                         \"Aruba\"                            \n",
              " [13] \"Bahamas, The\"                      \"Barbados\"                         \n",
              " [15] \"Belize\"                            \"Bolivia\"                          \n",
              " [17] \"Brazil\"                            \"Cayman Islands\"                   \n",
              " [19] \"Chile\"                             \"Colombia\"                         \n",
              " [21] \"Costa Rica\"                        \"Cuba\"                             \n",
              " [23] \"Dominica\"                          \"Dominican Republic\"               \n",
              " [25] \"Ecuador\"                           \"El Salvador\"                      \n",
              " [27] \"Falkland Islands (Islas Malvinas)\" \"French Guiana\"                    \n",
              " [29] \"Grenada\"                           \"Guadeloupe\"                       \n",
              " [31] \"Guatemala\"                         \"Guyana\"                           \n",
              " [33] \"Haiti\"                             \"Honduras\"                         \n",
              " [35] \"Jamaica\"                           \"Martinique\"                       \n",
              " [37] \"Montserrat\"                        \"Netherlands Antilles\"             \n",
              " [39] \"Nicaragua\"                         \"Panama\"                           \n",
              " [41] \"Paraguay\"                          \"Peru\"                             \n",
              " [43] \"Puerto Rico\"                       \"Saint Kitts and Nevis\"            \n",
              " [45] \"Saint Lucia\"                       \"Saint Vincent/Grenadines\"         \n",
              " [47] \"Suriname\"                          \"Trinidad and Tobago\"              \n",
              " [49] \"Turks and Caicos Islands\"          \"Uruguay\"                          \n",
              " [51] \"Venezuela\"                         \"Virgin Islands,  U.S.\"            \n",
              " [53] \"Virgin Islands, British\"           \"Europe\"                           \n",
              " [55] \"Albania\"                           \"Austria\"                          \n",
              " [57] \"Belgium\"                           \"Bosnia and Herzegovina\"           \n",
              " [59] \"Bulgaria\"                          \"Croatia\"                          \n",
              " [61] \"Cyprus\"                            \"Czech Republic\"                   \n",
              " [63] \"Denmark\"                           \"Faroe Islands\"                    \n",
              " [65] \"Finland\"                           \"Former Czechoslovakia\"            \n",
              " [67] \"Former Serbia and Montenegro\"      \"Former Yugoslavia\"                \n",
              " [69] \"France\"                            \"Germany\"                          \n",
              " [71] \"Germany, East\"                     \"Germany, West\"                    \n",
              " [73] \"Gibraltar\"                         \"Greece\"                           \n",
              " [75] \"Hungary\"                           \"Iceland\"                          \n",
              " [77] \"Ireland\"                           \"Italy\"                            \n",
              " [79] \"Luxembourg\"                        \"Macedonia\"                        \n",
              " [81] \"Malta\"                             \"Montenegro\"                       \n",
              " [83] \"Netherlands\"                       \"Norway\"                           \n",
              " [85] \"Poland\"                            \"Portugal\"                         \n",
              " [87] \"Romania\"                           \"Serbia\"                           \n",
              " [89] \"Slovakia\"                          \"Slovenia\"                         \n",
              " [91] \"Spain\"                             \"Sweden\"                           \n",
              " [93] \"Switzerland\"                       \"Turkey\"                           \n",
              " [95] \"United Kingdom\"                    \"Eurasia\"                          \n",
              " [97] \"Armenia\"                           \"Azerbaijan\"                       \n",
              " [99] \"Belarus\"                           \"Estonia\"                          \n",
              "[101] \"Former U.S.S.R.\"                   \"Georgia\"                          \n",
              "[103] \"Kazakhstan\"                        \"Kyrgyzstan\"                       \n",
              "[105] \"Latvia\"                            \"Lithuania\"                        \n",
              "[107] \"Moldova\"                           \"Russia\"                           \n",
              "[109] \"Tajikistan\"                        \"Turkmenistan\"                     \n",
              "[111] \"Ukraine\"                           \"Uzbekistan\"                       \n",
              "[113] \"Middle East\"                       \"Bahrain\"                          \n",
              "[115] \"Iran\"                              \"Iraq\"                             \n",
              "[117] \"Israel\"                            \"Jordan\"                           \n",
              "[119] \"Kuwait\"                            \"Lebanon\"                          \n",
              "[121] \"Oman\"                              \"Palestine\"                        \n",
              "[123] \"Qatar\"                             \"Saudi Arabia\"                     \n",
              "[125] \"Syria\"                             \"United Arab Emirates\"             \n",
              "[127] \"Yemen\"                             \"Africa\"                           \n",
              "[129] \"Algeria\"                           \"Angola\"                           \n",
              "[131] \"Benin\"                             \"Botswana\"                         \n",
              "[133] \"Burkina Faso\"                      \"Burundi\"                          \n",
              "[135] \"Cameroon\"                          \"Cape Verde\"                       \n",
              "[137] \"Central African Republic\"          \"Chad\"                             \n",
              "[139] \"Comoros\"                           \"Congo (Brazzaville)\"              \n",
              "[141] \"Congo (Kinshasa)\"                  \"Cote dIvoire (IvoryCoast)\"        \n",
              "[143] \"Djibouti\"                          \"Egypt\"                            \n",
              "[145] \"Equatorial Guinea\"                 \"Eritrea\"                          \n",
              "[147] \"Ethiopia\"                          \"Gabon\"                            \n",
              "[149] \"Gambia, The\"                       \"Ghana\"                            \n",
              "[151] \"Guinea\"                            \"Guinea-Bissau\"                    \n",
              "[153] \"Kenya\"                             \"Lesotho\"                          \n",
              "[155] \"Liberia\"                           \"Libya\"                            \n",
              "[157] \"Madagascar\"                        \"Malawi\"                           \n",
              "[159] \"Mali\"                              \"Mauritania\"                       \n",
              "[161] \"Mauritius\"                         \"Morocco\"                          \n",
              "[163] \"Mozambique\"                        \"Namibia\"                          \n",
              "[165] \"Niger\"                             \"Nigeria\"                          \n",
              "[167] \"Reunion\"                           \"Rwanda\"                           \n",
              "[169] \"Saint Helena\"                      \"Sao Tome and Principe\"            \n",
              "[171] \"Senegal\"                           \"Seychelles\"                       \n",
              "[173] \"Sierra Leone\"                      \"Somalia\"                          \n",
              "[175] \"South Africa\"                      \"Sudan\"                            \n",
              "[177] \"Swaziland\"                         \"Tanzania\"                         \n",
              "[179] \"Togo\"                              \"Tunisia\"                          \n",
              "[181] \"Uganda\"                            \"Western Sahara\"                   \n",
              "[183] \"Zambia\"                            \"Zimbabwe\"                         \n",
              "[185] \"Asia & Oceania\"                    \"Afghanistan\"                      \n",
              "[187] \"American Samoa\"                    \"Australia\"                        \n",
              "[189] \"Bangladesh\"                        \"Bhutan\"                           \n",
              "[191] \"Brunei\"                            \"Burma (Myanmar)\"                  \n",
              "[193] \"Cambodia\"                          \"China\"                            \n",
              "[195] \"Cook Islands\"                      \"Fiji\"                             \n",
              "[197] \"French Polynesia\"                  \"Guam\"                             \n",
              "[199] \"Hawaiian Trade Zone\"               \"Hong Kong\"                        \n",
              "[201] \"India\"                             \"Indonesia\"                        \n",
              "[203] \"Japan\"                             \"Kiribati\"                         \n",
              "[205] \"Korea, North\"                      \"Korea, South\"                     \n",
              "[207] \"Laos\"                              \"Macau\"                            \n",
              "[209] \"Malaysia\"                          \"Maldives\"                         \n",
              "[211] \"Mongolia\"                          \"Nauru\"                            \n",
              "[213] \"Nepal\"                             \"New Caledonia\"                    \n",
              "[215] \"New Zealand\"                       \"Niue\"                             \n",
              "[217] \"Pakistan\"                          \"Papua New Guinea\"                 \n",
              "[219] \"Philippines\"                       \"Samoa\"                            \n",
              "[221] \"Singapore\"                         \"Solomon Islands\"                  \n",
              "[223] \"Sri Lanka\"                         \"Taiwan\"                           \n",
              "[225] \"Thailand\"                          \"Timor-Leste (East Timor)\"         \n",
              "[227] \"Tonga\"                             \"U.S. Pacific Islands\"             \n",
              "[229] \"Vanuatu\"                           \"Vietnam\"                          \n",
              "[231] \"Wake Island\"                       \"World\"                            "
            ],
            "text/latex": "\\begin{enumerate*}\n\\item 'North America'\n\\item 'Bermuda'\n\\item 'Canada'\n\\item 'Greenland'\n\\item 'Mexico'\n\\item 'Saint Pierre and Miquelon'\n\\item 'United States'\n\\item 'Central \\& South America'\n\\item 'Antarctica'\n\\item 'Antigua and Barbuda'\n\\item 'Argentina'\n\\item 'Aruba'\n\\item 'Bahamas, The'\n\\item 'Barbados'\n\\item 'Belize'\n\\item 'Bolivia'\n\\item 'Brazil'\n\\item 'Cayman Islands'\n\\item 'Chile'\n\\item 'Colombia'\n\\item 'Costa Rica'\n\\item 'Cuba'\n\\item 'Dominica'\n\\item 'Dominican Republic'\n\\item 'Ecuador'\n\\item 'El Salvador'\n\\item 'Falkland Islands (Islas Malvinas)'\n\\item 'French Guiana'\n\\item 'Grenada'\n\\item 'Guadeloupe'\n\\item 'Guatemala'\n\\item 'Guyana'\n\\item 'Haiti'\n\\item 'Honduras'\n\\item 'Jamaica'\n\\item 'Martinique'\n\\item 'Montserrat'\n\\item 'Netherlands Antilles'\n\\item 'Nicaragua'\n\\item 'Panama'\n\\item 'Paraguay'\n\\item 'Peru'\n\\item 'Puerto Rico'\n\\item 'Saint Kitts and Nevis'\n\\item 'Saint Lucia'\n\\item 'Saint Vincent/Grenadines'\n\\item 'Suriname'\n\\item 'Trinidad and Tobago'\n\\item 'Turks and Caicos Islands'\n\\item 'Uruguay'\n\\item 'Venezuela'\n\\item 'Virgin Islands,  U.S.'\n\\item 'Virgin Islands, British'\n\\item 'Europe'\n\\item 'Albania'\n\\item 'Austria'\n\\item 'Belgium'\n\\item 'Bosnia and Herzegovina'\n\\item 'Bulgaria'\n\\item 'Croatia'\n\\item 'Cyprus'\n\\item 'Czech Republic'\n\\item 'Denmark'\n\\item 'Faroe Islands'\n\\item 'Finland'\n\\item 'Former Czechoslovakia'\n\\item 'Former Serbia and Montenegro'\n\\item 'Former Yugoslavia'\n\\item 'France'\n\\item 'Germany'\n\\item 'Germany, East'\n\\item 'Germany, West'\n\\item 'Gibraltar'\n\\item 'Greece'\n\\item 'Hungary'\n\\item 'Iceland'\n\\item 'Ireland'\n\\item 'Italy'\n\\item 'Luxembourg'\n\\item 'Macedonia'\n\\item 'Malta'\n\\item 'Montenegro'\n\\item 'Netherlands'\n\\item 'Norway'\n\\item 'Poland'\n\\item 'Portugal'\n\\item 'Romania'\n\\item 'Serbia'\n\\item 'Slovakia'\n\\item 'Slovenia'\n\\item 'Spain'\n\\item 'Sweden'\n\\item 'Switzerland'\n\\item 'Turkey'\n\\item 'United Kingdom'\n\\item 'Eurasia'\n\\item 'Armenia'\n\\item 'Azerbaijan'\n\\item 'Belarus'\n\\item 'Estonia'\n\\item 'Former U.S.S.R.'\n\\item 'Georgia'\n\\item 'Kazakhstan'\n\\item 'Kyrgyzstan'\n\\item 'Latvia'\n\\item 'Lithuania'\n\\item 'Moldova'\n\\item 'Russia'\n\\item 'Tajikistan'\n\\item 'Turkmenistan'\n\\item 'Ukraine'\n\\item 'Uzbekistan'\n\\item 'Middle East'\n\\item 'Bahrain'\n\\item 'Iran'\n\\item 'Iraq'\n\\item 'Israel'\n\\item 'Jordan'\n\\item 'Kuwait'\n\\item 'Lebanon'\n\\item 'Oman'\n\\item 'Palestine'\n\\item 'Qatar'\n\\item 'Saudi Arabia'\n\\item 'Syria'\n\\item 'United Arab Emirates'\n\\item 'Yemen'\n\\item 'Africa'\n\\item 'Algeria'\n\\item 'Angola'\n\\item 'Benin'\n\\item 'Botswana'\n\\item 'Burkina Faso'\n\\item 'Burundi'\n\\item 'Cameroon'\n\\item 'Cape Verde'\n\\item 'Central African Republic'\n\\item 'Chad'\n\\item 'Comoros'\n\\item 'Congo (Brazzaville)'\n\\item 'Congo (Kinshasa)'\n\\item 'Cote dIvoire (IvoryCoast)'\n\\item 'Djibouti'\n\\item 'Egypt'\n\\item 'Equatorial Guinea'\n\\item 'Eritrea'\n\\item 'Ethiopia'\n\\item 'Gabon'\n\\item 'Gambia, The'\n\\item 'Ghana'\n\\item 'Guinea'\n\\item 'Guinea-Bissau'\n\\item 'Kenya'\n\\item 'Lesotho'\n\\item 'Liberia'\n\\item 'Libya'\n\\item 'Madagascar'\n\\item 'Malawi'\n\\item 'Mali'\n\\item 'Mauritania'\n\\item 'Mauritius'\n\\item 'Morocco'\n\\item 'Mozambique'\n\\item 'Namibia'\n\\item 'Niger'\n\\item 'Nigeria'\n\\item 'Reunion'\n\\item 'Rwanda'\n\\item 'Saint Helena'\n\\item 'Sao Tome and Principe'\n\\item 'Senegal'\n\\item 'Seychelles'\n\\item 'Sierra Leone'\n\\item 'Somalia'\n\\item 'South Africa'\n\\item 'Sudan'\n\\item 'Swaziland'\n\\item 'Tanzania'\n\\item 'Togo'\n\\item 'Tunisia'\n\\item 'Uganda'\n\\item 'Western Sahara'\n\\item 'Zambia'\n\\item 'Zimbabwe'\n\\item 'Asia \\& Oceania'\n\\item 'Afghanistan'\n\\item 'American Samoa'\n\\item 'Australia'\n\\item 'Bangladesh'\n\\item 'Bhutan'\n\\item 'Brunei'\n\\item 'Burma (Myanmar)'\n\\item 'Cambodia'\n\\item 'China'\n\\item 'Cook Islands'\n\\item 'Fiji'\n\\item 'French Polynesia'\n\\item 'Guam'\n\\item 'Hawaiian Trade Zone'\n\\item 'Hong Kong'\n\\item 'India'\n\\item 'Indonesia'\n\\item 'Japan'\n\\item 'Kiribati'\n\\item 'Korea, North'\n\\item 'Korea, South'\n\\item 'Laos'\n\\item 'Macau'\n\\item 'Malaysia'\n\\item 'Maldives'\n\\item 'Mongolia'\n\\item 'Nauru'\n\\item 'Nepal'\n\\item 'New Caledonia'\n\\item 'New Zealand'\n\\item 'Niue'\n\\item 'Pakistan'\n\\item 'Papua New Guinea'\n\\item 'Philippines'\n\\item 'Samoa'\n\\item 'Singapore'\n\\item 'Solomon Islands'\n\\item 'Sri Lanka'\n\\item 'Taiwan'\n\\item 'Thailand'\n\\item 'Timor-Leste (East Timor)'\n\\item 'Tonga'\n\\item 'U.S. Pacific Islands'\n\\item 'Vanuatu'\n\\item 'Vietnam'\n\\item 'Wake Island'\n\\item 'World'\n\\end{enumerate*}\n",
            "text/markdown": "1. 'North America'\n2. 'Bermuda'\n3. 'Canada'\n4. 'Greenland'\n5. 'Mexico'\n6. 'Saint Pierre and Miquelon'\n7. 'United States'\n8. 'Central &amp; South America'\n9. 'Antarctica'\n10. 'Antigua and Barbuda'\n11. 'Argentina'\n12. 'Aruba'\n13. 'Bahamas, The'\n14. 'Barbados'\n15. 'Belize'\n16. 'Bolivia'\n17. 'Brazil'\n18. 'Cayman Islands'\n19. 'Chile'\n20. 'Colombia'\n21. 'Costa Rica'\n22. 'Cuba'\n23. 'Dominica'\n24. 'Dominican Republic'\n25. 'Ecuador'\n26. 'El Salvador'\n27. 'Falkland Islands (Islas Malvinas)'\n28. 'French Guiana'\n29. 'Grenada'\n30. 'Guadeloupe'\n31. 'Guatemala'\n32. 'Guyana'\n33. 'Haiti'\n34. 'Honduras'\n35. 'Jamaica'\n36. 'Martinique'\n37. 'Montserrat'\n38. 'Netherlands Antilles'\n39. 'Nicaragua'\n40. 'Panama'\n41. 'Paraguay'\n42. 'Peru'\n43. 'Puerto Rico'\n44. 'Saint Kitts and Nevis'\n45. 'Saint Lucia'\n46. 'Saint Vincent/Grenadines'\n47. 'Suriname'\n48. 'Trinidad and Tobago'\n49. 'Turks and Caicos Islands'\n50. 'Uruguay'\n51. 'Venezuela'\n52. <span style=white-space:pre-wrap>'Virgin Islands,  U.S.'</span>\n53. 'Virgin Islands, British'\n54. 'Europe'\n55. 'Albania'\n56. 'Austria'\n57. 'Belgium'\n58. 'Bosnia and Herzegovina'\n59. 'Bulgaria'\n60. 'Croatia'\n61. 'Cyprus'\n62. 'Czech Republic'\n63. 'Denmark'\n64. 'Faroe Islands'\n65. 'Finland'\n66. 'Former Czechoslovakia'\n67. 'Former Serbia and Montenegro'\n68. 'Former Yugoslavia'\n69. 'France'\n70. 'Germany'\n71. 'Germany, East'\n72. 'Germany, West'\n73. 'Gibraltar'\n74. 'Greece'\n75. 'Hungary'\n76. 'Iceland'\n77. 'Ireland'\n78. 'Italy'\n79. 'Luxembourg'\n80. 'Macedonia'\n81. 'Malta'\n82. 'Montenegro'\n83. 'Netherlands'\n84. 'Norway'\n85. 'Poland'\n86. 'Portugal'\n87. 'Romania'\n88. 'Serbia'\n89. 'Slovakia'\n90. 'Slovenia'\n91. 'Spain'\n92. 'Sweden'\n93. 'Switzerland'\n94. 'Turkey'\n95. 'United Kingdom'\n96. 'Eurasia'\n97. 'Armenia'\n98. 'Azerbaijan'\n99. 'Belarus'\n100. 'Estonia'\n101. 'Former U.S.S.R.'\n102. 'Georgia'\n103. 'Kazakhstan'\n104. 'Kyrgyzstan'\n105. 'Latvia'\n106. 'Lithuania'\n107. 'Moldova'\n108. 'Russia'\n109. 'Tajikistan'\n110. 'Turkmenistan'\n111. 'Ukraine'\n112. 'Uzbekistan'\n113. 'Middle East'\n114. 'Bahrain'\n115. 'Iran'\n116. 'Iraq'\n117. 'Israel'\n118. 'Jordan'\n119. 'Kuwait'\n120. 'Lebanon'\n121. 'Oman'\n122. 'Palestine'\n123. 'Qatar'\n124. 'Saudi Arabia'\n125. 'Syria'\n126. 'United Arab Emirates'\n127. 'Yemen'\n128. 'Africa'\n129. 'Algeria'\n130. 'Angola'\n131. 'Benin'\n132. 'Botswana'\n133. 'Burkina Faso'\n134. 'Burundi'\n135. 'Cameroon'\n136. 'Cape Verde'\n137. 'Central African Republic'\n138. 'Chad'\n139. 'Comoros'\n140. 'Congo (Brazzaville)'\n141. 'Congo (Kinshasa)'\n142. 'Cote dIvoire (IvoryCoast)'\n143. 'Djibouti'\n144. 'Egypt'\n145. 'Equatorial Guinea'\n146. 'Eritrea'\n147. 'Ethiopia'\n148. 'Gabon'\n149. 'Gambia, The'\n150. 'Ghana'\n151. 'Guinea'\n152. 'Guinea-Bissau'\n153. 'Kenya'\n154. 'Lesotho'\n155. 'Liberia'\n156. 'Libya'\n157. 'Madagascar'\n158. 'Malawi'\n159. 'Mali'\n160. 'Mauritania'\n161. 'Mauritius'\n162. 'Morocco'\n163. 'Mozambique'\n164. 'Namibia'\n165. 'Niger'\n166. 'Nigeria'\n167. 'Reunion'\n168. 'Rwanda'\n169. 'Saint Helena'\n170. 'Sao Tome and Principe'\n171. 'Senegal'\n172. 'Seychelles'\n173. 'Sierra Leone'\n174. 'Somalia'\n175. 'South Africa'\n176. 'Sudan'\n177. 'Swaziland'\n178. 'Tanzania'\n179. 'Togo'\n180. 'Tunisia'\n181. 'Uganda'\n182. 'Western Sahara'\n183. 'Zambia'\n184. 'Zimbabwe'\n185. 'Asia &amp; Oceania'\n186. 'Afghanistan'\n187. 'American Samoa'\n188. 'Australia'\n189. 'Bangladesh'\n190. 'Bhutan'\n191. 'Brunei'\n192. 'Burma (Myanmar)'\n193. 'Cambodia'\n194. 'China'\n195. 'Cook Islands'\n196. 'Fiji'\n197. 'French Polynesia'\n198. 'Guam'\n199. 'Hawaiian Trade Zone'\n200. 'Hong Kong'\n201. 'India'\n202. 'Indonesia'\n203. 'Japan'\n204. 'Kiribati'\n205. 'Korea, North'\n206. 'Korea, South'\n207. 'Laos'\n208. 'Macau'\n209. 'Malaysia'\n210. 'Maldives'\n211. 'Mongolia'\n212. 'Nauru'\n213. 'Nepal'\n214. 'New Caledonia'\n215. 'New Zealand'\n216. 'Niue'\n217. 'Pakistan'\n218. 'Papua New Guinea'\n219. 'Philippines'\n220. 'Samoa'\n221. 'Singapore'\n222. 'Solomon Islands'\n223. 'Sri Lanka'\n224. 'Taiwan'\n225. 'Thailand'\n226. 'Timor-Leste (East Timor)'\n227. 'Tonga'\n228. 'U.S. Pacific Islands'\n229. 'Vanuatu'\n230. 'Vietnam'\n231. 'Wake Island'\n232. 'World'\n\n\n",
            "text/html": [
              "<style>\n",
              ".list-inline {list-style: none; margin:0; padding: 0}\n",
              ".list-inline>li {display: inline-block}\n",
              ".list-inline>li:not(:last-child)::after {content: \"\\00b7\"; padding: 0 .5ex}\n",
              "</style>\n",
              "<ol class=list-inline><li>'North America'</li><li>'Bermuda'</li><li>'Canada'</li><li>'Greenland'</li><li>'Mexico'</li><li>'Saint Pierre and Miquelon'</li><li>'United States'</li><li>'Central &amp; South America'</li><li>'Antarctica'</li><li>'Antigua and Barbuda'</li><li>'Argentina'</li><li>'Aruba'</li><li>'Bahamas, The'</li><li>'Barbados'</li><li>'Belize'</li><li>'Bolivia'</li><li>'Brazil'</li><li>'Cayman Islands'</li><li>'Chile'</li><li>'Colombia'</li><li>'Costa Rica'</li><li>'Cuba'</li><li>'Dominica'</li><li>'Dominican Republic'</li><li>'Ecuador'</li><li>'El Salvador'</li><li>'Falkland Islands (Islas Malvinas)'</li><li>'French Guiana'</li><li>'Grenada'</li><li>'Guadeloupe'</li><li>'Guatemala'</li><li>'Guyana'</li><li>'Haiti'</li><li>'Honduras'</li><li>'Jamaica'</li><li>'Martinique'</li><li>'Montserrat'</li><li>'Netherlands Antilles'</li><li>'Nicaragua'</li><li>'Panama'</li><li>'Paraguay'</li><li>'Peru'</li><li>'Puerto Rico'</li><li>'Saint Kitts and Nevis'</li><li>'Saint Lucia'</li><li>'Saint Vincent/Grenadines'</li><li>'Suriname'</li><li>'Trinidad and Tobago'</li><li>'Turks and Caicos Islands'</li><li>'Uruguay'</li><li>'Venezuela'</li><li><span style=white-space:pre-wrap>'Virgin Islands,  U.S.'</span></li><li>'Virgin Islands, British'</li><li>'Europe'</li><li>'Albania'</li><li>'Austria'</li><li>'Belgium'</li><li>'Bosnia and Herzegovina'</li><li>'Bulgaria'</li><li>'Croatia'</li><li>'Cyprus'</li><li>'Czech Republic'</li><li>'Denmark'</li><li>'Faroe Islands'</li><li>'Finland'</li><li>'Former Czechoslovakia'</li><li>'Former Serbia and Montenegro'</li><li>'Former Yugoslavia'</li><li>'France'</li><li>'Germany'</li><li>'Germany, East'</li><li>'Germany, West'</li><li>'Gibraltar'</li><li>'Greece'</li><li>'Hungary'</li><li>'Iceland'</li><li>'Ireland'</li><li>'Italy'</li><li>'Luxembourg'</li><li>'Macedonia'</li><li>'Malta'</li><li>'Montenegro'</li><li>'Netherlands'</li><li>'Norway'</li><li>'Poland'</li><li>'Portugal'</li><li>'Romania'</li><li>'Serbia'</li><li>'Slovakia'</li><li>'Slovenia'</li><li>'Spain'</li><li>'Sweden'</li><li>'Switzerland'</li><li>'Turkey'</li><li>'United Kingdom'</li><li>'Eurasia'</li><li>'Armenia'</li><li>'Azerbaijan'</li><li>'Belarus'</li><li>'Estonia'</li><li>'Former U.S.S.R.'</li><li>'Georgia'</li><li>'Kazakhstan'</li><li>'Kyrgyzstan'</li><li>'Latvia'</li><li>'Lithuania'</li><li>'Moldova'</li><li>'Russia'</li><li>'Tajikistan'</li><li>'Turkmenistan'</li><li>'Ukraine'</li><li>'Uzbekistan'</li><li>'Middle East'</li><li>'Bahrain'</li><li>'Iran'</li><li>'Iraq'</li><li>'Israel'</li><li>'Jordan'</li><li>'Kuwait'</li><li>'Lebanon'</li><li>'Oman'</li><li>'Palestine'</li><li>'Qatar'</li><li>'Saudi Arabia'</li><li>'Syria'</li><li>'United Arab Emirates'</li><li>'Yemen'</li><li>'Africa'</li><li>'Algeria'</li><li>'Angola'</li><li>'Benin'</li><li>'Botswana'</li><li>'Burkina Faso'</li><li>'Burundi'</li><li>'Cameroon'</li><li>'Cape Verde'</li><li>'Central African Republic'</li><li>'Chad'</li><li>'Comoros'</li><li>'Congo (Brazzaville)'</li><li>'Congo (Kinshasa)'</li><li>'Cote dIvoire (IvoryCoast)'</li><li>'Djibouti'</li><li>'Egypt'</li><li>'Equatorial Guinea'</li><li>'Eritrea'</li><li>'Ethiopia'</li><li>'Gabon'</li><li>'Gambia, The'</li><li>'Ghana'</li><li>'Guinea'</li><li>'Guinea-Bissau'</li><li>'Kenya'</li><li>'Lesotho'</li><li>'Liberia'</li><li>'Libya'</li><li>'Madagascar'</li><li>'Malawi'</li><li>'Mali'</li><li>'Mauritania'</li><li>'Mauritius'</li><li>'Morocco'</li><li>'Mozambique'</li><li>'Namibia'</li><li>'Niger'</li><li>'Nigeria'</li><li>'Reunion'</li><li>'Rwanda'</li><li>'Saint Helena'</li><li>'Sao Tome and Principe'</li><li>'Senegal'</li><li>'Seychelles'</li><li>'Sierra Leone'</li><li>'Somalia'</li><li>'South Africa'</li><li>'Sudan'</li><li>'Swaziland'</li><li>'Tanzania'</li><li>'Togo'</li><li>'Tunisia'</li><li>'Uganda'</li><li>'Western Sahara'</li><li>'Zambia'</li><li>'Zimbabwe'</li><li>'Asia &amp; Oceania'</li><li>'Afghanistan'</li><li>'American Samoa'</li><li>'Australia'</li><li>'Bangladesh'</li><li>'Bhutan'</li><li>'Brunei'</li><li>'Burma (Myanmar)'</li><li>'Cambodia'</li><li>'China'</li><li>'Cook Islands'</li><li>'Fiji'</li><li>'French Polynesia'</li><li>'Guam'</li><li>'Hawaiian Trade Zone'</li><li>'Hong Kong'</li><li>'India'</li><li>'Indonesia'</li><li>'Japan'</li><li>'Kiribati'</li><li>'Korea, North'</li><li>'Korea, South'</li><li>'Laos'</li><li>'Macau'</li><li>'Malaysia'</li><li>'Maldives'</li><li>'Mongolia'</li><li>'Nauru'</li><li>'Nepal'</li><li>'New Caledonia'</li><li>'New Zealand'</li><li>'Niue'</li><li>'Pakistan'</li><li>'Papua New Guinea'</li><li>'Philippines'</li><li>'Samoa'</li><li>'Singapore'</li><li>'Solomon Islands'</li><li>'Sri Lanka'</li><li>'Taiwan'</li><li>'Thailand'</li><li>'Timor-Leste (East Timor)'</li><li>'Tonga'</li><li>'U.S. Pacific Islands'</li><li>'Vanuatu'</li><li>'Vietnam'</li><li>'Wake Island'</li><li>'World'</li></ol>\n"
            ]
          },
          "metadata": {
            "tags": []
          }
        }
      ]
    },
    {
      "cell_type": "code",
      "metadata": {
        "id": "iFNQCJVlDb__"
      },
      "source": [
        "# 9 regions in the column Region are not countries\n",
        "noncountries <- c(\"North America\", \"Central & South America\", \"Antarctica\",\n",
        "\"Europe\", \"Eurasia\", \"Middle East\", \"Africa\", \"Asia & Oceania\", \"World\")"
      ],
      "execution_count": 24,
      "outputs": []
    },
    {
      "cell_type": "code",
      "metadata": {
        "colab": {
          "base_uri": "https://localhost:8080/"
        },
        "id": "RSojMvUtDsAf",
        "outputId": "410a05a5-0394-4724-cbf4-16a8a9b1f0bd"
      },
      "source": [
        "print(match(coal.long$Region, noncountries))"
      ],
      "execution_count": 26,
      "outputs": [
        {
          "output_type": "stream",
          "text": [
            "   [1]  1 NA NA NA NA NA NA  2  3 NA NA NA NA NA NA NA NA NA NA NA NA NA NA NA\n",
            "  [25] NA NA NA NA NA NA NA NA NA NA NA NA NA NA NA NA NA NA NA NA NA NA NA NA\n",
            "  [49] NA NA NA NA NA  4 NA NA NA NA NA NA NA NA NA NA NA NA NA NA NA NA NA NA\n",
            "  [73] NA NA NA NA NA NA NA NA NA NA NA NA NA NA NA NA NA NA NA NA NA NA NA  5\n",
            "  [97] NA NA NA NA NA NA NA NA NA NA NA NA NA NA NA NA  6 NA NA NA NA NA NA NA\n",
            " [121] NA NA NA NA NA NA NA  7 NA NA NA NA NA NA NA NA NA NA NA NA NA NA NA NA\n",
            " [145] NA NA NA NA NA NA NA NA NA NA NA NA NA NA NA NA NA NA NA NA NA NA NA NA\n",
            " [169] NA NA NA NA NA NA NA NA NA NA NA NA NA NA NA NA  8 NA NA NA NA NA NA NA\n",
            " [193] NA NA NA NA NA NA NA NA NA NA NA NA NA NA NA NA NA NA NA NA NA NA NA NA\n",
            " [217] NA NA NA NA NA NA NA NA NA NA NA NA NA NA NA  9  1 NA NA NA NA NA NA  2\n",
            " [241]  3 NA NA NA NA NA NA NA NA NA NA NA NA NA NA NA NA NA NA NA NA NA NA NA\n",
            " [265] NA NA NA NA NA NA NA NA NA NA NA NA NA NA NA NA NA NA NA NA NA  4 NA NA\n",
            " [289] NA NA NA NA NA NA NA NA NA NA NA NA NA NA NA NA NA NA NA NA NA NA NA NA\n",
            " [313] NA NA NA NA NA NA NA NA NA NA NA NA NA NA NA  5 NA NA NA NA NA NA NA NA\n",
            " [337] NA NA NA NA NA NA NA NA  6 NA NA NA NA NA NA NA NA NA NA NA NA NA NA  7\n",
            " [361] NA NA NA NA NA NA NA NA NA NA NA NA NA NA NA NA NA NA NA NA NA NA NA NA\n",
            " [385] NA NA NA NA NA NA NA NA NA NA NA NA NA NA NA NA NA NA NA NA NA NA NA NA\n",
            " [409] NA NA NA NA NA NA NA NA  8 NA NA NA NA NA NA NA NA NA NA NA NA NA NA NA\n",
            " [433] NA NA NA NA NA NA NA NA NA NA NA NA NA NA NA NA NA NA NA NA NA NA NA NA\n",
            " [457] NA NA NA NA NA NA NA  9  1 NA NA NA NA NA NA  2  3 NA NA NA NA NA NA NA\n",
            " [481] NA NA NA NA NA NA NA NA NA NA NA NA NA NA NA NA NA NA NA NA NA NA NA NA\n",
            " [505] NA NA NA NA NA NA NA NA NA NA NA NA NA  4 NA NA NA NA NA NA NA NA NA NA\n",
            " [529] NA NA NA NA NA NA NA NA NA NA NA NA NA NA NA NA NA NA NA NA NA NA NA NA\n",
            " [553] NA NA NA NA NA NA NA  5 NA NA NA NA NA NA NA NA NA NA NA NA NA NA NA NA\n",
            " [577]  6 NA NA NA NA NA NA NA NA NA NA NA NA NA NA  7 NA NA NA NA NA NA NA NA\n",
            " [601] NA NA NA NA NA NA NA NA NA NA NA NA NA NA NA NA NA NA NA NA NA NA NA NA\n",
            " [625] NA NA NA NA NA NA NA NA NA NA NA NA NA NA NA NA NA NA NA NA NA NA NA NA\n",
            " [649]  8 NA NA NA NA NA NA NA NA NA NA NA NA NA NA NA NA NA NA NA NA NA NA NA\n",
            " [673] NA NA NA NA NA NA NA NA NA NA NA NA NA NA NA NA NA NA NA NA NA NA NA  9\n",
            " [697]  1 NA NA NA NA NA NA  2  3 NA NA NA NA NA NA NA NA NA NA NA NA NA NA NA\n",
            " [721] NA NA NA NA NA NA NA NA NA NA NA NA NA NA NA NA NA NA NA NA NA NA NA NA\n",
            " [745] NA NA NA NA NA  4 NA NA NA NA NA NA NA NA NA NA NA NA NA NA NA NA NA NA\n",
            " [769] NA NA NA NA NA NA NA NA NA NA NA NA NA NA NA NA NA NA NA NA NA NA NA  5\n",
            " [793] NA NA NA NA NA NA NA NA NA NA NA NA NA NA NA NA  6 NA NA NA NA NA NA NA\n",
            " [817] NA NA NA NA NA NA NA  7 NA NA NA NA NA NA NA NA NA NA NA NA NA NA NA NA\n",
            " [841] NA NA NA NA NA NA NA NA NA NA NA NA NA NA NA NA NA NA NA NA NA NA NA NA\n",
            " [865] NA NA NA NA NA NA NA NA NA NA NA NA NA NA NA NA  8 NA NA NA NA NA NA NA\n",
            " [889] NA NA NA NA NA NA NA NA NA NA NA NA NA NA NA NA NA NA NA NA NA NA NA NA\n",
            " [913] NA NA NA NA NA NA NA NA NA NA NA NA NA NA NA  9  1 NA NA NA NA NA NA  2\n",
            " [937]  3 NA NA NA NA NA NA NA NA NA NA NA NA NA NA NA NA NA NA NA NA NA NA NA\n",
            " [961] NA NA NA NA NA NA NA NA NA NA NA NA NA NA NA NA NA NA NA NA NA  4 NA NA\n",
            " [985] NA NA NA NA NA NA NA NA NA NA NA NA NA NA NA NA NA NA NA NA NA NA NA NA\n",
            "[1009] NA NA NA NA NA NA NA NA NA NA NA NA NA NA NA  5 NA NA NA NA NA NA NA NA\n",
            "[1033] NA NA NA NA NA NA NA NA  6 NA NA NA NA NA NA NA NA NA NA NA NA NA NA  7\n",
            "[1057] NA NA NA NA NA NA NA NA NA NA NA NA NA NA NA NA NA NA NA NA NA NA NA NA\n",
            "[1081] NA NA NA NA NA NA NA NA NA NA NA NA NA NA NA NA NA NA NA NA NA NA NA NA\n",
            "[1105] NA NA NA NA NA NA NA NA  8 NA NA NA NA NA NA NA NA NA NA NA NA NA NA NA\n",
            "[1129] NA NA NA NA NA NA NA NA NA NA NA NA NA NA NA NA NA NA NA NA NA NA NA NA\n",
            "[1153] NA NA NA NA NA NA NA  9  1 NA NA NA NA NA NA  2  3 NA NA NA NA NA NA NA\n",
            "[1177] NA NA NA NA NA NA NA NA NA NA NA NA NA NA NA NA NA NA NA NA NA NA NA NA\n",
            "[1201] NA NA NA NA NA NA NA NA NA NA NA NA NA  4 NA NA NA NA NA NA NA NA NA NA\n",
            "[1225] NA NA NA NA NA NA NA NA NA NA NA NA NA NA NA NA NA NA NA NA NA NA NA NA\n",
            "[1249] NA NA NA NA NA NA NA  5 NA NA NA NA NA NA NA NA NA NA NA NA NA NA NA NA\n",
            "[1273]  6 NA NA NA NA NA NA NA NA NA NA NA NA NA NA  7 NA NA NA NA NA NA NA NA\n",
            "[1297] NA NA NA NA NA NA NA NA NA NA NA NA NA NA NA NA NA NA NA NA NA NA NA NA\n",
            "[1321] NA NA NA NA NA NA NA NA NA NA NA NA NA NA NA NA NA NA NA NA NA NA NA NA\n",
            "[1345]  8 NA NA NA NA NA NA NA NA NA NA NA NA NA NA NA NA NA NA NA NA NA NA NA\n",
            "[1369] NA NA NA NA NA NA NA NA NA NA NA NA NA NA NA NA NA NA NA NA NA NA NA  9\n",
            "[1393]  1 NA NA NA NA NA NA  2  3 NA NA NA NA NA NA NA NA NA NA NA NA NA NA NA\n",
            "[1417] NA NA NA NA NA NA NA NA NA NA NA NA NA NA NA NA NA NA NA NA NA NA NA NA\n",
            "[1441] NA NA NA NA NA  4 NA NA NA NA NA NA NA NA NA NA NA NA NA NA NA NA NA NA\n",
            "[1465] NA NA NA NA NA NA NA NA NA NA NA NA NA NA NA NA NA NA NA NA NA NA NA  5\n",
            "[1489] NA NA NA NA NA NA NA NA NA NA NA NA NA NA NA NA  6 NA NA NA NA NA NA NA\n",
            "[1513] NA NA NA NA NA NA NA  7 NA NA NA NA NA NA NA NA NA NA NA NA NA NA NA NA\n",
            "[1537] NA NA NA NA NA NA NA NA NA NA NA NA NA NA NA NA NA NA NA NA NA NA NA NA\n",
            "[1561] NA NA NA NA NA NA NA NA NA NA NA NA NA NA NA NA  8 NA NA NA NA NA NA NA\n",
            "[1585] NA NA NA NA NA NA NA NA NA NA NA NA NA NA NA NA NA NA NA NA NA NA NA NA\n",
            "[1609] NA NA NA NA NA NA NA NA NA NA NA NA NA NA NA  9  1 NA NA NA NA NA NA  2\n",
            "[1633]  3 NA NA NA NA NA NA NA NA NA NA NA NA NA NA NA NA NA NA NA NA NA NA NA\n",
            "[1657] NA NA NA NA NA NA NA NA NA NA NA NA NA NA NA NA NA NA NA NA NA  4 NA NA\n",
            "[1681] NA NA NA NA NA NA NA NA NA NA NA NA NA NA NA NA NA NA NA NA NA NA NA NA\n",
            "[1705] NA NA NA NA NA NA NA NA NA NA NA NA NA NA NA  5 NA NA NA NA NA NA NA NA\n",
            "[1729] NA NA NA NA NA NA NA NA  6 NA NA NA NA NA NA NA NA NA NA NA NA NA NA  7\n",
            "[1753] NA NA NA NA NA NA NA NA NA NA NA NA NA NA NA NA NA NA NA NA NA NA NA NA\n",
            "[1777] NA NA NA NA NA NA NA NA NA NA NA NA NA NA NA NA NA NA NA NA NA NA NA NA\n",
            "[1801] NA NA NA NA NA NA NA NA  8 NA NA NA NA NA NA NA NA NA NA NA NA NA NA NA\n",
            "[1825] NA NA NA NA NA NA NA NA NA NA NA NA NA NA NA NA NA NA NA NA NA NA NA NA\n",
            "[1849] NA NA NA NA NA NA NA  9  1 NA NA NA NA NA NA  2  3 NA NA NA NA NA NA NA\n",
            "[1873] NA NA NA NA NA NA NA NA NA NA NA NA NA NA NA NA NA NA NA NA NA NA NA NA\n",
            "[1897] NA NA NA NA NA NA NA NA NA NA NA NA NA  4 NA NA NA NA NA NA NA NA NA NA\n",
            "[1921] NA NA NA NA NA NA NA NA NA NA NA NA NA NA NA NA NA NA NA NA NA NA NA NA\n",
            "[1945] NA NA NA NA NA NA NA  5 NA NA NA NA NA NA NA NA NA NA NA NA NA NA NA NA\n",
            "[1969]  6 NA NA NA NA NA NA NA NA NA NA NA NA NA NA  7 NA NA NA NA NA NA NA NA\n",
            "[1993] NA NA NA NA NA NA NA NA NA NA NA NA NA NA NA NA NA NA NA NA NA NA NA NA\n",
            "[2017] NA NA NA NA NA NA NA NA NA NA NA NA NA NA NA NA NA NA NA NA NA NA NA NA\n",
            "[2041]  8 NA NA NA NA NA NA NA NA NA NA NA NA NA NA NA NA NA NA NA NA NA NA NA\n",
            "[2065] NA NA NA NA NA NA NA NA NA NA NA NA NA NA NA NA NA NA NA NA NA NA NA  9\n",
            "[2089]  1 NA NA NA NA NA NA  2  3 NA NA NA NA NA NA NA NA NA NA NA NA NA NA NA\n",
            "[2113] NA NA NA NA NA NA NA NA NA NA NA NA NA NA NA NA NA NA NA NA NA NA NA NA\n",
            "[2137] NA NA NA NA NA  4 NA NA NA NA NA NA NA NA NA NA NA NA NA NA NA NA NA NA\n",
            "[2161] NA NA NA NA NA NA NA NA NA NA NA NA NA NA NA NA NA NA NA NA NA NA NA  5\n",
            "[2185] NA NA NA NA NA NA NA NA NA NA NA NA NA NA NA NA  6 NA NA NA NA NA NA NA\n",
            "[2209] NA NA NA NA NA NA NA  7 NA NA NA NA NA NA NA NA NA NA NA NA NA NA NA NA\n",
            "[2233] NA NA NA NA NA NA NA NA NA NA NA NA NA NA NA NA NA NA NA NA NA NA NA NA\n",
            "[2257] NA NA NA NA NA NA NA NA NA NA NA NA NA NA NA NA  8 NA NA NA NA NA NA NA\n",
            "[2281] NA NA NA NA NA NA NA NA NA NA NA NA NA NA NA NA NA NA NA NA NA NA NA NA\n",
            "[2305] NA NA NA NA NA NA NA NA NA NA NA NA NA NA NA  9  1 NA NA NA NA NA NA  2\n",
            "[2329]  3 NA NA NA NA NA NA NA NA NA NA NA NA NA NA NA NA NA NA NA NA NA NA NA\n",
            "[2353] NA NA NA NA NA NA NA NA NA NA NA NA NA NA NA NA NA NA NA NA NA  4 NA NA\n",
            "[2377] NA NA NA NA NA NA NA NA NA NA NA NA NA NA NA NA NA NA NA NA NA NA NA NA\n",
            "[2401] NA NA NA NA NA NA NA NA NA NA NA NA NA NA NA  5 NA NA NA NA NA NA NA NA\n",
            "[2425] NA NA NA NA NA NA NA NA  6 NA NA NA NA NA NA NA NA NA NA NA NA NA NA  7\n",
            "[2449] NA NA NA NA NA NA NA NA NA NA NA NA NA NA NA NA NA NA NA NA NA NA NA NA\n",
            "[2473] NA NA NA NA NA NA NA NA NA NA NA NA NA NA NA NA NA NA NA NA NA NA NA NA\n",
            "[2497] NA NA NA NA NA NA NA NA  8 NA NA NA NA NA NA NA NA NA NA NA NA NA NA NA\n",
            "[2521] NA NA NA NA NA NA NA NA NA NA NA NA NA NA NA NA NA NA NA NA NA NA NA NA\n",
            "[2545] NA NA NA NA NA NA NA  9  1 NA NA NA NA NA NA  2  3 NA NA NA NA NA NA NA\n",
            "[2569] NA NA NA NA NA NA NA NA NA NA NA NA NA NA NA NA NA NA NA NA NA NA NA NA\n",
            "[2593] NA NA NA NA NA NA NA NA NA NA NA NA NA  4 NA NA NA NA NA NA NA NA NA NA\n",
            "[2617] NA NA NA NA NA NA NA NA NA NA NA NA NA NA NA NA NA NA NA NA NA NA NA NA\n",
            "[2641] NA NA NA NA NA NA NA  5 NA NA NA NA NA NA NA NA NA NA NA NA NA NA NA NA\n",
            "[2665]  6 NA NA NA NA NA NA NA NA NA NA NA NA NA NA  7 NA NA NA NA NA NA NA NA\n",
            "[2689] NA NA NA NA NA NA NA NA NA NA NA NA NA NA NA NA NA NA NA NA NA NA NA NA\n",
            "[2713] NA NA NA NA NA NA NA NA NA NA NA NA NA NA NA NA NA NA NA NA NA NA NA NA\n",
            "[2737]  8 NA NA NA NA NA NA NA NA NA NA NA NA NA NA NA NA NA NA NA NA NA NA NA\n",
            "[2761] NA NA NA NA NA NA NA NA NA NA NA NA NA NA NA NA NA NA NA NA NA NA NA  9\n",
            "[2785]  1 NA NA NA NA NA NA  2  3 NA NA NA NA NA NA NA NA NA NA NA NA NA NA NA\n",
            "[2809] NA NA NA NA NA NA NA NA NA NA NA NA NA NA NA NA NA NA NA NA NA NA NA NA\n",
            "[2833] NA NA NA NA NA  4 NA NA NA NA NA NA NA NA NA NA NA NA NA NA NA NA NA NA\n",
            "[2857] NA NA NA NA NA NA NA NA NA NA NA NA NA NA NA NA NA NA NA NA NA NA NA  5\n",
            "[2881] NA NA NA NA NA NA NA NA NA NA NA NA NA NA NA NA  6 NA NA NA NA NA NA NA\n",
            "[2905] NA NA NA NA NA NA NA  7 NA NA NA NA NA NA NA NA NA NA NA NA NA NA NA NA\n",
            "[2929] NA NA NA NA NA NA NA NA NA NA NA NA NA NA NA NA NA NA NA NA NA NA NA NA\n",
            "[2953] NA NA NA NA NA NA NA NA NA NA NA NA NA NA NA NA  8 NA NA NA NA NA NA NA\n",
            "[2977] NA NA NA NA NA NA NA NA NA NA NA NA NA NA NA NA NA NA NA NA NA NA NA NA\n",
            "[3001] NA NA NA NA NA NA NA NA NA NA NA NA NA NA NA  9  1 NA NA NA NA NA NA  2\n",
            "[3025]  3 NA NA NA NA NA NA NA NA NA NA NA NA NA NA NA NA NA NA NA NA NA NA NA\n",
            "[3049] NA NA NA NA NA NA NA NA NA NA NA NA NA NA NA NA NA NA NA NA NA  4 NA NA\n",
            "[3073] NA NA NA NA NA NA NA NA NA NA NA NA NA NA NA NA NA NA NA NA NA NA NA NA\n",
            "[3097] NA NA NA NA NA NA NA NA NA NA NA NA NA NA NA  5 NA NA NA NA NA NA NA NA\n",
            "[3121] NA NA NA NA NA NA NA NA  6 NA NA NA NA NA NA NA NA NA NA NA NA NA NA  7\n",
            "[3145] NA NA NA NA NA NA NA NA NA NA NA NA NA NA NA NA NA NA NA NA NA NA NA NA\n",
            "[3169] NA NA NA NA NA NA NA NA NA NA NA NA NA NA NA NA NA NA NA NA NA NA NA NA\n",
            "[3193] NA NA NA NA NA NA NA NA  8 NA NA NA NA NA NA NA NA NA NA NA NA NA NA NA\n",
            "[3217] NA NA NA NA NA NA NA NA NA NA NA NA NA NA NA NA NA NA NA NA NA NA NA NA\n",
            "[3241] NA NA NA NA NA NA NA  9  1 NA NA NA NA NA NA  2  3 NA NA NA NA NA NA NA\n",
            "[3265] NA NA NA NA NA NA NA NA NA NA NA NA NA NA NA NA NA NA NA NA NA NA NA NA\n",
            "[3289] NA NA NA NA NA NA NA NA NA NA NA NA NA  4 NA NA NA NA NA NA NA NA NA NA\n",
            "[3313] NA NA NA NA NA NA NA NA NA NA NA NA NA NA NA NA NA NA NA NA NA NA NA NA\n",
            "[3337] NA NA NA NA NA NA NA  5 NA NA NA NA NA NA NA NA NA NA NA NA NA NA NA NA\n",
            "[3361]  6 NA NA NA NA NA NA NA NA NA NA NA NA NA NA  7 NA NA NA NA NA NA NA NA\n",
            "[3385] NA NA NA NA NA NA NA NA NA NA NA NA NA NA NA NA NA NA NA NA NA NA NA NA\n",
            "[3409] NA NA NA NA NA NA NA NA NA NA NA NA NA NA NA NA NA NA NA NA NA NA NA NA\n",
            "[3433]  8 NA NA NA NA NA NA NA NA NA NA NA NA NA NA NA NA NA NA NA NA NA NA NA\n",
            "[3457] NA NA NA NA NA NA NA NA NA NA NA NA NA NA NA NA NA NA NA NA NA NA NA  9\n",
            "[3481]  1 NA NA NA NA NA NA  2  3 NA NA NA NA NA NA NA NA NA NA NA NA NA NA NA\n",
            "[3505] NA NA NA NA NA NA NA NA NA NA NA NA NA NA NA NA NA NA NA NA NA NA NA NA\n",
            "[3529] NA NA NA NA NA  4 NA NA NA NA NA NA NA NA NA NA NA NA NA NA NA NA NA NA\n",
            "[3553] NA NA NA NA NA NA NA NA NA NA NA NA NA NA NA NA NA NA NA NA NA NA NA  5\n",
            "[3577] NA NA NA NA NA NA NA NA NA NA NA NA NA NA NA NA  6 NA NA NA NA NA NA NA\n",
            "[3601] NA NA NA NA NA NA NA  7 NA NA NA NA NA NA NA NA NA NA NA NA NA NA NA NA\n",
            "[3625] NA NA NA NA NA NA NA NA NA NA NA NA NA NA NA NA NA NA NA NA NA NA NA NA\n",
            "[3649] NA NA NA NA NA NA NA NA NA NA NA NA NA NA NA NA  8 NA NA NA NA NA NA NA\n",
            "[3673] NA NA NA NA NA NA NA NA NA NA NA NA NA NA NA NA NA NA NA NA NA NA NA NA\n",
            "[3697] NA NA NA NA NA NA NA NA NA NA NA NA NA NA NA  9  1 NA NA NA NA NA NA  2\n",
            "[3721]  3 NA NA NA NA NA NA NA NA NA NA NA NA NA NA NA NA NA NA NA NA NA NA NA\n",
            "[3745] NA NA NA NA NA NA NA NA NA NA NA NA NA NA NA NA NA NA NA NA NA  4 NA NA\n",
            "[3769] NA NA NA NA NA NA NA NA NA NA NA NA NA NA NA NA NA NA NA NA NA NA NA NA\n",
            "[3793] NA NA NA NA NA NA NA NA NA NA NA NA NA NA NA  5 NA NA NA NA NA NA NA NA\n",
            "[3817] NA NA NA NA NA NA NA NA  6 NA NA NA NA NA NA NA NA NA NA NA NA NA NA  7\n",
            "[3841] NA NA NA NA NA NA NA NA NA NA NA NA NA NA NA NA NA NA NA NA NA NA NA NA\n",
            "[3865] NA NA NA NA NA NA NA NA NA NA NA NA NA NA NA NA NA NA NA NA NA NA NA NA\n",
            "[3889] NA NA NA NA NA NA NA NA  8 NA NA NA NA NA NA NA NA NA NA NA NA NA NA NA\n",
            "[3913] NA NA NA NA NA NA NA NA NA NA NA NA NA NA NA NA NA NA NA NA NA NA NA NA\n",
            "[3937] NA NA NA NA NA NA NA  9  1 NA NA NA NA NA NA  2  3 NA NA NA NA NA NA NA\n",
            "[3961] NA NA NA NA NA NA NA NA NA NA NA NA NA NA NA NA NA NA NA NA NA NA NA NA\n",
            "[3985] NA NA NA NA NA NA NA NA NA NA NA NA NA  4 NA NA NA NA NA NA NA NA NA NA\n",
            "[4009] NA NA NA NA NA NA NA NA NA NA NA NA NA NA NA NA NA NA NA NA NA NA NA NA\n",
            "[4033] NA NA NA NA NA NA NA  5 NA NA NA NA NA NA NA NA NA NA NA NA NA NA NA NA\n",
            "[4057]  6 NA NA NA NA NA NA NA NA NA NA NA NA NA NA  7 NA NA NA NA NA NA NA NA\n",
            "[4081] NA NA NA NA NA NA NA NA NA NA NA NA NA NA NA NA NA NA NA NA NA NA NA NA\n",
            "[4105] NA NA NA NA NA NA NA NA NA NA NA NA NA NA NA NA NA NA NA NA NA NA NA NA\n",
            "[4129]  8 NA NA NA NA NA NA NA NA NA NA NA NA NA NA NA NA NA NA NA NA NA NA NA\n",
            "[4153] NA NA NA NA NA NA NA NA NA NA NA NA NA NA NA NA NA NA NA NA NA NA NA  9\n",
            "[4177]  1 NA NA NA NA NA NA  2  3 NA NA NA NA NA NA NA NA NA NA NA NA NA NA NA\n",
            "[4201] NA NA NA NA NA NA NA NA NA NA NA NA NA NA NA NA NA NA NA NA NA NA NA NA\n",
            "[4225] NA NA NA NA NA  4 NA NA NA NA NA NA NA NA NA NA NA NA NA NA NA NA NA NA\n",
            "[4249] NA NA NA NA NA NA NA NA NA NA NA NA NA NA NA NA NA NA NA NA NA NA NA  5\n",
            "[4273] NA NA NA NA NA NA NA NA NA NA NA NA NA NA NA NA  6 NA NA NA NA NA NA NA\n",
            "[4297] NA NA NA NA NA NA NA  7 NA NA NA NA NA NA NA NA NA NA NA NA NA NA NA NA\n",
            "[4321] NA NA NA NA NA NA NA NA NA NA NA NA NA NA NA NA NA NA NA NA NA NA NA NA\n",
            "[4345] NA NA NA NA NA NA NA NA NA NA NA NA NA NA NA NA  8 NA NA NA NA NA NA NA\n",
            "[4369] NA NA NA NA NA NA NA NA NA NA NA NA NA NA NA NA NA NA NA NA NA NA NA NA\n",
            "[4393] NA NA NA NA NA NA NA NA NA NA NA NA NA NA NA  9  1 NA NA NA NA NA NA  2\n",
            "[4417]  3 NA NA NA NA NA NA NA NA NA NA NA NA NA NA NA NA NA NA NA NA NA NA NA\n",
            "[4441] NA NA NA NA NA NA NA NA NA NA NA NA NA NA NA NA NA NA NA NA NA  4 NA NA\n",
            "[4465] NA NA NA NA NA NA NA NA NA NA NA NA NA NA NA NA NA NA NA NA NA NA NA NA\n",
            "[4489] NA NA NA NA NA NA NA NA NA NA NA NA NA NA NA  5 NA NA NA NA NA NA NA NA\n",
            "[4513] NA NA NA NA NA NA NA NA  6 NA NA NA NA NA NA NA NA NA NA NA NA NA NA  7\n",
            "[4537] NA NA NA NA NA NA NA NA NA NA NA NA NA NA NA NA NA NA NA NA NA NA NA NA\n",
            "[4561] NA NA NA NA NA NA NA NA NA NA NA NA NA NA NA NA NA NA NA NA NA NA NA NA\n",
            "[4585] NA NA NA NA NA NA NA NA  8 NA NA NA NA NA NA NA NA NA NA NA NA NA NA NA\n",
            "[4609] NA NA NA NA NA NA NA NA NA NA NA NA NA NA NA NA NA NA NA NA NA NA NA NA\n",
            "[4633] NA NA NA NA NA NA NA  9  1 NA NA NA NA NA NA  2  3 NA NA NA NA NA NA NA\n",
            "[4657] NA NA NA NA NA NA NA NA NA NA NA NA NA NA NA NA NA NA NA NA NA NA NA NA\n",
            "[4681] NA NA NA NA NA NA NA NA NA NA NA NA NA  4 NA NA NA NA NA NA NA NA NA NA\n",
            "[4705] NA NA NA NA NA NA NA NA NA NA NA NA NA NA NA NA NA NA NA NA NA NA NA NA\n",
            "[4729] NA NA NA NA NA NA NA  5 NA NA NA NA NA NA NA NA NA NA NA NA NA NA NA NA\n",
            "[4753]  6 NA NA NA NA NA NA NA NA NA NA NA NA NA NA  7 NA NA NA NA NA NA NA NA\n",
            "[4777] NA NA NA NA NA NA NA NA NA NA NA NA NA NA NA NA NA NA NA NA NA NA NA NA\n",
            "[4801] NA NA NA NA NA NA NA NA NA NA NA NA NA NA NA NA NA NA NA NA NA NA NA NA\n",
            "[4825]  8 NA NA NA NA NA NA NA NA NA NA NA NA NA NA NA NA NA NA NA NA NA NA NA\n",
            "[4849] NA NA NA NA NA NA NA NA NA NA NA NA NA NA NA NA NA NA NA NA NA NA NA  9\n",
            "[4873]  1 NA NA NA NA NA NA  2  3 NA NA NA NA NA NA NA NA NA NA NA NA NA NA NA\n",
            "[4897] NA NA NA NA NA NA NA NA NA NA NA NA NA NA NA NA NA NA NA NA NA NA NA NA\n",
            "[4921] NA NA NA NA NA  4 NA NA NA NA NA NA NA NA NA NA NA NA NA NA NA NA NA NA\n",
            "[4945] NA NA NA NA NA NA NA NA NA NA NA NA NA NA NA NA NA NA NA NA NA NA NA  5\n",
            "[4969] NA NA NA NA NA NA NA NA NA NA NA NA NA NA NA NA  6 NA NA NA NA NA NA NA\n",
            "[4993] NA NA NA NA NA NA NA  7 NA NA NA NA NA NA NA NA NA NA NA NA NA NA NA NA\n",
            "[5017] NA NA NA NA NA NA NA NA NA NA NA NA NA NA NA NA NA NA NA NA NA NA NA NA\n",
            "[5041] NA NA NA NA NA NA NA NA NA NA NA NA NA NA NA NA  8 NA NA NA NA NA NA NA\n",
            "[5065] NA NA NA NA NA NA NA NA NA NA NA NA NA NA NA NA NA NA NA NA NA NA NA NA\n",
            "[5089] NA NA NA NA NA NA NA NA NA NA NA NA NA NA NA  9  1 NA NA NA NA NA NA  2\n",
            "[5113]  3 NA NA NA NA NA NA NA NA NA NA NA NA NA NA NA NA NA NA NA NA NA NA NA\n",
            "[5137] NA NA NA NA NA NA NA NA NA NA NA NA NA NA NA NA NA NA NA NA NA  4 NA NA\n",
            "[5161] NA NA NA NA NA NA NA NA NA NA NA NA NA NA NA NA NA NA NA NA NA NA NA NA\n",
            "[5185] NA NA NA NA NA NA NA NA NA NA NA NA NA NA NA  5 NA NA NA NA NA NA NA NA\n",
            "[5209] NA NA NA NA NA NA NA NA  6 NA NA NA NA NA NA NA NA NA NA NA NA NA NA  7\n",
            "[5233] NA NA NA NA NA NA NA NA NA NA NA NA NA NA NA NA NA NA NA NA NA NA NA NA\n",
            "[5257] NA NA NA NA NA NA NA NA NA NA NA NA NA NA NA NA NA NA NA NA NA NA NA NA\n",
            "[5281] NA NA NA NA NA NA NA NA  8 NA NA NA NA NA NA NA NA NA NA NA NA NA NA NA\n",
            "[5305] NA NA NA NA NA NA NA NA NA NA NA NA NA NA NA NA NA NA NA NA NA NA NA NA\n",
            "[5329] NA NA NA NA NA NA NA  9  1 NA NA NA NA NA NA  2  3 NA NA NA NA NA NA NA\n",
            "[5353] NA NA NA NA NA NA NA NA NA NA NA NA NA NA NA NA NA NA NA NA NA NA NA NA\n",
            "[5377] NA NA NA NA NA NA NA NA NA NA NA NA NA  4 NA NA NA NA NA NA NA NA NA NA\n",
            "[5401] NA NA NA NA NA NA NA NA NA NA NA NA NA NA NA NA NA NA NA NA NA NA NA NA\n",
            "[5425] NA NA NA NA NA NA NA  5 NA NA NA NA NA NA NA NA NA NA NA NA NA NA NA NA\n",
            "[5449]  6 NA NA NA NA NA NA NA NA NA NA NA NA NA NA  7 NA NA NA NA NA NA NA NA\n",
            "[5473] NA NA NA NA NA NA NA NA NA NA NA NA NA NA NA NA NA NA NA NA NA NA NA NA\n",
            "[5497] NA NA NA NA NA NA NA NA NA NA NA NA NA NA NA NA NA NA NA NA NA NA NA NA\n",
            "[5521]  8 NA NA NA NA NA NA NA NA NA NA NA NA NA NA NA NA NA NA NA NA NA NA NA\n",
            "[5545] NA NA NA NA NA NA NA NA NA NA NA NA NA NA NA NA NA NA NA NA NA NA NA  9\n",
            "[5569]  1 NA NA NA NA NA NA  2  3 NA NA NA NA NA NA NA NA NA NA NA NA NA NA NA\n",
            "[5593] NA NA NA NA NA NA NA NA NA NA NA NA NA NA NA NA NA NA NA NA NA NA NA NA\n",
            "[5617] NA NA NA NA NA  4 NA NA NA NA NA NA NA NA NA NA NA NA NA NA NA NA NA NA\n",
            "[5641] NA NA NA NA NA NA NA NA NA NA NA NA NA NA NA NA NA NA NA NA NA NA NA  5\n",
            "[5665] NA NA NA NA NA NA NA NA NA NA NA NA NA NA NA NA  6 NA NA NA NA NA NA NA\n",
            "[5689] NA NA NA NA NA NA NA  7 NA NA NA NA NA NA NA NA NA NA NA NA NA NA NA NA\n",
            "[5713] NA NA NA NA NA NA NA NA NA NA NA NA NA NA NA NA NA NA NA NA NA NA NA NA\n",
            "[5737] NA NA NA NA NA NA NA NA NA NA NA NA NA NA NA NA  8 NA NA NA NA NA NA NA\n",
            "[5761] NA NA NA NA NA NA NA NA NA NA NA NA NA NA NA NA NA NA NA NA NA NA NA NA\n",
            "[5785] NA NA NA NA NA NA NA NA NA NA NA NA NA NA NA  9  1 NA NA NA NA NA NA  2\n",
            "[5809]  3 NA NA NA NA NA NA NA NA NA NA NA NA NA NA NA NA NA NA NA NA NA NA NA\n",
            "[5833] NA NA NA NA NA NA NA NA NA NA NA NA NA NA NA NA NA NA NA NA NA  4 NA NA\n",
            "[5857] NA NA NA NA NA NA NA NA NA NA NA NA NA NA NA NA NA NA NA NA NA NA NA NA\n",
            "[5881] NA NA NA NA NA NA NA NA NA NA NA NA NA NA NA  5 NA NA NA NA NA NA NA NA\n",
            "[5905] NA NA NA NA NA NA NA NA  6 NA NA NA NA NA NA NA NA NA NA NA NA NA NA  7\n",
            "[5929] NA NA NA NA NA NA NA NA NA NA NA NA NA NA NA NA NA NA NA NA NA NA NA NA\n",
            "[5953] NA NA NA NA NA NA NA NA NA NA NA NA NA NA NA NA NA NA NA NA NA NA NA NA\n",
            "[5977] NA NA NA NA NA NA NA NA  8 NA NA NA NA NA NA NA NA NA NA NA NA NA NA NA\n",
            "[6001] NA NA NA NA NA NA NA NA NA NA NA NA NA NA NA NA NA NA NA NA NA NA NA NA\n",
            "[6025] NA NA NA NA NA NA NA  9  1 NA NA NA NA NA NA  2  3 NA NA NA NA NA NA NA\n",
            "[6049] NA NA NA NA NA NA NA NA NA NA NA NA NA NA NA NA NA NA NA NA NA NA NA NA\n",
            "[6073] NA NA NA NA NA NA NA NA NA NA NA NA NA  4 NA NA NA NA NA NA NA NA NA NA\n",
            "[6097] NA NA NA NA NA NA NA NA NA NA NA NA NA NA NA NA NA NA NA NA NA NA NA NA\n",
            "[6121] NA NA NA NA NA NA NA  5 NA NA NA NA NA NA NA NA NA NA NA NA NA NA NA NA\n",
            "[6145]  6 NA NA NA NA NA NA NA NA NA NA NA NA NA NA  7 NA NA NA NA NA NA NA NA\n",
            "[6169] NA NA NA NA NA NA NA NA NA NA NA NA NA NA NA NA NA NA NA NA NA NA NA NA\n",
            "[6193] NA NA NA NA NA NA NA NA NA NA NA NA NA NA NA NA NA NA NA NA NA NA NA NA\n",
            "[6217]  8 NA NA NA NA NA NA NA NA NA NA NA NA NA NA NA NA NA NA NA NA NA NA NA\n",
            "[6241] NA NA NA NA NA NA NA NA NA NA NA NA NA NA NA NA NA NA NA NA NA NA NA  9\n",
            "[6265]  1 NA NA NA NA NA NA  2  3 NA NA NA NA NA NA NA NA NA NA NA NA NA NA NA\n",
            "[6289] NA NA NA NA NA NA NA NA NA NA NA NA NA NA NA NA NA NA NA NA NA NA NA NA\n",
            "[6313] NA NA NA NA NA  4 NA NA NA NA NA NA NA NA NA NA NA NA NA NA NA NA NA NA\n",
            "[6337] NA NA NA NA NA NA NA NA NA NA NA NA NA NA NA NA NA NA NA NA NA NA NA  5\n",
            "[6361] NA NA NA NA NA NA NA NA NA NA NA NA NA NA NA NA  6 NA NA NA NA NA NA NA\n",
            "[6385] NA NA NA NA NA NA NA  7 NA NA NA NA NA NA NA NA NA NA NA NA NA NA NA NA\n",
            "[6409] NA NA NA NA NA NA NA NA NA NA NA NA NA NA NA NA NA NA NA NA NA NA NA NA\n",
            "[6433] NA NA NA NA NA NA NA NA NA NA NA NA NA NA NA NA  8 NA NA NA NA NA NA NA\n",
            "[6457] NA NA NA NA NA NA NA NA NA NA NA NA NA NA NA NA NA NA NA NA NA NA NA NA\n",
            "[6481] NA NA NA NA NA NA NA NA NA NA NA NA NA NA NA  9  1 NA NA NA NA NA NA  2\n",
            "[6505]  3 NA NA NA NA NA NA NA NA NA NA NA NA NA NA NA NA NA NA NA NA NA NA NA\n",
            "[6529] NA NA NA NA NA NA NA NA NA NA NA NA NA NA NA NA NA NA NA NA NA  4 NA NA\n",
            "[6553] NA NA NA NA NA NA NA NA NA NA NA NA NA NA NA NA NA NA NA NA NA NA NA NA\n",
            "[6577] NA NA NA NA NA NA NA NA NA NA NA NA NA NA NA  5 NA NA NA NA NA NA NA NA\n",
            "[6601] NA NA NA NA NA NA NA NA  6 NA NA NA NA NA NA NA NA NA NA NA NA NA NA  7\n",
            "[6625] NA NA NA NA NA NA NA NA NA NA NA NA NA NA NA NA NA NA NA NA NA NA NA NA\n",
            "[6649] NA NA NA NA NA NA NA NA NA NA NA NA NA NA NA NA NA NA NA NA NA NA NA NA\n",
            "[6673] NA NA NA NA NA NA NA NA  8 NA NA NA NA NA NA NA NA NA NA NA NA NA NA NA\n",
            "[6697] NA NA NA NA NA NA NA NA NA NA NA NA NA NA NA NA NA NA NA NA NA NA NA NA\n",
            "[6721] NA NA NA NA NA NA NA  9  1 NA NA NA NA NA NA  2  3 NA NA NA NA NA NA NA\n",
            "[6745] NA NA NA NA NA NA NA NA NA NA NA NA NA NA NA NA NA NA NA NA NA NA NA NA\n",
            "[6769] NA NA NA NA NA NA NA NA NA NA NA NA NA  4 NA NA NA NA NA NA NA NA NA NA\n",
            "[6793] NA NA NA NA NA NA NA NA NA NA NA NA NA NA NA NA NA NA NA NA NA NA NA NA\n",
            "[6817] NA NA NA NA NA NA NA  5 NA NA NA NA NA NA NA NA NA NA NA NA NA NA NA NA\n",
            "[6841]  6 NA NA NA NA NA NA NA NA NA NA NA NA NA NA  7 NA NA NA NA NA NA NA NA\n",
            "[6865] NA NA NA NA NA NA NA NA NA NA NA NA NA NA NA NA NA NA NA NA NA NA NA NA\n",
            "[6889] NA NA NA NA NA NA NA NA NA NA NA NA NA NA NA NA NA NA NA NA NA NA NA NA\n",
            "[6913]  8 NA NA NA NA NA NA NA NA NA NA NA NA NA NA NA NA NA NA NA NA NA NA NA\n",
            "[6937] NA NA NA NA NA NA NA NA NA NA NA NA NA NA NA NA NA NA NA NA NA NA NA  9\n"
          ],
          "name": "stdout"
        }
      ]
    },
    {
      "cell_type": "code",
      "metadata": {
        "colab": {
          "base_uri": "https://localhost:8080/"
        },
        "id": "IT1X94n1D680",
        "outputId": "0bf50cf1-649e-4220-fb26-9529d045a321"
      },
      "source": [
        "print(!is.na(match(coal.long$Region, noncountries)))"
      ],
      "execution_count": 27,
      "outputs": [
        {
          "output_type": "stream",
          "text": [
            "   [1]  TRUE FALSE FALSE FALSE FALSE FALSE FALSE  TRUE  TRUE FALSE FALSE FALSE\n",
            "  [13] FALSE FALSE FALSE FALSE FALSE FALSE FALSE FALSE FALSE FALSE FALSE FALSE\n",
            "  [25] FALSE FALSE FALSE FALSE FALSE FALSE FALSE FALSE FALSE FALSE FALSE FALSE\n",
            "  [37] FALSE FALSE FALSE FALSE FALSE FALSE FALSE FALSE FALSE FALSE FALSE FALSE\n",
            "  [49] FALSE FALSE FALSE FALSE FALSE  TRUE FALSE FALSE FALSE FALSE FALSE FALSE\n",
            "  [61] FALSE FALSE FALSE FALSE FALSE FALSE FALSE FALSE FALSE FALSE FALSE FALSE\n",
            "  [73] FALSE FALSE FALSE FALSE FALSE FALSE FALSE FALSE FALSE FALSE FALSE FALSE\n",
            "  [85] FALSE FALSE FALSE FALSE FALSE FALSE FALSE FALSE FALSE FALSE FALSE  TRUE\n",
            "  [97] FALSE FALSE FALSE FALSE FALSE FALSE FALSE FALSE FALSE FALSE FALSE FALSE\n",
            " [109] FALSE FALSE FALSE FALSE  TRUE FALSE FALSE FALSE FALSE FALSE FALSE FALSE\n",
            " [121] FALSE FALSE FALSE FALSE FALSE FALSE FALSE  TRUE FALSE FALSE FALSE FALSE\n",
            " [133] FALSE FALSE FALSE FALSE FALSE FALSE FALSE FALSE FALSE FALSE FALSE FALSE\n",
            " [145] FALSE FALSE FALSE FALSE FALSE FALSE FALSE FALSE FALSE FALSE FALSE FALSE\n",
            " [157] FALSE FALSE FALSE FALSE FALSE FALSE FALSE FALSE FALSE FALSE FALSE FALSE\n",
            " [169] FALSE FALSE FALSE FALSE FALSE FALSE FALSE FALSE FALSE FALSE FALSE FALSE\n",
            " [181] FALSE FALSE FALSE FALSE  TRUE FALSE FALSE FALSE FALSE FALSE FALSE FALSE\n",
            " [193] FALSE FALSE FALSE FALSE FALSE FALSE FALSE FALSE FALSE FALSE FALSE FALSE\n",
            " [205] FALSE FALSE FALSE FALSE FALSE FALSE FALSE FALSE FALSE FALSE FALSE FALSE\n",
            " [217] FALSE FALSE FALSE FALSE FALSE FALSE FALSE FALSE FALSE FALSE FALSE FALSE\n",
            " [229] FALSE FALSE FALSE  TRUE  TRUE FALSE FALSE FALSE FALSE FALSE FALSE  TRUE\n",
            " [241]  TRUE FALSE FALSE FALSE FALSE FALSE FALSE FALSE FALSE FALSE FALSE FALSE\n",
            " [253] FALSE FALSE FALSE FALSE FALSE FALSE FALSE FALSE FALSE FALSE FALSE FALSE\n",
            " [265] FALSE FALSE FALSE FALSE FALSE FALSE FALSE FALSE FALSE FALSE FALSE FALSE\n",
            " [277] FALSE FALSE FALSE FALSE FALSE FALSE FALSE FALSE FALSE  TRUE FALSE FALSE\n",
            " [289] FALSE FALSE FALSE FALSE FALSE FALSE FALSE FALSE FALSE FALSE FALSE FALSE\n",
            " [301] FALSE FALSE FALSE FALSE FALSE FALSE FALSE FALSE FALSE FALSE FALSE FALSE\n",
            " [313] FALSE FALSE FALSE FALSE FALSE FALSE FALSE FALSE FALSE FALSE FALSE FALSE\n",
            " [325] FALSE FALSE FALSE  TRUE FALSE FALSE FALSE FALSE FALSE FALSE FALSE FALSE\n",
            " [337] FALSE FALSE FALSE FALSE FALSE FALSE FALSE FALSE  TRUE FALSE FALSE FALSE\n",
            " [349] FALSE FALSE FALSE FALSE FALSE FALSE FALSE FALSE FALSE FALSE FALSE  TRUE\n",
            " [361] FALSE FALSE FALSE FALSE FALSE FALSE FALSE FALSE FALSE FALSE FALSE FALSE\n",
            " [373] FALSE FALSE FALSE FALSE FALSE FALSE FALSE FALSE FALSE FALSE FALSE FALSE\n",
            " [385] FALSE FALSE FALSE FALSE FALSE FALSE FALSE FALSE FALSE FALSE FALSE FALSE\n",
            " [397] FALSE FALSE FALSE FALSE FALSE FALSE FALSE FALSE FALSE FALSE FALSE FALSE\n",
            " [409] FALSE FALSE FALSE FALSE FALSE FALSE FALSE FALSE  TRUE FALSE FALSE FALSE\n",
            " [421] FALSE FALSE FALSE FALSE FALSE FALSE FALSE FALSE FALSE FALSE FALSE FALSE\n",
            " [433] FALSE FALSE FALSE FALSE FALSE FALSE FALSE FALSE FALSE FALSE FALSE FALSE\n",
            " [445] FALSE FALSE FALSE FALSE FALSE FALSE FALSE FALSE FALSE FALSE FALSE FALSE\n",
            " [457] FALSE FALSE FALSE FALSE FALSE FALSE FALSE  TRUE  TRUE FALSE FALSE FALSE\n",
            " [469] FALSE FALSE FALSE  TRUE  TRUE FALSE FALSE FALSE FALSE FALSE FALSE FALSE\n",
            " [481] FALSE FALSE FALSE FALSE FALSE FALSE FALSE FALSE FALSE FALSE FALSE FALSE\n",
            " [493] FALSE FALSE FALSE FALSE FALSE FALSE FALSE FALSE FALSE FALSE FALSE FALSE\n",
            " [505] FALSE FALSE FALSE FALSE FALSE FALSE FALSE FALSE FALSE FALSE FALSE FALSE\n",
            " [517] FALSE  TRUE FALSE FALSE FALSE FALSE FALSE FALSE FALSE FALSE FALSE FALSE\n",
            " [529] FALSE FALSE FALSE FALSE FALSE FALSE FALSE FALSE FALSE FALSE FALSE FALSE\n",
            " [541] FALSE FALSE FALSE FALSE FALSE FALSE FALSE FALSE FALSE FALSE FALSE FALSE\n",
            " [553] FALSE FALSE FALSE FALSE FALSE FALSE FALSE  TRUE FALSE FALSE FALSE FALSE\n",
            " [565] FALSE FALSE FALSE FALSE FALSE FALSE FALSE FALSE FALSE FALSE FALSE FALSE\n",
            " [577]  TRUE FALSE FALSE FALSE FALSE FALSE FALSE FALSE FALSE FALSE FALSE FALSE\n",
            " [589] FALSE FALSE FALSE  TRUE FALSE FALSE FALSE FALSE FALSE FALSE FALSE FALSE\n",
            " [601] FALSE FALSE FALSE FALSE FALSE FALSE FALSE FALSE FALSE FALSE FALSE FALSE\n",
            " [613] FALSE FALSE FALSE FALSE FALSE FALSE FALSE FALSE FALSE FALSE FALSE FALSE\n",
            " [625] FALSE FALSE FALSE FALSE FALSE FALSE FALSE FALSE FALSE FALSE FALSE FALSE\n",
            " [637] FALSE FALSE FALSE FALSE FALSE FALSE FALSE FALSE FALSE FALSE FALSE FALSE\n",
            " [649]  TRUE FALSE FALSE FALSE FALSE FALSE FALSE FALSE FALSE FALSE FALSE FALSE\n",
            " [661] FALSE FALSE FALSE FALSE FALSE FALSE FALSE FALSE FALSE FALSE FALSE FALSE\n",
            " [673] FALSE FALSE FALSE FALSE FALSE FALSE FALSE FALSE FALSE FALSE FALSE FALSE\n",
            " [685] FALSE FALSE FALSE FALSE FALSE FALSE FALSE FALSE FALSE FALSE FALSE  TRUE\n",
            " [697]  TRUE FALSE FALSE FALSE FALSE FALSE FALSE  TRUE  TRUE FALSE FALSE FALSE\n",
            " [709] FALSE FALSE FALSE FALSE FALSE FALSE FALSE FALSE FALSE FALSE FALSE FALSE\n",
            " [721] FALSE FALSE FALSE FALSE FALSE FALSE FALSE FALSE FALSE FALSE FALSE FALSE\n",
            " [733] FALSE FALSE FALSE FALSE FALSE FALSE FALSE FALSE FALSE FALSE FALSE FALSE\n",
            " [745] FALSE FALSE FALSE FALSE FALSE  TRUE FALSE FALSE FALSE FALSE FALSE FALSE\n",
            " [757] FALSE FALSE FALSE FALSE FALSE FALSE FALSE FALSE FALSE FALSE FALSE FALSE\n",
            " [769] FALSE FALSE FALSE FALSE FALSE FALSE FALSE FALSE FALSE FALSE FALSE FALSE\n",
            " [781] FALSE FALSE FALSE FALSE FALSE FALSE FALSE FALSE FALSE FALSE FALSE  TRUE\n",
            " [793] FALSE FALSE FALSE FALSE FALSE FALSE FALSE FALSE FALSE FALSE FALSE FALSE\n",
            " [805] FALSE FALSE FALSE FALSE  TRUE FALSE FALSE FALSE FALSE FALSE FALSE FALSE\n",
            " [817] FALSE FALSE FALSE FALSE FALSE FALSE FALSE  TRUE FALSE FALSE FALSE FALSE\n",
            " [829] FALSE FALSE FALSE FALSE FALSE FALSE FALSE FALSE FALSE FALSE FALSE FALSE\n",
            " [841] FALSE FALSE FALSE FALSE FALSE FALSE FALSE FALSE FALSE FALSE FALSE FALSE\n",
            " [853] FALSE FALSE FALSE FALSE FALSE FALSE FALSE FALSE FALSE FALSE FALSE FALSE\n",
            " [865] FALSE FALSE FALSE FALSE FALSE FALSE FALSE FALSE FALSE FALSE FALSE FALSE\n",
            " [877] FALSE FALSE FALSE FALSE  TRUE FALSE FALSE FALSE FALSE FALSE FALSE FALSE\n",
            " [889] FALSE FALSE FALSE FALSE FALSE FALSE FALSE FALSE FALSE FALSE FALSE FALSE\n",
            " [901] FALSE FALSE FALSE FALSE FALSE FALSE FALSE FALSE FALSE FALSE FALSE FALSE\n",
            " [913] FALSE FALSE FALSE FALSE FALSE FALSE FALSE FALSE FALSE FALSE FALSE FALSE\n",
            " [925] FALSE FALSE FALSE  TRUE  TRUE FALSE FALSE FALSE FALSE FALSE FALSE  TRUE\n",
            " [937]  TRUE FALSE FALSE FALSE FALSE FALSE FALSE FALSE FALSE FALSE FALSE FALSE\n",
            " [949] FALSE FALSE FALSE FALSE FALSE FALSE FALSE FALSE FALSE FALSE FALSE FALSE\n",
            " [961] FALSE FALSE FALSE FALSE FALSE FALSE FALSE FALSE FALSE FALSE FALSE FALSE\n",
            " [973] FALSE FALSE FALSE FALSE FALSE FALSE FALSE FALSE FALSE  TRUE FALSE FALSE\n",
            " [985] FALSE FALSE FALSE FALSE FALSE FALSE FALSE FALSE FALSE FALSE FALSE FALSE\n",
            " [997] FALSE FALSE FALSE FALSE FALSE FALSE FALSE FALSE FALSE FALSE FALSE FALSE\n",
            "[1009] FALSE FALSE FALSE FALSE FALSE FALSE FALSE FALSE FALSE FALSE FALSE FALSE\n",
            "[1021] FALSE FALSE FALSE  TRUE FALSE FALSE FALSE FALSE FALSE FALSE FALSE FALSE\n",
            "[1033] FALSE FALSE FALSE FALSE FALSE FALSE FALSE FALSE  TRUE FALSE FALSE FALSE\n",
            "[1045] FALSE FALSE FALSE FALSE FALSE FALSE FALSE FALSE FALSE FALSE FALSE  TRUE\n",
            "[1057] FALSE FALSE FALSE FALSE FALSE FALSE FALSE FALSE FALSE FALSE FALSE FALSE\n",
            "[1069] FALSE FALSE FALSE FALSE FALSE FALSE FALSE FALSE FALSE FALSE FALSE FALSE\n",
            "[1081] FALSE FALSE FALSE FALSE FALSE FALSE FALSE FALSE FALSE FALSE FALSE FALSE\n",
            "[1093] FALSE FALSE FALSE FALSE FALSE FALSE FALSE FALSE FALSE FALSE FALSE FALSE\n",
            "[1105] FALSE FALSE FALSE FALSE FALSE FALSE FALSE FALSE  TRUE FALSE FALSE FALSE\n",
            "[1117] FALSE FALSE FALSE FALSE FALSE FALSE FALSE FALSE FALSE FALSE FALSE FALSE\n",
            "[1129] FALSE FALSE FALSE FALSE FALSE FALSE FALSE FALSE FALSE FALSE FALSE FALSE\n",
            "[1141] FALSE FALSE FALSE FALSE FALSE FALSE FALSE FALSE FALSE FALSE FALSE FALSE\n",
            "[1153] FALSE FALSE FALSE FALSE FALSE FALSE FALSE  TRUE  TRUE FALSE FALSE FALSE\n",
            "[1165] FALSE FALSE FALSE  TRUE  TRUE FALSE FALSE FALSE FALSE FALSE FALSE FALSE\n",
            "[1177] FALSE FALSE FALSE FALSE FALSE FALSE FALSE FALSE FALSE FALSE FALSE FALSE\n",
            "[1189] FALSE FALSE FALSE FALSE FALSE FALSE FALSE FALSE FALSE FALSE FALSE FALSE\n",
            "[1201] FALSE FALSE FALSE FALSE FALSE FALSE FALSE FALSE FALSE FALSE FALSE FALSE\n",
            "[1213] FALSE  TRUE FALSE FALSE FALSE FALSE FALSE FALSE FALSE FALSE FALSE FALSE\n",
            "[1225] FALSE FALSE FALSE FALSE FALSE FALSE FALSE FALSE FALSE FALSE FALSE FALSE\n",
            "[1237] FALSE FALSE FALSE FALSE FALSE FALSE FALSE FALSE FALSE FALSE FALSE FALSE\n",
            "[1249] FALSE FALSE FALSE FALSE FALSE FALSE FALSE  TRUE FALSE FALSE FALSE FALSE\n",
            "[1261] FALSE FALSE FALSE FALSE FALSE FALSE FALSE FALSE FALSE FALSE FALSE FALSE\n",
            "[1273]  TRUE FALSE FALSE FALSE FALSE FALSE FALSE FALSE FALSE FALSE FALSE FALSE\n",
            "[1285] FALSE FALSE FALSE  TRUE FALSE FALSE FALSE FALSE FALSE FALSE FALSE FALSE\n",
            "[1297] FALSE FALSE FALSE FALSE FALSE FALSE FALSE FALSE FALSE FALSE FALSE FALSE\n",
            "[1309] FALSE FALSE FALSE FALSE FALSE FALSE FALSE FALSE FALSE FALSE FALSE FALSE\n",
            "[1321] FALSE FALSE FALSE FALSE FALSE FALSE FALSE FALSE FALSE FALSE FALSE FALSE\n",
            "[1333] FALSE FALSE FALSE FALSE FALSE FALSE FALSE FALSE FALSE FALSE FALSE FALSE\n",
            "[1345]  TRUE FALSE FALSE FALSE FALSE FALSE FALSE FALSE FALSE FALSE FALSE FALSE\n",
            "[1357] FALSE FALSE FALSE FALSE FALSE FALSE FALSE FALSE FALSE FALSE FALSE FALSE\n",
            "[1369] FALSE FALSE FALSE FALSE FALSE FALSE FALSE FALSE FALSE FALSE FALSE FALSE\n",
            "[1381] FALSE FALSE FALSE FALSE FALSE FALSE FALSE FALSE FALSE FALSE FALSE  TRUE\n",
            "[1393]  TRUE FALSE FALSE FALSE FALSE FALSE FALSE  TRUE  TRUE FALSE FALSE FALSE\n",
            "[1405] FALSE FALSE FALSE FALSE FALSE FALSE FALSE FALSE FALSE FALSE FALSE FALSE\n",
            "[1417] FALSE FALSE FALSE FALSE FALSE FALSE FALSE FALSE FALSE FALSE FALSE FALSE\n",
            "[1429] FALSE FALSE FALSE FALSE FALSE FALSE FALSE FALSE FALSE FALSE FALSE FALSE\n",
            "[1441] FALSE FALSE FALSE FALSE FALSE  TRUE FALSE FALSE FALSE FALSE FALSE FALSE\n",
            "[1453] FALSE FALSE FALSE FALSE FALSE FALSE FALSE FALSE FALSE FALSE FALSE FALSE\n",
            "[1465] FALSE FALSE FALSE FALSE FALSE FALSE FALSE FALSE FALSE FALSE FALSE FALSE\n",
            "[1477] FALSE FALSE FALSE FALSE FALSE FALSE FALSE FALSE FALSE FALSE FALSE  TRUE\n",
            "[1489] FALSE FALSE FALSE FALSE FALSE FALSE FALSE FALSE FALSE FALSE FALSE FALSE\n",
            "[1501] FALSE FALSE FALSE FALSE  TRUE FALSE FALSE FALSE FALSE FALSE FALSE FALSE\n",
            "[1513] FALSE FALSE FALSE FALSE FALSE FALSE FALSE  TRUE FALSE FALSE FALSE FALSE\n",
            "[1525] FALSE FALSE FALSE FALSE FALSE FALSE FALSE FALSE FALSE FALSE FALSE FALSE\n",
            "[1537] FALSE FALSE FALSE FALSE FALSE FALSE FALSE FALSE FALSE FALSE FALSE FALSE\n",
            "[1549] FALSE FALSE FALSE FALSE FALSE FALSE FALSE FALSE FALSE FALSE FALSE FALSE\n",
            "[1561] FALSE FALSE FALSE FALSE FALSE FALSE FALSE FALSE FALSE FALSE FALSE FALSE\n",
            "[1573] FALSE FALSE FALSE FALSE  TRUE FALSE FALSE FALSE FALSE FALSE FALSE FALSE\n",
            "[1585] FALSE FALSE FALSE FALSE FALSE FALSE FALSE FALSE FALSE FALSE FALSE FALSE\n",
            "[1597] FALSE FALSE FALSE FALSE FALSE FALSE FALSE FALSE FALSE FALSE FALSE FALSE\n",
            "[1609] FALSE FALSE FALSE FALSE FALSE FALSE FALSE FALSE FALSE FALSE FALSE FALSE\n",
            "[1621] FALSE FALSE FALSE  TRUE  TRUE FALSE FALSE FALSE FALSE FALSE FALSE  TRUE\n",
            "[1633]  TRUE FALSE FALSE FALSE FALSE FALSE FALSE FALSE FALSE FALSE FALSE FALSE\n",
            "[1645] FALSE FALSE FALSE FALSE FALSE FALSE FALSE FALSE FALSE FALSE FALSE FALSE\n",
            "[1657] FALSE FALSE FALSE FALSE FALSE FALSE FALSE FALSE FALSE FALSE FALSE FALSE\n",
            "[1669] FALSE FALSE FALSE FALSE FALSE FALSE FALSE FALSE FALSE  TRUE FALSE FALSE\n",
            "[1681] FALSE FALSE FALSE FALSE FALSE FALSE FALSE FALSE FALSE FALSE FALSE FALSE\n",
            "[1693] FALSE FALSE FALSE FALSE FALSE FALSE FALSE FALSE FALSE FALSE FALSE FALSE\n",
            "[1705] FALSE FALSE FALSE FALSE FALSE FALSE FALSE FALSE FALSE FALSE FALSE FALSE\n",
            "[1717] FALSE FALSE FALSE  TRUE FALSE FALSE FALSE FALSE FALSE FALSE FALSE FALSE\n",
            "[1729] FALSE FALSE FALSE FALSE FALSE FALSE FALSE FALSE  TRUE FALSE FALSE FALSE\n",
            "[1741] FALSE FALSE FALSE FALSE FALSE FALSE FALSE FALSE FALSE FALSE FALSE  TRUE\n",
            "[1753] FALSE FALSE FALSE FALSE FALSE FALSE FALSE FALSE FALSE FALSE FALSE FALSE\n",
            "[1765] FALSE FALSE FALSE FALSE FALSE FALSE FALSE FALSE FALSE FALSE FALSE FALSE\n",
            "[1777] FALSE FALSE FALSE FALSE FALSE FALSE FALSE FALSE FALSE FALSE FALSE FALSE\n",
            "[1789] FALSE FALSE FALSE FALSE FALSE FALSE FALSE FALSE FALSE FALSE FALSE FALSE\n",
            "[1801] FALSE FALSE FALSE FALSE FALSE FALSE FALSE FALSE  TRUE FALSE FALSE FALSE\n",
            "[1813] FALSE FALSE FALSE FALSE FALSE FALSE FALSE FALSE FALSE FALSE FALSE FALSE\n",
            "[1825] FALSE FALSE FALSE FALSE FALSE FALSE FALSE FALSE FALSE FALSE FALSE FALSE\n",
            "[1837] FALSE FALSE FALSE FALSE FALSE FALSE FALSE FALSE FALSE FALSE FALSE FALSE\n",
            "[1849] FALSE FALSE FALSE FALSE FALSE FALSE FALSE  TRUE  TRUE FALSE FALSE FALSE\n",
            "[1861] FALSE FALSE FALSE  TRUE  TRUE FALSE FALSE FALSE FALSE FALSE FALSE FALSE\n",
            "[1873] FALSE FALSE FALSE FALSE FALSE FALSE FALSE FALSE FALSE FALSE FALSE FALSE\n",
            "[1885] FALSE FALSE FALSE FALSE FALSE FALSE FALSE FALSE FALSE FALSE FALSE FALSE\n",
            "[1897] FALSE FALSE FALSE FALSE FALSE FALSE FALSE FALSE FALSE FALSE FALSE FALSE\n",
            "[1909] FALSE  TRUE FALSE FALSE FALSE FALSE FALSE FALSE FALSE FALSE FALSE FALSE\n",
            "[1921] FALSE FALSE FALSE FALSE FALSE FALSE FALSE FALSE FALSE FALSE FALSE FALSE\n",
            "[1933] FALSE FALSE FALSE FALSE FALSE FALSE FALSE FALSE FALSE FALSE FALSE FALSE\n",
            "[1945] FALSE FALSE FALSE FALSE FALSE FALSE FALSE  TRUE FALSE FALSE FALSE FALSE\n",
            "[1957] FALSE FALSE FALSE FALSE FALSE FALSE FALSE FALSE FALSE FALSE FALSE FALSE\n",
            "[1969]  TRUE FALSE FALSE FALSE FALSE FALSE FALSE FALSE FALSE FALSE FALSE FALSE\n",
            "[1981] FALSE FALSE FALSE  TRUE FALSE FALSE FALSE FALSE FALSE FALSE FALSE FALSE\n",
            "[1993] FALSE FALSE FALSE FALSE FALSE FALSE FALSE FALSE FALSE FALSE FALSE FALSE\n",
            "[2005] FALSE FALSE FALSE FALSE FALSE FALSE FALSE FALSE FALSE FALSE FALSE FALSE\n",
            "[2017] FALSE FALSE FALSE FALSE FALSE FALSE FALSE FALSE FALSE FALSE FALSE FALSE\n",
            "[2029] FALSE FALSE FALSE FALSE FALSE FALSE FALSE FALSE FALSE FALSE FALSE FALSE\n",
            "[2041]  TRUE FALSE FALSE FALSE FALSE FALSE FALSE FALSE FALSE FALSE FALSE FALSE\n",
            "[2053] FALSE FALSE FALSE FALSE FALSE FALSE FALSE FALSE FALSE FALSE FALSE FALSE\n",
            "[2065] FALSE FALSE FALSE FALSE FALSE FALSE FALSE FALSE FALSE FALSE FALSE FALSE\n",
            "[2077] FALSE FALSE FALSE FALSE FALSE FALSE FALSE FALSE FALSE FALSE FALSE  TRUE\n",
            "[2089]  TRUE FALSE FALSE FALSE FALSE FALSE FALSE  TRUE  TRUE FALSE FALSE FALSE\n",
            "[2101] FALSE FALSE FALSE FALSE FALSE FALSE FALSE FALSE FALSE FALSE FALSE FALSE\n",
            "[2113] FALSE FALSE FALSE FALSE FALSE FALSE FALSE FALSE FALSE FALSE FALSE FALSE\n",
            "[2125] FALSE FALSE FALSE FALSE FALSE FALSE FALSE FALSE FALSE FALSE FALSE FALSE\n",
            "[2137] FALSE FALSE FALSE FALSE FALSE  TRUE FALSE FALSE FALSE FALSE FALSE FALSE\n",
            "[2149] FALSE FALSE FALSE FALSE FALSE FALSE FALSE FALSE FALSE FALSE FALSE FALSE\n",
            "[2161] FALSE FALSE FALSE FALSE FALSE FALSE FALSE FALSE FALSE FALSE FALSE FALSE\n",
            "[2173] FALSE FALSE FALSE FALSE FALSE FALSE FALSE FALSE FALSE FALSE FALSE  TRUE\n",
            "[2185] FALSE FALSE FALSE FALSE FALSE FALSE FALSE FALSE FALSE FALSE FALSE FALSE\n",
            "[2197] FALSE FALSE FALSE FALSE  TRUE FALSE FALSE FALSE FALSE FALSE FALSE FALSE\n",
            "[2209] FALSE FALSE FALSE FALSE FALSE FALSE FALSE  TRUE FALSE FALSE FALSE FALSE\n",
            "[2221] FALSE FALSE FALSE FALSE FALSE FALSE FALSE FALSE FALSE FALSE FALSE FALSE\n",
            "[2233] FALSE FALSE FALSE FALSE FALSE FALSE FALSE FALSE FALSE FALSE FALSE FALSE\n",
            "[2245] FALSE FALSE FALSE FALSE FALSE FALSE FALSE FALSE FALSE FALSE FALSE FALSE\n",
            "[2257] FALSE FALSE FALSE FALSE FALSE FALSE FALSE FALSE FALSE FALSE FALSE FALSE\n",
            "[2269] FALSE FALSE FALSE FALSE  TRUE FALSE FALSE FALSE FALSE FALSE FALSE FALSE\n",
            "[2281] FALSE FALSE FALSE FALSE FALSE FALSE FALSE FALSE FALSE FALSE FALSE FALSE\n",
            "[2293] FALSE FALSE FALSE FALSE FALSE FALSE FALSE FALSE FALSE FALSE FALSE FALSE\n",
            "[2305] FALSE FALSE FALSE FALSE FALSE FALSE FALSE FALSE FALSE FALSE FALSE FALSE\n",
            "[2317] FALSE FALSE FALSE  TRUE  TRUE FALSE FALSE FALSE FALSE FALSE FALSE  TRUE\n",
            "[2329]  TRUE FALSE FALSE FALSE FALSE FALSE FALSE FALSE FALSE FALSE FALSE FALSE\n",
            "[2341] FALSE FALSE FALSE FALSE FALSE FALSE FALSE FALSE FALSE FALSE FALSE FALSE\n",
            "[2353] FALSE FALSE FALSE FALSE FALSE FALSE FALSE FALSE FALSE FALSE FALSE FALSE\n",
            "[2365] FALSE FALSE FALSE FALSE FALSE FALSE FALSE FALSE FALSE  TRUE FALSE FALSE\n",
            "[2377] FALSE FALSE FALSE FALSE FALSE FALSE FALSE FALSE FALSE FALSE FALSE FALSE\n",
            "[2389] FALSE FALSE FALSE FALSE FALSE FALSE FALSE FALSE FALSE FALSE FALSE FALSE\n",
            "[2401] FALSE FALSE FALSE FALSE FALSE FALSE FALSE FALSE FALSE FALSE FALSE FALSE\n",
            "[2413] FALSE FALSE FALSE  TRUE FALSE FALSE FALSE FALSE FALSE FALSE FALSE FALSE\n",
            "[2425] FALSE FALSE FALSE FALSE FALSE FALSE FALSE FALSE  TRUE FALSE FALSE FALSE\n",
            "[2437] FALSE FALSE FALSE FALSE FALSE FALSE FALSE FALSE FALSE FALSE FALSE  TRUE\n",
            "[2449] FALSE FALSE FALSE FALSE FALSE FALSE FALSE FALSE FALSE FALSE FALSE FALSE\n",
            "[2461] FALSE FALSE FALSE FALSE FALSE FALSE FALSE FALSE FALSE FALSE FALSE FALSE\n",
            "[2473] FALSE FALSE FALSE FALSE FALSE FALSE FALSE FALSE FALSE FALSE FALSE FALSE\n",
            "[2485] FALSE FALSE FALSE FALSE FALSE FALSE FALSE FALSE FALSE FALSE FALSE FALSE\n",
            "[2497] FALSE FALSE FALSE FALSE FALSE FALSE FALSE FALSE  TRUE FALSE FALSE FALSE\n",
            "[2509] FALSE FALSE FALSE FALSE FALSE FALSE FALSE FALSE FALSE FALSE FALSE FALSE\n",
            "[2521] FALSE FALSE FALSE FALSE FALSE FALSE FALSE FALSE FALSE FALSE FALSE FALSE\n",
            "[2533] FALSE FALSE FALSE FALSE FALSE FALSE FALSE FALSE FALSE FALSE FALSE FALSE\n",
            "[2545] FALSE FALSE FALSE FALSE FALSE FALSE FALSE  TRUE  TRUE FALSE FALSE FALSE\n",
            "[2557] FALSE FALSE FALSE  TRUE  TRUE FALSE FALSE FALSE FALSE FALSE FALSE FALSE\n",
            "[2569] FALSE FALSE FALSE FALSE FALSE FALSE FALSE FALSE FALSE FALSE FALSE FALSE\n",
            "[2581] FALSE FALSE FALSE FALSE FALSE FALSE FALSE FALSE FALSE FALSE FALSE FALSE\n",
            "[2593] FALSE FALSE FALSE FALSE FALSE FALSE FALSE FALSE FALSE FALSE FALSE FALSE\n",
            "[2605] FALSE  TRUE FALSE FALSE FALSE FALSE FALSE FALSE FALSE FALSE FALSE FALSE\n",
            "[2617] FALSE FALSE FALSE FALSE FALSE FALSE FALSE FALSE FALSE FALSE FALSE FALSE\n",
            "[2629] FALSE FALSE FALSE FALSE FALSE FALSE FALSE FALSE FALSE FALSE FALSE FALSE\n",
            "[2641] FALSE FALSE FALSE FALSE FALSE FALSE FALSE  TRUE FALSE FALSE FALSE FALSE\n",
            "[2653] FALSE FALSE FALSE FALSE FALSE FALSE FALSE FALSE FALSE FALSE FALSE FALSE\n",
            "[2665]  TRUE FALSE FALSE FALSE FALSE FALSE FALSE FALSE FALSE FALSE FALSE FALSE\n",
            "[2677] FALSE FALSE FALSE  TRUE FALSE FALSE FALSE FALSE FALSE FALSE FALSE FALSE\n",
            "[2689] FALSE FALSE FALSE FALSE FALSE FALSE FALSE FALSE FALSE FALSE FALSE FALSE\n",
            "[2701] FALSE FALSE FALSE FALSE FALSE FALSE FALSE FALSE FALSE FALSE FALSE FALSE\n",
            "[2713] FALSE FALSE FALSE FALSE FALSE FALSE FALSE FALSE FALSE FALSE FALSE FALSE\n",
            "[2725] FALSE FALSE FALSE FALSE FALSE FALSE FALSE FALSE FALSE FALSE FALSE FALSE\n",
            "[2737]  TRUE FALSE FALSE FALSE FALSE FALSE FALSE FALSE FALSE FALSE FALSE FALSE\n",
            "[2749] FALSE FALSE FALSE FALSE FALSE FALSE FALSE FALSE FALSE FALSE FALSE FALSE\n",
            "[2761] FALSE FALSE FALSE FALSE FALSE FALSE FALSE FALSE FALSE FALSE FALSE FALSE\n",
            "[2773] FALSE FALSE FALSE FALSE FALSE FALSE FALSE FALSE FALSE FALSE FALSE  TRUE\n",
            "[2785]  TRUE FALSE FALSE FALSE FALSE FALSE FALSE  TRUE  TRUE FALSE FALSE FALSE\n",
            "[2797] FALSE FALSE FALSE FALSE FALSE FALSE FALSE FALSE FALSE FALSE FALSE FALSE\n",
            "[2809] FALSE FALSE FALSE FALSE FALSE FALSE FALSE FALSE FALSE FALSE FALSE FALSE\n",
            "[2821] FALSE FALSE FALSE FALSE FALSE FALSE FALSE FALSE FALSE FALSE FALSE FALSE\n",
            "[2833] FALSE FALSE FALSE FALSE FALSE  TRUE FALSE FALSE FALSE FALSE FALSE FALSE\n",
            "[2845] FALSE FALSE FALSE FALSE FALSE FALSE FALSE FALSE FALSE FALSE FALSE FALSE\n",
            "[2857] FALSE FALSE FALSE FALSE FALSE FALSE FALSE FALSE FALSE FALSE FALSE FALSE\n",
            "[2869] FALSE FALSE FALSE FALSE FALSE FALSE FALSE FALSE FALSE FALSE FALSE  TRUE\n",
            "[2881] FALSE FALSE FALSE FALSE FALSE FALSE FALSE FALSE FALSE FALSE FALSE FALSE\n",
            "[2893] FALSE FALSE FALSE FALSE  TRUE FALSE FALSE FALSE FALSE FALSE FALSE FALSE\n",
            "[2905] FALSE FALSE FALSE FALSE FALSE FALSE FALSE  TRUE FALSE FALSE FALSE FALSE\n",
            "[2917] FALSE FALSE FALSE FALSE FALSE FALSE FALSE FALSE FALSE FALSE FALSE FALSE\n",
            "[2929] FALSE FALSE FALSE FALSE FALSE FALSE FALSE FALSE FALSE FALSE FALSE FALSE\n",
            "[2941] FALSE FALSE FALSE FALSE FALSE FALSE FALSE FALSE FALSE FALSE FALSE FALSE\n",
            "[2953] FALSE FALSE FALSE FALSE FALSE FALSE FALSE FALSE FALSE FALSE FALSE FALSE\n",
            "[2965] FALSE FALSE FALSE FALSE  TRUE FALSE FALSE FALSE FALSE FALSE FALSE FALSE\n",
            "[2977] FALSE FALSE FALSE FALSE FALSE FALSE FALSE FALSE FALSE FALSE FALSE FALSE\n",
            "[2989] FALSE FALSE FALSE FALSE FALSE FALSE FALSE FALSE FALSE FALSE FALSE FALSE\n",
            "[3001] FALSE FALSE FALSE FALSE FALSE FALSE FALSE FALSE FALSE FALSE FALSE FALSE\n",
            "[3013] FALSE FALSE FALSE  TRUE  TRUE FALSE FALSE FALSE FALSE FALSE FALSE  TRUE\n",
            "[3025]  TRUE FALSE FALSE FALSE FALSE FALSE FALSE FALSE FALSE FALSE FALSE FALSE\n",
            "[3037] FALSE FALSE FALSE FALSE FALSE FALSE FALSE FALSE FALSE FALSE FALSE FALSE\n",
            "[3049] FALSE FALSE FALSE FALSE FALSE FALSE FALSE FALSE FALSE FALSE FALSE FALSE\n",
            "[3061] FALSE FALSE FALSE FALSE FALSE FALSE FALSE FALSE FALSE  TRUE FALSE FALSE\n",
            "[3073] FALSE FALSE FALSE FALSE FALSE FALSE FALSE FALSE FALSE FALSE FALSE FALSE\n",
            "[3085] FALSE FALSE FALSE FALSE FALSE FALSE FALSE FALSE FALSE FALSE FALSE FALSE\n",
            "[3097] FALSE FALSE FALSE FALSE FALSE FALSE FALSE FALSE FALSE FALSE FALSE FALSE\n",
            "[3109] FALSE FALSE FALSE  TRUE FALSE FALSE FALSE FALSE FALSE FALSE FALSE FALSE\n",
            "[3121] FALSE FALSE FALSE FALSE FALSE FALSE FALSE FALSE  TRUE FALSE FALSE FALSE\n",
            "[3133] FALSE FALSE FALSE FALSE FALSE FALSE FALSE FALSE FALSE FALSE FALSE  TRUE\n",
            "[3145] FALSE FALSE FALSE FALSE FALSE FALSE FALSE FALSE FALSE FALSE FALSE FALSE\n",
            "[3157] FALSE FALSE FALSE FALSE FALSE FALSE FALSE FALSE FALSE FALSE FALSE FALSE\n",
            "[3169] FALSE FALSE FALSE FALSE FALSE FALSE FALSE FALSE FALSE FALSE FALSE FALSE\n",
            "[3181] FALSE FALSE FALSE FALSE FALSE FALSE FALSE FALSE FALSE FALSE FALSE FALSE\n",
            "[3193] FALSE FALSE FALSE FALSE FALSE FALSE FALSE FALSE  TRUE FALSE FALSE FALSE\n",
            "[3205] FALSE FALSE FALSE FALSE FALSE FALSE FALSE FALSE FALSE FALSE FALSE FALSE\n",
            "[3217] FALSE FALSE FALSE FALSE FALSE FALSE FALSE FALSE FALSE FALSE FALSE FALSE\n",
            "[3229] FALSE FALSE FALSE FALSE FALSE FALSE FALSE FALSE FALSE FALSE FALSE FALSE\n",
            "[3241] FALSE FALSE FALSE FALSE FALSE FALSE FALSE  TRUE  TRUE FALSE FALSE FALSE\n",
            "[3253] FALSE FALSE FALSE  TRUE  TRUE FALSE FALSE FALSE FALSE FALSE FALSE FALSE\n",
            "[3265] FALSE FALSE FALSE FALSE FALSE FALSE FALSE FALSE FALSE FALSE FALSE FALSE\n",
            "[3277] FALSE FALSE FALSE FALSE FALSE FALSE FALSE FALSE FALSE FALSE FALSE FALSE\n",
            "[3289] FALSE FALSE FALSE FALSE FALSE FALSE FALSE FALSE FALSE FALSE FALSE FALSE\n",
            "[3301] FALSE  TRUE FALSE FALSE FALSE FALSE FALSE FALSE FALSE FALSE FALSE FALSE\n",
            "[3313] FALSE FALSE FALSE FALSE FALSE FALSE FALSE FALSE FALSE FALSE FALSE FALSE\n",
            "[3325] FALSE FALSE FALSE FALSE FALSE FALSE FALSE FALSE FALSE FALSE FALSE FALSE\n",
            "[3337] FALSE FALSE FALSE FALSE FALSE FALSE FALSE  TRUE FALSE FALSE FALSE FALSE\n",
            "[3349] FALSE FALSE FALSE FALSE FALSE FALSE FALSE FALSE FALSE FALSE FALSE FALSE\n",
            "[3361]  TRUE FALSE FALSE FALSE FALSE FALSE FALSE FALSE FALSE FALSE FALSE FALSE\n",
            "[3373] FALSE FALSE FALSE  TRUE FALSE FALSE FALSE FALSE FALSE FALSE FALSE FALSE\n",
            "[3385] FALSE FALSE FALSE FALSE FALSE FALSE FALSE FALSE FALSE FALSE FALSE FALSE\n",
            "[3397] FALSE FALSE FALSE FALSE FALSE FALSE FALSE FALSE FALSE FALSE FALSE FALSE\n",
            "[3409] FALSE FALSE FALSE FALSE FALSE FALSE FALSE FALSE FALSE FALSE FALSE FALSE\n",
            "[3421] FALSE FALSE FALSE FALSE FALSE FALSE FALSE FALSE FALSE FALSE FALSE FALSE\n",
            "[3433]  TRUE FALSE FALSE FALSE FALSE FALSE FALSE FALSE FALSE FALSE FALSE FALSE\n",
            "[3445] FALSE FALSE FALSE FALSE FALSE FALSE FALSE FALSE FALSE FALSE FALSE FALSE\n",
            "[3457] FALSE FALSE FALSE FALSE FALSE FALSE FALSE FALSE FALSE FALSE FALSE FALSE\n",
            "[3469] FALSE FALSE FALSE FALSE FALSE FALSE FALSE FALSE FALSE FALSE FALSE  TRUE\n",
            "[3481]  TRUE FALSE FALSE FALSE FALSE FALSE FALSE  TRUE  TRUE FALSE FALSE FALSE\n",
            "[3493] FALSE FALSE FALSE FALSE FALSE FALSE FALSE FALSE FALSE FALSE FALSE FALSE\n",
            "[3505] FALSE FALSE FALSE FALSE FALSE FALSE FALSE FALSE FALSE FALSE FALSE FALSE\n",
            "[3517] FALSE FALSE FALSE FALSE FALSE FALSE FALSE FALSE FALSE FALSE FALSE FALSE\n",
            "[3529] FALSE FALSE FALSE FALSE FALSE  TRUE FALSE FALSE FALSE FALSE FALSE FALSE\n",
            "[3541] FALSE FALSE FALSE FALSE FALSE FALSE FALSE FALSE FALSE FALSE FALSE FALSE\n",
            "[3553] FALSE FALSE FALSE FALSE FALSE FALSE FALSE FALSE FALSE FALSE FALSE FALSE\n",
            "[3565] FALSE FALSE FALSE FALSE FALSE FALSE FALSE FALSE FALSE FALSE FALSE  TRUE\n",
            "[3577] FALSE FALSE FALSE FALSE FALSE FALSE FALSE FALSE FALSE FALSE FALSE FALSE\n",
            "[3589] FALSE FALSE FALSE FALSE  TRUE FALSE FALSE FALSE FALSE FALSE FALSE FALSE\n",
            "[3601] FALSE FALSE FALSE FALSE FALSE FALSE FALSE  TRUE FALSE FALSE FALSE FALSE\n",
            "[3613] FALSE FALSE FALSE FALSE FALSE FALSE FALSE FALSE FALSE FALSE FALSE FALSE\n",
            "[3625] FALSE FALSE FALSE FALSE FALSE FALSE FALSE FALSE FALSE FALSE FALSE FALSE\n",
            "[3637] FALSE FALSE FALSE FALSE FALSE FALSE FALSE FALSE FALSE FALSE FALSE FALSE\n",
            "[3649] FALSE FALSE FALSE FALSE FALSE FALSE FALSE FALSE FALSE FALSE FALSE FALSE\n",
            "[3661] FALSE FALSE FALSE FALSE  TRUE FALSE FALSE FALSE FALSE FALSE FALSE FALSE\n",
            "[3673] FALSE FALSE FALSE FALSE FALSE FALSE FALSE FALSE FALSE FALSE FALSE FALSE\n",
            "[3685] FALSE FALSE FALSE FALSE FALSE FALSE FALSE FALSE FALSE FALSE FALSE FALSE\n",
            "[3697] FALSE FALSE FALSE FALSE FALSE FALSE FALSE FALSE FALSE FALSE FALSE FALSE\n",
            "[3709] FALSE FALSE FALSE  TRUE  TRUE FALSE FALSE FALSE FALSE FALSE FALSE  TRUE\n",
            "[3721]  TRUE FALSE FALSE FALSE FALSE FALSE FALSE FALSE FALSE FALSE FALSE FALSE\n",
            "[3733] FALSE FALSE FALSE FALSE FALSE FALSE FALSE FALSE FALSE FALSE FALSE FALSE\n",
            "[3745] FALSE FALSE FALSE FALSE FALSE FALSE FALSE FALSE FALSE FALSE FALSE FALSE\n",
            "[3757] FALSE FALSE FALSE FALSE FALSE FALSE FALSE FALSE FALSE  TRUE FALSE FALSE\n",
            "[3769] FALSE FALSE FALSE FALSE FALSE FALSE FALSE FALSE FALSE FALSE FALSE FALSE\n",
            "[3781] FALSE FALSE FALSE FALSE FALSE FALSE FALSE FALSE FALSE FALSE FALSE FALSE\n",
            "[3793] FALSE FALSE FALSE FALSE FALSE FALSE FALSE FALSE FALSE FALSE FALSE FALSE\n",
            "[3805] FALSE FALSE FALSE  TRUE FALSE FALSE FALSE FALSE FALSE FALSE FALSE FALSE\n",
            "[3817] FALSE FALSE FALSE FALSE FALSE FALSE FALSE FALSE  TRUE FALSE FALSE FALSE\n",
            "[3829] FALSE FALSE FALSE FALSE FALSE FALSE FALSE FALSE FALSE FALSE FALSE  TRUE\n",
            "[3841] FALSE FALSE FALSE FALSE FALSE FALSE FALSE FALSE FALSE FALSE FALSE FALSE\n",
            "[3853] FALSE FALSE FALSE FALSE FALSE FALSE FALSE FALSE FALSE FALSE FALSE FALSE\n",
            "[3865] FALSE FALSE FALSE FALSE FALSE FALSE FALSE FALSE FALSE FALSE FALSE FALSE\n",
            "[3877] FALSE FALSE FALSE FALSE FALSE FALSE FALSE FALSE FALSE FALSE FALSE FALSE\n",
            "[3889] FALSE FALSE FALSE FALSE FALSE FALSE FALSE FALSE  TRUE FALSE FALSE FALSE\n",
            "[3901] FALSE FALSE FALSE FALSE FALSE FALSE FALSE FALSE FALSE FALSE FALSE FALSE\n",
            "[3913] FALSE FALSE FALSE FALSE FALSE FALSE FALSE FALSE FALSE FALSE FALSE FALSE\n",
            "[3925] FALSE FALSE FALSE FALSE FALSE FALSE FALSE FALSE FALSE FALSE FALSE FALSE\n",
            "[3937] FALSE FALSE FALSE FALSE FALSE FALSE FALSE  TRUE  TRUE FALSE FALSE FALSE\n",
            "[3949] FALSE FALSE FALSE  TRUE  TRUE FALSE FALSE FALSE FALSE FALSE FALSE FALSE\n",
            "[3961] FALSE FALSE FALSE FALSE FALSE FALSE FALSE FALSE FALSE FALSE FALSE FALSE\n",
            "[3973] FALSE FALSE FALSE FALSE FALSE FALSE FALSE FALSE FALSE FALSE FALSE FALSE\n",
            "[3985] FALSE FALSE FALSE FALSE FALSE FALSE FALSE FALSE FALSE FALSE FALSE FALSE\n",
            "[3997] FALSE  TRUE FALSE FALSE FALSE FALSE FALSE FALSE FALSE FALSE FALSE FALSE\n",
            "[4009] FALSE FALSE FALSE FALSE FALSE FALSE FALSE FALSE FALSE FALSE FALSE FALSE\n",
            "[4021] FALSE FALSE FALSE FALSE FALSE FALSE FALSE FALSE FALSE FALSE FALSE FALSE\n",
            "[4033] FALSE FALSE FALSE FALSE FALSE FALSE FALSE  TRUE FALSE FALSE FALSE FALSE\n",
            "[4045] FALSE FALSE FALSE FALSE FALSE FALSE FALSE FALSE FALSE FALSE FALSE FALSE\n",
            "[4057]  TRUE FALSE FALSE FALSE FALSE FALSE FALSE FALSE FALSE FALSE FALSE FALSE\n",
            "[4069] FALSE FALSE FALSE  TRUE FALSE FALSE FALSE FALSE FALSE FALSE FALSE FALSE\n",
            "[4081] FALSE FALSE FALSE FALSE FALSE FALSE FALSE FALSE FALSE FALSE FALSE FALSE\n",
            "[4093] FALSE FALSE FALSE FALSE FALSE FALSE FALSE FALSE FALSE FALSE FALSE FALSE\n",
            "[4105] FALSE FALSE FALSE FALSE FALSE FALSE FALSE FALSE FALSE FALSE FALSE FALSE\n",
            "[4117] FALSE FALSE FALSE FALSE FALSE FALSE FALSE FALSE FALSE FALSE FALSE FALSE\n",
            "[4129]  TRUE FALSE FALSE FALSE FALSE FALSE FALSE FALSE FALSE FALSE FALSE FALSE\n",
            "[4141] FALSE FALSE FALSE FALSE FALSE FALSE FALSE FALSE FALSE FALSE FALSE FALSE\n",
            "[4153] FALSE FALSE FALSE FALSE FALSE FALSE FALSE FALSE FALSE FALSE FALSE FALSE\n",
            "[4165] FALSE FALSE FALSE FALSE FALSE FALSE FALSE FALSE FALSE FALSE FALSE  TRUE\n",
            "[4177]  TRUE FALSE FALSE FALSE FALSE FALSE FALSE  TRUE  TRUE FALSE FALSE FALSE\n",
            "[4189] FALSE FALSE FALSE FALSE FALSE FALSE FALSE FALSE FALSE FALSE FALSE FALSE\n",
            "[4201] FALSE FALSE FALSE FALSE FALSE FALSE FALSE FALSE FALSE FALSE FALSE FALSE\n",
            "[4213] FALSE FALSE FALSE FALSE FALSE FALSE FALSE FALSE FALSE FALSE FALSE FALSE\n",
            "[4225] FALSE FALSE FALSE FALSE FALSE  TRUE FALSE FALSE FALSE FALSE FALSE FALSE\n",
            "[4237] FALSE FALSE FALSE FALSE FALSE FALSE FALSE FALSE FALSE FALSE FALSE FALSE\n",
            "[4249] FALSE FALSE FALSE FALSE FALSE FALSE FALSE FALSE FALSE FALSE FALSE FALSE\n",
            "[4261] FALSE FALSE FALSE FALSE FALSE FALSE FALSE FALSE FALSE FALSE FALSE  TRUE\n",
            "[4273] FALSE FALSE FALSE FALSE FALSE FALSE FALSE FALSE FALSE FALSE FALSE FALSE\n",
            "[4285] FALSE FALSE FALSE FALSE  TRUE FALSE FALSE FALSE FALSE FALSE FALSE FALSE\n",
            "[4297] FALSE FALSE FALSE FALSE FALSE FALSE FALSE  TRUE FALSE FALSE FALSE FALSE\n",
            "[4309] FALSE FALSE FALSE FALSE FALSE FALSE FALSE FALSE FALSE FALSE FALSE FALSE\n",
            "[4321] FALSE FALSE FALSE FALSE FALSE FALSE FALSE FALSE FALSE FALSE FALSE FALSE\n",
            "[4333] FALSE FALSE FALSE FALSE FALSE FALSE FALSE FALSE FALSE FALSE FALSE FALSE\n",
            "[4345] FALSE FALSE FALSE FALSE FALSE FALSE FALSE FALSE FALSE FALSE FALSE FALSE\n",
            "[4357] FALSE FALSE FALSE FALSE  TRUE FALSE FALSE FALSE FALSE FALSE FALSE FALSE\n",
            "[4369] FALSE FALSE FALSE FALSE FALSE FALSE FALSE FALSE FALSE FALSE FALSE FALSE\n",
            "[4381] FALSE FALSE FALSE FALSE FALSE FALSE FALSE FALSE FALSE FALSE FALSE FALSE\n",
            "[4393] FALSE FALSE FALSE FALSE FALSE FALSE FALSE FALSE FALSE FALSE FALSE FALSE\n",
            "[4405] FALSE FALSE FALSE  TRUE  TRUE FALSE FALSE FALSE FALSE FALSE FALSE  TRUE\n",
            "[4417]  TRUE FALSE FALSE FALSE FALSE FALSE FALSE FALSE FALSE FALSE FALSE FALSE\n",
            "[4429] FALSE FALSE FALSE FALSE FALSE FALSE FALSE FALSE FALSE FALSE FALSE FALSE\n",
            "[4441] FALSE FALSE FALSE FALSE FALSE FALSE FALSE FALSE FALSE FALSE FALSE FALSE\n",
            "[4453] FALSE FALSE FALSE FALSE FALSE FALSE FALSE FALSE FALSE  TRUE FALSE FALSE\n",
            "[4465] FALSE FALSE FALSE FALSE FALSE FALSE FALSE FALSE FALSE FALSE FALSE FALSE\n",
            "[4477] FALSE FALSE FALSE FALSE FALSE FALSE FALSE FALSE FALSE FALSE FALSE FALSE\n",
            "[4489] FALSE FALSE FALSE FALSE FALSE FALSE FALSE FALSE FALSE FALSE FALSE FALSE\n",
            "[4501] FALSE FALSE FALSE  TRUE FALSE FALSE FALSE FALSE FALSE FALSE FALSE FALSE\n",
            "[4513] FALSE FALSE FALSE FALSE FALSE FALSE FALSE FALSE  TRUE FALSE FALSE FALSE\n",
            "[4525] FALSE FALSE FALSE FALSE FALSE FALSE FALSE FALSE FALSE FALSE FALSE  TRUE\n",
            "[4537] FALSE FALSE FALSE FALSE FALSE FALSE FALSE FALSE FALSE FALSE FALSE FALSE\n",
            "[4549] FALSE FALSE FALSE FALSE FALSE FALSE FALSE FALSE FALSE FALSE FALSE FALSE\n",
            "[4561] FALSE FALSE FALSE FALSE FALSE FALSE FALSE FALSE FALSE FALSE FALSE FALSE\n",
            "[4573] FALSE FALSE FALSE FALSE FALSE FALSE FALSE FALSE FALSE FALSE FALSE FALSE\n",
            "[4585] FALSE FALSE FALSE FALSE FALSE FALSE FALSE FALSE  TRUE FALSE FALSE FALSE\n",
            "[4597] FALSE FALSE FALSE FALSE FALSE FALSE FALSE FALSE FALSE FALSE FALSE FALSE\n",
            "[4609] FALSE FALSE FALSE FALSE FALSE FALSE FALSE FALSE FALSE FALSE FALSE FALSE\n",
            "[4621] FALSE FALSE FALSE FALSE FALSE FALSE FALSE FALSE FALSE FALSE FALSE FALSE\n",
            "[4633] FALSE FALSE FALSE FALSE FALSE FALSE FALSE  TRUE  TRUE FALSE FALSE FALSE\n",
            "[4645] FALSE FALSE FALSE  TRUE  TRUE FALSE FALSE FALSE FALSE FALSE FALSE FALSE\n",
            "[4657] FALSE FALSE FALSE FALSE FALSE FALSE FALSE FALSE FALSE FALSE FALSE FALSE\n",
            "[4669] FALSE FALSE FALSE FALSE FALSE FALSE FALSE FALSE FALSE FALSE FALSE FALSE\n",
            "[4681] FALSE FALSE FALSE FALSE FALSE FALSE FALSE FALSE FALSE FALSE FALSE FALSE\n",
            "[4693] FALSE  TRUE FALSE FALSE FALSE FALSE FALSE FALSE FALSE FALSE FALSE FALSE\n",
            "[4705] FALSE FALSE FALSE FALSE FALSE FALSE FALSE FALSE FALSE FALSE FALSE FALSE\n",
            "[4717] FALSE FALSE FALSE FALSE FALSE FALSE FALSE FALSE FALSE FALSE FALSE FALSE\n",
            "[4729] FALSE FALSE FALSE FALSE FALSE FALSE FALSE  TRUE FALSE FALSE FALSE FALSE\n",
            "[4741] FALSE FALSE FALSE FALSE FALSE FALSE FALSE FALSE FALSE FALSE FALSE FALSE\n",
            "[4753]  TRUE FALSE FALSE FALSE FALSE FALSE FALSE FALSE FALSE FALSE FALSE FALSE\n",
            "[4765] FALSE FALSE FALSE  TRUE FALSE FALSE FALSE FALSE FALSE FALSE FALSE FALSE\n",
            "[4777] FALSE FALSE FALSE FALSE FALSE FALSE FALSE FALSE FALSE FALSE FALSE FALSE\n",
            "[4789] FALSE FALSE FALSE FALSE FALSE FALSE FALSE FALSE FALSE FALSE FALSE FALSE\n",
            "[4801] FALSE FALSE FALSE FALSE FALSE FALSE FALSE FALSE FALSE FALSE FALSE FALSE\n",
            "[4813] FALSE FALSE FALSE FALSE FALSE FALSE FALSE FALSE FALSE FALSE FALSE FALSE\n",
            "[4825]  TRUE FALSE FALSE FALSE FALSE FALSE FALSE FALSE FALSE FALSE FALSE FALSE\n",
            "[4837] FALSE FALSE FALSE FALSE FALSE FALSE FALSE FALSE FALSE FALSE FALSE FALSE\n",
            "[4849] FALSE FALSE FALSE FALSE FALSE FALSE FALSE FALSE FALSE FALSE FALSE FALSE\n",
            "[4861] FALSE FALSE FALSE FALSE FALSE FALSE FALSE FALSE FALSE FALSE FALSE  TRUE\n",
            "[4873]  TRUE FALSE FALSE FALSE FALSE FALSE FALSE  TRUE  TRUE FALSE FALSE FALSE\n",
            "[4885] FALSE FALSE FALSE FALSE FALSE FALSE FALSE FALSE FALSE FALSE FALSE FALSE\n",
            "[4897] FALSE FALSE FALSE FALSE FALSE FALSE FALSE FALSE FALSE FALSE FALSE FALSE\n",
            "[4909] FALSE FALSE FALSE FALSE FALSE FALSE FALSE FALSE FALSE FALSE FALSE FALSE\n",
            "[4921] FALSE FALSE FALSE FALSE FALSE  TRUE FALSE FALSE FALSE FALSE FALSE FALSE\n",
            "[4933] FALSE FALSE FALSE FALSE FALSE FALSE FALSE FALSE FALSE FALSE FALSE FALSE\n",
            "[4945] FALSE FALSE FALSE FALSE FALSE FALSE FALSE FALSE FALSE FALSE FALSE FALSE\n",
            "[4957] FALSE FALSE FALSE FALSE FALSE FALSE FALSE FALSE FALSE FALSE FALSE  TRUE\n",
            "[4969] FALSE FALSE FALSE FALSE FALSE FALSE FALSE FALSE FALSE FALSE FALSE FALSE\n",
            "[4981] FALSE FALSE FALSE FALSE  TRUE FALSE FALSE FALSE FALSE FALSE FALSE FALSE\n",
            "[4993] FALSE FALSE FALSE FALSE FALSE FALSE FALSE  TRUE FALSE FALSE FALSE FALSE\n",
            "[5005] FALSE FALSE FALSE FALSE FALSE FALSE FALSE FALSE FALSE FALSE FALSE FALSE\n",
            "[5017] FALSE FALSE FALSE FALSE FALSE FALSE FALSE FALSE FALSE FALSE FALSE FALSE\n",
            "[5029] FALSE FALSE FALSE FALSE FALSE FALSE FALSE FALSE FALSE FALSE FALSE FALSE\n",
            "[5041] FALSE FALSE FALSE FALSE FALSE FALSE FALSE FALSE FALSE FALSE FALSE FALSE\n",
            "[5053] FALSE FALSE FALSE FALSE  TRUE FALSE FALSE FALSE FALSE FALSE FALSE FALSE\n",
            "[5065] FALSE FALSE FALSE FALSE FALSE FALSE FALSE FALSE FALSE FALSE FALSE FALSE\n",
            "[5077] FALSE FALSE FALSE FALSE FALSE FALSE FALSE FALSE FALSE FALSE FALSE FALSE\n",
            "[5089] FALSE FALSE FALSE FALSE FALSE FALSE FALSE FALSE FALSE FALSE FALSE FALSE\n",
            "[5101] FALSE FALSE FALSE  TRUE  TRUE FALSE FALSE FALSE FALSE FALSE FALSE  TRUE\n",
            "[5113]  TRUE FALSE FALSE FALSE FALSE FALSE FALSE FALSE FALSE FALSE FALSE FALSE\n",
            "[5125] FALSE FALSE FALSE FALSE FALSE FALSE FALSE FALSE FALSE FALSE FALSE FALSE\n",
            "[5137] FALSE FALSE FALSE FALSE FALSE FALSE FALSE FALSE FALSE FALSE FALSE FALSE\n",
            "[5149] FALSE FALSE FALSE FALSE FALSE FALSE FALSE FALSE FALSE  TRUE FALSE FALSE\n",
            "[5161] FALSE FALSE FALSE FALSE FALSE FALSE FALSE FALSE FALSE FALSE FALSE FALSE\n",
            "[5173] FALSE FALSE FALSE FALSE FALSE FALSE FALSE FALSE FALSE FALSE FALSE FALSE\n",
            "[5185] FALSE FALSE FALSE FALSE FALSE FALSE FALSE FALSE FALSE FALSE FALSE FALSE\n",
            "[5197] FALSE FALSE FALSE  TRUE FALSE FALSE FALSE FALSE FALSE FALSE FALSE FALSE\n",
            "[5209] FALSE FALSE FALSE FALSE FALSE FALSE FALSE FALSE  TRUE FALSE FALSE FALSE\n",
            "[5221] FALSE FALSE FALSE FALSE FALSE FALSE FALSE FALSE FALSE FALSE FALSE  TRUE\n",
            "[5233] FALSE FALSE FALSE FALSE FALSE FALSE FALSE FALSE FALSE FALSE FALSE FALSE\n",
            "[5245] FALSE FALSE FALSE FALSE FALSE FALSE FALSE FALSE FALSE FALSE FALSE FALSE\n",
            "[5257] FALSE FALSE FALSE FALSE FALSE FALSE FALSE FALSE FALSE FALSE FALSE FALSE\n",
            "[5269] FALSE FALSE FALSE FALSE FALSE FALSE FALSE FALSE FALSE FALSE FALSE FALSE\n",
            "[5281] FALSE FALSE FALSE FALSE FALSE FALSE FALSE FALSE  TRUE FALSE FALSE FALSE\n",
            "[5293] FALSE FALSE FALSE FALSE FALSE FALSE FALSE FALSE FALSE FALSE FALSE FALSE\n",
            "[5305] FALSE FALSE FALSE FALSE FALSE FALSE FALSE FALSE FALSE FALSE FALSE FALSE\n",
            "[5317] FALSE FALSE FALSE FALSE FALSE FALSE FALSE FALSE FALSE FALSE FALSE FALSE\n",
            "[5329] FALSE FALSE FALSE FALSE FALSE FALSE FALSE  TRUE  TRUE FALSE FALSE FALSE\n",
            "[5341] FALSE FALSE FALSE  TRUE  TRUE FALSE FALSE FALSE FALSE FALSE FALSE FALSE\n",
            "[5353] FALSE FALSE FALSE FALSE FALSE FALSE FALSE FALSE FALSE FALSE FALSE FALSE\n",
            "[5365] FALSE FALSE FALSE FALSE FALSE FALSE FALSE FALSE FALSE FALSE FALSE FALSE\n",
            "[5377] FALSE FALSE FALSE FALSE FALSE FALSE FALSE FALSE FALSE FALSE FALSE FALSE\n",
            "[5389] FALSE  TRUE FALSE FALSE FALSE FALSE FALSE FALSE FALSE FALSE FALSE FALSE\n",
            "[5401] FALSE FALSE FALSE FALSE FALSE FALSE FALSE FALSE FALSE FALSE FALSE FALSE\n",
            "[5413] FALSE FALSE FALSE FALSE FALSE FALSE FALSE FALSE FALSE FALSE FALSE FALSE\n",
            "[5425] FALSE FALSE FALSE FALSE FALSE FALSE FALSE  TRUE FALSE FALSE FALSE FALSE\n",
            "[5437] FALSE FALSE FALSE FALSE FALSE FALSE FALSE FALSE FALSE FALSE FALSE FALSE\n",
            "[5449]  TRUE FALSE FALSE FALSE FALSE FALSE FALSE FALSE FALSE FALSE FALSE FALSE\n",
            "[5461] FALSE FALSE FALSE  TRUE FALSE FALSE FALSE FALSE FALSE FALSE FALSE FALSE\n",
            "[5473] FALSE FALSE FALSE FALSE FALSE FALSE FALSE FALSE FALSE FALSE FALSE FALSE\n",
            "[5485] FALSE FALSE FALSE FALSE FALSE FALSE FALSE FALSE FALSE FALSE FALSE FALSE\n",
            "[5497] FALSE FALSE FALSE FALSE FALSE FALSE FALSE FALSE FALSE FALSE FALSE FALSE\n",
            "[5509] FALSE FALSE FALSE FALSE FALSE FALSE FALSE FALSE FALSE FALSE FALSE FALSE\n",
            "[5521]  TRUE FALSE FALSE FALSE FALSE FALSE FALSE FALSE FALSE FALSE FALSE FALSE\n",
            "[5533] FALSE FALSE FALSE FALSE FALSE FALSE FALSE FALSE FALSE FALSE FALSE FALSE\n",
            "[5545] FALSE FALSE FALSE FALSE FALSE FALSE FALSE FALSE FALSE FALSE FALSE FALSE\n",
            "[5557] FALSE FALSE FALSE FALSE FALSE FALSE FALSE FALSE FALSE FALSE FALSE  TRUE\n",
            "[5569]  TRUE FALSE FALSE FALSE FALSE FALSE FALSE  TRUE  TRUE FALSE FALSE FALSE\n",
            "[5581] FALSE FALSE FALSE FALSE FALSE FALSE FALSE FALSE FALSE FALSE FALSE FALSE\n",
            "[5593] FALSE FALSE FALSE FALSE FALSE FALSE FALSE FALSE FALSE FALSE FALSE FALSE\n",
            "[5605] FALSE FALSE FALSE FALSE FALSE FALSE FALSE FALSE FALSE FALSE FALSE FALSE\n",
            "[5617] FALSE FALSE FALSE FALSE FALSE  TRUE FALSE FALSE FALSE FALSE FALSE FALSE\n",
            "[5629] FALSE FALSE FALSE FALSE FALSE FALSE FALSE FALSE FALSE FALSE FALSE FALSE\n",
            "[5641] FALSE FALSE FALSE FALSE FALSE FALSE FALSE FALSE FALSE FALSE FALSE FALSE\n",
            "[5653] FALSE FALSE FALSE FALSE FALSE FALSE FALSE FALSE FALSE FALSE FALSE  TRUE\n",
            "[5665] FALSE FALSE FALSE FALSE FALSE FALSE FALSE FALSE FALSE FALSE FALSE FALSE\n",
            "[5677] FALSE FALSE FALSE FALSE  TRUE FALSE FALSE FALSE FALSE FALSE FALSE FALSE\n",
            "[5689] FALSE FALSE FALSE FALSE FALSE FALSE FALSE  TRUE FALSE FALSE FALSE FALSE\n",
            "[5701] FALSE FALSE FALSE FALSE FALSE FALSE FALSE FALSE FALSE FALSE FALSE FALSE\n",
            "[5713] FALSE FALSE FALSE FALSE FALSE FALSE FALSE FALSE FALSE FALSE FALSE FALSE\n",
            "[5725] FALSE FALSE FALSE FALSE FALSE FALSE FALSE FALSE FALSE FALSE FALSE FALSE\n",
            "[5737] FALSE FALSE FALSE FALSE FALSE FALSE FALSE FALSE FALSE FALSE FALSE FALSE\n",
            "[5749] FALSE FALSE FALSE FALSE  TRUE FALSE FALSE FALSE FALSE FALSE FALSE FALSE\n",
            "[5761] FALSE FALSE FALSE FALSE FALSE FALSE FALSE FALSE FALSE FALSE FALSE FALSE\n",
            "[5773] FALSE FALSE FALSE FALSE FALSE FALSE FALSE FALSE FALSE FALSE FALSE FALSE\n",
            "[5785] FALSE FALSE FALSE FALSE FALSE FALSE FALSE FALSE FALSE FALSE FALSE FALSE\n",
            "[5797] FALSE FALSE FALSE  TRUE  TRUE FALSE FALSE FALSE FALSE FALSE FALSE  TRUE\n",
            "[5809]  TRUE FALSE FALSE FALSE FALSE FALSE FALSE FALSE FALSE FALSE FALSE FALSE\n",
            "[5821] FALSE FALSE FALSE FALSE FALSE FALSE FALSE FALSE FALSE FALSE FALSE FALSE\n",
            "[5833] FALSE FALSE FALSE FALSE FALSE FALSE FALSE FALSE FALSE FALSE FALSE FALSE\n",
            "[5845] FALSE FALSE FALSE FALSE FALSE FALSE FALSE FALSE FALSE  TRUE FALSE FALSE\n",
            "[5857] FALSE FALSE FALSE FALSE FALSE FALSE FALSE FALSE FALSE FALSE FALSE FALSE\n",
            "[5869] FALSE FALSE FALSE FALSE FALSE FALSE FALSE FALSE FALSE FALSE FALSE FALSE\n",
            "[5881] FALSE FALSE FALSE FALSE FALSE FALSE FALSE FALSE FALSE FALSE FALSE FALSE\n",
            "[5893] FALSE FALSE FALSE  TRUE FALSE FALSE FALSE FALSE FALSE FALSE FALSE FALSE\n",
            "[5905] FALSE FALSE FALSE FALSE FALSE FALSE FALSE FALSE  TRUE FALSE FALSE FALSE\n",
            "[5917] FALSE FALSE FALSE FALSE FALSE FALSE FALSE FALSE FALSE FALSE FALSE  TRUE\n",
            "[5929] FALSE FALSE FALSE FALSE FALSE FALSE FALSE FALSE FALSE FALSE FALSE FALSE\n",
            "[5941] FALSE FALSE FALSE FALSE FALSE FALSE FALSE FALSE FALSE FALSE FALSE FALSE\n",
            "[5953] FALSE FALSE FALSE FALSE FALSE FALSE FALSE FALSE FALSE FALSE FALSE FALSE\n",
            "[5965] FALSE FALSE FALSE FALSE FALSE FALSE FALSE FALSE FALSE FALSE FALSE FALSE\n",
            "[5977] FALSE FALSE FALSE FALSE FALSE FALSE FALSE FALSE  TRUE FALSE FALSE FALSE\n",
            "[5989] FALSE FALSE FALSE FALSE FALSE FALSE FALSE FALSE FALSE FALSE FALSE FALSE\n",
            "[6001] FALSE FALSE FALSE FALSE FALSE FALSE FALSE FALSE FALSE FALSE FALSE FALSE\n",
            "[6013] FALSE FALSE FALSE FALSE FALSE FALSE FALSE FALSE FALSE FALSE FALSE FALSE\n",
            "[6025] FALSE FALSE FALSE FALSE FALSE FALSE FALSE  TRUE  TRUE FALSE FALSE FALSE\n",
            "[6037] FALSE FALSE FALSE  TRUE  TRUE FALSE FALSE FALSE FALSE FALSE FALSE FALSE\n",
            "[6049] FALSE FALSE FALSE FALSE FALSE FALSE FALSE FALSE FALSE FALSE FALSE FALSE\n",
            "[6061] FALSE FALSE FALSE FALSE FALSE FALSE FALSE FALSE FALSE FALSE FALSE FALSE\n",
            "[6073] FALSE FALSE FALSE FALSE FALSE FALSE FALSE FALSE FALSE FALSE FALSE FALSE\n",
            "[6085] FALSE  TRUE FALSE FALSE FALSE FALSE FALSE FALSE FALSE FALSE FALSE FALSE\n",
            "[6097] FALSE FALSE FALSE FALSE FALSE FALSE FALSE FALSE FALSE FALSE FALSE FALSE\n",
            "[6109] FALSE FALSE FALSE FALSE FALSE FALSE FALSE FALSE FALSE FALSE FALSE FALSE\n",
            "[6121] FALSE FALSE FALSE FALSE FALSE FALSE FALSE  TRUE FALSE FALSE FALSE FALSE\n",
            "[6133] FALSE FALSE FALSE FALSE FALSE FALSE FALSE FALSE FALSE FALSE FALSE FALSE\n",
            "[6145]  TRUE FALSE FALSE FALSE FALSE FALSE FALSE FALSE FALSE FALSE FALSE FALSE\n",
            "[6157] FALSE FALSE FALSE  TRUE FALSE FALSE FALSE FALSE FALSE FALSE FALSE FALSE\n",
            "[6169] FALSE FALSE FALSE FALSE FALSE FALSE FALSE FALSE FALSE FALSE FALSE FALSE\n",
            "[6181] FALSE FALSE FALSE FALSE FALSE FALSE FALSE FALSE FALSE FALSE FALSE FALSE\n",
            "[6193] FALSE FALSE FALSE FALSE FALSE FALSE FALSE FALSE FALSE FALSE FALSE FALSE\n",
            "[6205] FALSE FALSE FALSE FALSE FALSE FALSE FALSE FALSE FALSE FALSE FALSE FALSE\n",
            "[6217]  TRUE FALSE FALSE FALSE FALSE FALSE FALSE FALSE FALSE FALSE FALSE FALSE\n",
            "[6229] FALSE FALSE FALSE FALSE FALSE FALSE FALSE FALSE FALSE FALSE FALSE FALSE\n",
            "[6241] FALSE FALSE FALSE FALSE FALSE FALSE FALSE FALSE FALSE FALSE FALSE FALSE\n",
            "[6253] FALSE FALSE FALSE FALSE FALSE FALSE FALSE FALSE FALSE FALSE FALSE  TRUE\n",
            "[6265]  TRUE FALSE FALSE FALSE FALSE FALSE FALSE  TRUE  TRUE FALSE FALSE FALSE\n",
            "[6277] FALSE FALSE FALSE FALSE FALSE FALSE FALSE FALSE FALSE FALSE FALSE FALSE\n",
            "[6289] FALSE FALSE FALSE FALSE FALSE FALSE FALSE FALSE FALSE FALSE FALSE FALSE\n",
            "[6301] FALSE FALSE FALSE FALSE FALSE FALSE FALSE FALSE FALSE FALSE FALSE FALSE\n",
            "[6313] FALSE FALSE FALSE FALSE FALSE  TRUE FALSE FALSE FALSE FALSE FALSE FALSE\n",
            "[6325] FALSE FALSE FALSE FALSE FALSE FALSE FALSE FALSE FALSE FALSE FALSE FALSE\n",
            "[6337] FALSE FALSE FALSE FALSE FALSE FALSE FALSE FALSE FALSE FALSE FALSE FALSE\n",
            "[6349] FALSE FALSE FALSE FALSE FALSE FALSE FALSE FALSE FALSE FALSE FALSE  TRUE\n",
            "[6361] FALSE FALSE FALSE FALSE FALSE FALSE FALSE FALSE FALSE FALSE FALSE FALSE\n",
            "[6373] FALSE FALSE FALSE FALSE  TRUE FALSE FALSE FALSE FALSE FALSE FALSE FALSE\n",
            "[6385] FALSE FALSE FALSE FALSE FALSE FALSE FALSE  TRUE FALSE FALSE FALSE FALSE\n",
            "[6397] FALSE FALSE FALSE FALSE FALSE FALSE FALSE FALSE FALSE FALSE FALSE FALSE\n",
            "[6409] FALSE FALSE FALSE FALSE FALSE FALSE FALSE FALSE FALSE FALSE FALSE FALSE\n",
            "[6421] FALSE FALSE FALSE FALSE FALSE FALSE FALSE FALSE FALSE FALSE FALSE FALSE\n",
            "[6433] FALSE FALSE FALSE FALSE FALSE FALSE FALSE FALSE FALSE FALSE FALSE FALSE\n",
            "[6445] FALSE FALSE FALSE FALSE  TRUE FALSE FALSE FALSE FALSE FALSE FALSE FALSE\n",
            "[6457] FALSE FALSE FALSE FALSE FALSE FALSE FALSE FALSE FALSE FALSE FALSE FALSE\n",
            "[6469] FALSE FALSE FALSE FALSE FALSE FALSE FALSE FALSE FALSE FALSE FALSE FALSE\n",
            "[6481] FALSE FALSE FALSE FALSE FALSE FALSE FALSE FALSE FALSE FALSE FALSE FALSE\n",
            "[6493] FALSE FALSE FALSE  TRUE  TRUE FALSE FALSE FALSE FALSE FALSE FALSE  TRUE\n",
            "[6505]  TRUE FALSE FALSE FALSE FALSE FALSE FALSE FALSE FALSE FALSE FALSE FALSE\n",
            "[6517] FALSE FALSE FALSE FALSE FALSE FALSE FALSE FALSE FALSE FALSE FALSE FALSE\n",
            "[6529] FALSE FALSE FALSE FALSE FALSE FALSE FALSE FALSE FALSE FALSE FALSE FALSE\n",
            "[6541] FALSE FALSE FALSE FALSE FALSE FALSE FALSE FALSE FALSE  TRUE FALSE FALSE\n",
            "[6553] FALSE FALSE FALSE FALSE FALSE FALSE FALSE FALSE FALSE FALSE FALSE FALSE\n",
            "[6565] FALSE FALSE FALSE FALSE FALSE FALSE FALSE FALSE FALSE FALSE FALSE FALSE\n",
            "[6577] FALSE FALSE FALSE FALSE FALSE FALSE FALSE FALSE FALSE FALSE FALSE FALSE\n",
            "[6589] FALSE FALSE FALSE  TRUE FALSE FALSE FALSE FALSE FALSE FALSE FALSE FALSE\n",
            "[6601] FALSE FALSE FALSE FALSE FALSE FALSE FALSE FALSE  TRUE FALSE FALSE FALSE\n",
            "[6613] FALSE FALSE FALSE FALSE FALSE FALSE FALSE FALSE FALSE FALSE FALSE  TRUE\n",
            "[6625] FALSE FALSE FALSE FALSE FALSE FALSE FALSE FALSE FALSE FALSE FALSE FALSE\n",
            "[6637] FALSE FALSE FALSE FALSE FALSE FALSE FALSE FALSE FALSE FALSE FALSE FALSE\n",
            "[6649] FALSE FALSE FALSE FALSE FALSE FALSE FALSE FALSE FALSE FALSE FALSE FALSE\n",
            "[6661] FALSE FALSE FALSE FALSE FALSE FALSE FALSE FALSE FALSE FALSE FALSE FALSE\n",
            "[6673] FALSE FALSE FALSE FALSE FALSE FALSE FALSE FALSE  TRUE FALSE FALSE FALSE\n",
            "[6685] FALSE FALSE FALSE FALSE FALSE FALSE FALSE FALSE FALSE FALSE FALSE FALSE\n",
            "[6697] FALSE FALSE FALSE FALSE FALSE FALSE FALSE FALSE FALSE FALSE FALSE FALSE\n",
            "[6709] FALSE FALSE FALSE FALSE FALSE FALSE FALSE FALSE FALSE FALSE FALSE FALSE\n",
            "[6721] FALSE FALSE FALSE FALSE FALSE FALSE FALSE  TRUE  TRUE FALSE FALSE FALSE\n",
            "[6733] FALSE FALSE FALSE  TRUE  TRUE FALSE FALSE FALSE FALSE FALSE FALSE FALSE\n",
            "[6745] FALSE FALSE FALSE FALSE FALSE FALSE FALSE FALSE FALSE FALSE FALSE FALSE\n",
            "[6757] FALSE FALSE FALSE FALSE FALSE FALSE FALSE FALSE FALSE FALSE FALSE FALSE\n",
            "[6769] FALSE FALSE FALSE FALSE FALSE FALSE FALSE FALSE FALSE FALSE FALSE FALSE\n",
            "[6781] FALSE  TRUE FALSE FALSE FALSE FALSE FALSE FALSE FALSE FALSE FALSE FALSE\n",
            "[6793] FALSE FALSE FALSE FALSE FALSE FALSE FALSE FALSE FALSE FALSE FALSE FALSE\n",
            "[6805] FALSE FALSE FALSE FALSE FALSE FALSE FALSE FALSE FALSE FALSE FALSE FALSE\n",
            "[6817] FALSE FALSE FALSE FALSE FALSE FALSE FALSE  TRUE FALSE FALSE FALSE FALSE\n",
            "[6829] FALSE FALSE FALSE FALSE FALSE FALSE FALSE FALSE FALSE FALSE FALSE FALSE\n",
            "[6841]  TRUE FALSE FALSE FALSE FALSE FALSE FALSE FALSE FALSE FALSE FALSE FALSE\n",
            "[6853] FALSE FALSE FALSE  TRUE FALSE FALSE FALSE FALSE FALSE FALSE FALSE FALSE\n",
            "[6865] FALSE FALSE FALSE FALSE FALSE FALSE FALSE FALSE FALSE FALSE FALSE FALSE\n",
            "[6877] FALSE FALSE FALSE FALSE FALSE FALSE FALSE FALSE FALSE FALSE FALSE FALSE\n",
            "[6889] FALSE FALSE FALSE FALSE FALSE FALSE FALSE FALSE FALSE FALSE FALSE FALSE\n",
            "[6901] FALSE FALSE FALSE FALSE FALSE FALSE FALSE FALSE FALSE FALSE FALSE FALSE\n",
            "[6913]  TRUE FALSE FALSE FALSE FALSE FALSE FALSE FALSE FALSE FALSE FALSE FALSE\n",
            "[6925] FALSE FALSE FALSE FALSE FALSE FALSE FALSE FALSE FALSE FALSE FALSE FALSE\n",
            "[6937] FALSE FALSE FALSE FALSE FALSE FALSE FALSE FALSE FALSE FALSE FALSE FALSE\n",
            "[6949] FALSE FALSE FALSE FALSE FALSE FALSE FALSE FALSE FALSE FALSE FALSE  TRUE\n"
          ],
          "name": "stdout"
        }
      ]
    },
    {
      "cell_type": "code",
      "metadata": {
        "colab": {
          "base_uri": "https://localhost:8080/"
        },
        "id": "R6VwB5b-Eh__",
        "outputId": "247946d1-46c1-4a28-ef5b-e75113f22813"
      },
      "source": [
        "# Rows of Non-country regions\n",
        "noncountry_matches <- which(!is.na(match(coal.long$Region, noncountries)))\n",
        "print(noncountry_matches)"
      ],
      "execution_count": 30,
      "outputs": [
        {
          "output_type": "stream",
          "text": [
            "  [1]    1    8    9   54   96  113  128  185  232  233  240  241  286  328  345\n",
            " [16]  360  417  464  465  472  473  518  560  577  592  649  696  697  704  705\n",
            " [31]  750  792  809  824  881  928  929  936  937  982 1024 1041 1056 1113 1160\n",
            " [46] 1161 1168 1169 1214 1256 1273 1288 1345 1392 1393 1400 1401 1446 1488 1505\n",
            " [61] 1520 1577 1624 1625 1632 1633 1678 1720 1737 1752 1809 1856 1857 1864 1865\n",
            " [76] 1910 1952 1969 1984 2041 2088 2089 2096 2097 2142 2184 2201 2216 2273 2320\n",
            " [91] 2321 2328 2329 2374 2416 2433 2448 2505 2552 2553 2560 2561 2606 2648 2665\n",
            "[106] 2680 2737 2784 2785 2792 2793 2838 2880 2897 2912 2969 3016 3017 3024 3025\n",
            "[121] 3070 3112 3129 3144 3201 3248 3249 3256 3257 3302 3344 3361 3376 3433 3480\n",
            "[136] 3481 3488 3489 3534 3576 3593 3608 3665 3712 3713 3720 3721 3766 3808 3825\n",
            "[151] 3840 3897 3944 3945 3952 3953 3998 4040 4057 4072 4129 4176 4177 4184 4185\n",
            "[166] 4230 4272 4289 4304 4361 4408 4409 4416 4417 4462 4504 4521 4536 4593 4640\n",
            "[181] 4641 4648 4649 4694 4736 4753 4768 4825 4872 4873 4880 4881 4926 4968 4985\n",
            "[196] 5000 5057 5104 5105 5112 5113 5158 5200 5217 5232 5289 5336 5337 5344 5345\n",
            "[211] 5390 5432 5449 5464 5521 5568 5569 5576 5577 5622 5664 5681 5696 5753 5800\n",
            "[226] 5801 5808 5809 5854 5896 5913 5928 5985 6032 6033 6040 6041 6086 6128 6145\n",
            "[241] 6160 6217 6264 6265 6272 6273 6318 6360 6377 6392 6449 6496 6497 6504 6505\n",
            "[256] 6550 6592 6609 6624 6681 6728 6729 6736 6737 6782 6824 6841 6856 6913 6960\n"
          ],
          "name": "stdout"
        }
      ]
    },
    {
      "cell_type": "code",
      "metadata": {
        "id": "FOcj-NMoE-Bt"
      },
      "source": [
        "# Data of countries\n",
        "coal.countries <- coal.long[-noncountry_matches,]\n",
        "# Data of regions\n",
        "coal.regions <- coal.long[noncountry_matches,]"
      ],
      "execution_count": 31,
      "outputs": []
    },
    {
      "cell_type": "code",
      "metadata": {
        "colab": {
          "base_uri": "https://localhost:8080/",
          "height": 242
        },
        "id": "U3iQTMMEFb-4",
        "outputId": "291a2efb-1174-4020-cc26-5d3965899bef"
      },
      "source": [
        "unique(coal.countries$Region)"
      ],
      "execution_count": 33,
      "outputs": [
        {
          "output_type": "display_data",
          "data": {
            "text/plain": [
              "  [1] \"Bermuda\"                           \"Canada\"                           \n",
              "  [3] \"Greenland\"                         \"Mexico\"                           \n",
              "  [5] \"Saint Pierre and Miquelon\"         \"United States\"                    \n",
              "  [7] \"Antigua and Barbuda\"               \"Argentina\"                        \n",
              "  [9] \"Aruba\"                             \"Bahamas, The\"                     \n",
              " [11] \"Barbados\"                          \"Belize\"                           \n",
              " [13] \"Bolivia\"                           \"Brazil\"                           \n",
              " [15] \"Cayman Islands\"                    \"Chile\"                            \n",
              " [17] \"Colombia\"                          \"Costa Rica\"                       \n",
              " [19] \"Cuba\"                              \"Dominica\"                         \n",
              " [21] \"Dominican Republic\"                \"Ecuador\"                          \n",
              " [23] \"El Salvador\"                       \"Falkland Islands (Islas Malvinas)\"\n",
              " [25] \"French Guiana\"                     \"Grenada\"                          \n",
              " [27] \"Guadeloupe\"                        \"Guatemala\"                        \n",
              " [29] \"Guyana\"                            \"Haiti\"                            \n",
              " [31] \"Honduras\"                          \"Jamaica\"                          \n",
              " [33] \"Martinique\"                        \"Montserrat\"                       \n",
              " [35] \"Netherlands Antilles\"              \"Nicaragua\"                        \n",
              " [37] \"Panama\"                            \"Paraguay\"                         \n",
              " [39] \"Peru\"                              \"Puerto Rico\"                      \n",
              " [41] \"Saint Kitts and Nevis\"             \"Saint Lucia\"                      \n",
              " [43] \"Saint Vincent/Grenadines\"          \"Suriname\"                         \n",
              " [45] \"Trinidad and Tobago\"               \"Turks and Caicos Islands\"         \n",
              " [47] \"Uruguay\"                           \"Venezuela\"                        \n",
              " [49] \"Virgin Islands,  U.S.\"             \"Virgin Islands, British\"          \n",
              " [51] \"Albania\"                           \"Austria\"                          \n",
              " [53] \"Belgium\"                           \"Bosnia and Herzegovina\"           \n",
              " [55] \"Bulgaria\"                          \"Croatia\"                          \n",
              " [57] \"Cyprus\"                            \"Czech Republic\"                   \n",
              " [59] \"Denmark\"                           \"Faroe Islands\"                    \n",
              " [61] \"Finland\"                           \"Former Czechoslovakia\"            \n",
              " [63] \"Former Serbia and Montenegro\"      \"Former Yugoslavia\"                \n",
              " [65] \"France\"                            \"Germany\"                          \n",
              " [67] \"Germany, East\"                     \"Germany, West\"                    \n",
              " [69] \"Gibraltar\"                         \"Greece\"                           \n",
              " [71] \"Hungary\"                           \"Iceland\"                          \n",
              " [73] \"Ireland\"                           \"Italy\"                            \n",
              " [75] \"Luxembourg\"                        \"Macedonia\"                        \n",
              " [77] \"Malta\"                             \"Montenegro\"                       \n",
              " [79] \"Netherlands\"                       \"Norway\"                           \n",
              " [81] \"Poland\"                            \"Portugal\"                         \n",
              " [83] \"Romania\"                           \"Serbia\"                           \n",
              " [85] \"Slovakia\"                          \"Slovenia\"                         \n",
              " [87] \"Spain\"                             \"Sweden\"                           \n",
              " [89] \"Switzerland\"                       \"Turkey\"                           \n",
              " [91] \"United Kingdom\"                    \"Armenia\"                          \n",
              " [93] \"Azerbaijan\"                        \"Belarus\"                          \n",
              " [95] \"Estonia\"                           \"Former U.S.S.R.\"                  \n",
              " [97] \"Georgia\"                           \"Kazakhstan\"                       \n",
              " [99] \"Kyrgyzstan\"                        \"Latvia\"                           \n",
              "[101] \"Lithuania\"                         \"Moldova\"                          \n",
              "[103] \"Russia\"                            \"Tajikistan\"                       \n",
              "[105] \"Turkmenistan\"                      \"Ukraine\"                          \n",
              "[107] \"Uzbekistan\"                        \"Bahrain\"                          \n",
              "[109] \"Iran\"                              \"Iraq\"                             \n",
              "[111] \"Israel\"                            \"Jordan\"                           \n",
              "[113] \"Kuwait\"                            \"Lebanon\"                          \n",
              "[115] \"Oman\"                              \"Palestine\"                        \n",
              "[117] \"Qatar\"                             \"Saudi Arabia\"                     \n",
              "[119] \"Syria\"                             \"United Arab Emirates\"             \n",
              "[121] \"Yemen\"                             \"Algeria\"                          \n",
              "[123] \"Angola\"                            \"Benin\"                            \n",
              "[125] \"Botswana\"                          \"Burkina Faso\"                     \n",
              "[127] \"Burundi\"                           \"Cameroon\"                         \n",
              "[129] \"Cape Verde\"                        \"Central African Republic\"         \n",
              "[131] \"Chad\"                              \"Comoros\"                          \n",
              "[133] \"Congo (Brazzaville)\"               \"Congo (Kinshasa)\"                 \n",
              "[135] \"Cote dIvoire (IvoryCoast)\"         \"Djibouti\"                         \n",
              "[137] \"Egypt\"                             \"Equatorial Guinea\"                \n",
              "[139] \"Eritrea\"                           \"Ethiopia\"                         \n",
              "[141] \"Gabon\"                             \"Gambia, The\"                      \n",
              "[143] \"Ghana\"                             \"Guinea\"                           \n",
              "[145] \"Guinea-Bissau\"                     \"Kenya\"                            \n",
              "[147] \"Lesotho\"                           \"Liberia\"                          \n",
              "[149] \"Libya\"                             \"Madagascar\"                       \n",
              "[151] \"Malawi\"                            \"Mali\"                             \n",
              "[153] \"Mauritania\"                        \"Mauritius\"                        \n",
              "[155] \"Morocco\"                           \"Mozambique\"                       \n",
              "[157] \"Namibia\"                           \"Niger\"                            \n",
              "[159] \"Nigeria\"                           \"Reunion\"                          \n",
              "[161] \"Rwanda\"                            \"Saint Helena\"                     \n",
              "[163] \"Sao Tome and Principe\"             \"Senegal\"                          \n",
              "[165] \"Seychelles\"                        \"Sierra Leone\"                     \n",
              "[167] \"Somalia\"                           \"South Africa\"                     \n",
              "[169] \"Sudan\"                             \"Swaziland\"                        \n",
              "[171] \"Tanzania\"                          \"Togo\"                             \n",
              "[173] \"Tunisia\"                           \"Uganda\"                           \n",
              "[175] \"Western Sahara\"                    \"Zambia\"                           \n",
              "[177] \"Zimbabwe\"                          \"Afghanistan\"                      \n",
              "[179] \"American Samoa\"                    \"Australia\"                        \n",
              "[181] \"Bangladesh\"                        \"Bhutan\"                           \n",
              "[183] \"Brunei\"                            \"Burma (Myanmar)\"                  \n",
              "[185] \"Cambodia\"                          \"China\"                            \n",
              "[187] \"Cook Islands\"                      \"Fiji\"                             \n",
              "[189] \"French Polynesia\"                  \"Guam\"                             \n",
              "[191] \"Hawaiian Trade Zone\"               \"Hong Kong\"                        \n",
              "[193] \"India\"                             \"Indonesia\"                        \n",
              "[195] \"Japan\"                             \"Kiribati\"                         \n",
              "[197] \"Korea, North\"                      \"Korea, South\"                     \n",
              "[199] \"Laos\"                              \"Macau\"                            \n",
              "[201] \"Malaysia\"                          \"Maldives\"                         \n",
              "[203] \"Mongolia\"                          \"Nauru\"                            \n",
              "[205] \"Nepal\"                             \"New Caledonia\"                    \n",
              "[207] \"New Zealand\"                       \"Niue\"                             \n",
              "[209] \"Pakistan\"                          \"Papua New Guinea\"                 \n",
              "[211] \"Philippines\"                       \"Samoa\"                            \n",
              "[213] \"Singapore\"                         \"Solomon Islands\"                  \n",
              "[215] \"Sri Lanka\"                         \"Taiwan\"                           \n",
              "[217] \"Thailand\"                          \"Timor-Leste (East Timor)\"         \n",
              "[219] \"Tonga\"                             \"U.S. Pacific Islands\"             \n",
              "[221] \"Vanuatu\"                           \"Vietnam\"                          \n",
              "[223] \"Wake Island\"                      "
            ],
            "text/latex": "\\begin{enumerate*}\n\\item 'Bermuda'\n\\item 'Canada'\n\\item 'Greenland'\n\\item 'Mexico'\n\\item 'Saint Pierre and Miquelon'\n\\item 'United States'\n\\item 'Antigua and Barbuda'\n\\item 'Argentina'\n\\item 'Aruba'\n\\item 'Bahamas, The'\n\\item 'Barbados'\n\\item 'Belize'\n\\item 'Bolivia'\n\\item 'Brazil'\n\\item 'Cayman Islands'\n\\item 'Chile'\n\\item 'Colombia'\n\\item 'Costa Rica'\n\\item 'Cuba'\n\\item 'Dominica'\n\\item 'Dominican Republic'\n\\item 'Ecuador'\n\\item 'El Salvador'\n\\item 'Falkland Islands (Islas Malvinas)'\n\\item 'French Guiana'\n\\item 'Grenada'\n\\item 'Guadeloupe'\n\\item 'Guatemala'\n\\item 'Guyana'\n\\item 'Haiti'\n\\item 'Honduras'\n\\item 'Jamaica'\n\\item 'Martinique'\n\\item 'Montserrat'\n\\item 'Netherlands Antilles'\n\\item 'Nicaragua'\n\\item 'Panama'\n\\item 'Paraguay'\n\\item 'Peru'\n\\item 'Puerto Rico'\n\\item 'Saint Kitts and Nevis'\n\\item 'Saint Lucia'\n\\item 'Saint Vincent/Grenadines'\n\\item 'Suriname'\n\\item 'Trinidad and Tobago'\n\\item 'Turks and Caicos Islands'\n\\item 'Uruguay'\n\\item 'Venezuela'\n\\item 'Virgin Islands,  U.S.'\n\\item 'Virgin Islands, British'\n\\item 'Albania'\n\\item 'Austria'\n\\item 'Belgium'\n\\item 'Bosnia and Herzegovina'\n\\item 'Bulgaria'\n\\item 'Croatia'\n\\item 'Cyprus'\n\\item 'Czech Republic'\n\\item 'Denmark'\n\\item 'Faroe Islands'\n\\item 'Finland'\n\\item 'Former Czechoslovakia'\n\\item 'Former Serbia and Montenegro'\n\\item 'Former Yugoslavia'\n\\item 'France'\n\\item 'Germany'\n\\item 'Germany, East'\n\\item 'Germany, West'\n\\item 'Gibraltar'\n\\item 'Greece'\n\\item 'Hungary'\n\\item 'Iceland'\n\\item 'Ireland'\n\\item 'Italy'\n\\item 'Luxembourg'\n\\item 'Macedonia'\n\\item 'Malta'\n\\item 'Montenegro'\n\\item 'Netherlands'\n\\item 'Norway'\n\\item 'Poland'\n\\item 'Portugal'\n\\item 'Romania'\n\\item 'Serbia'\n\\item 'Slovakia'\n\\item 'Slovenia'\n\\item 'Spain'\n\\item 'Sweden'\n\\item 'Switzerland'\n\\item 'Turkey'\n\\item 'United Kingdom'\n\\item 'Armenia'\n\\item 'Azerbaijan'\n\\item 'Belarus'\n\\item 'Estonia'\n\\item 'Former U.S.S.R.'\n\\item 'Georgia'\n\\item 'Kazakhstan'\n\\item 'Kyrgyzstan'\n\\item 'Latvia'\n\\item 'Lithuania'\n\\item 'Moldova'\n\\item 'Russia'\n\\item 'Tajikistan'\n\\item 'Turkmenistan'\n\\item 'Ukraine'\n\\item 'Uzbekistan'\n\\item 'Bahrain'\n\\item 'Iran'\n\\item 'Iraq'\n\\item 'Israel'\n\\item 'Jordan'\n\\item 'Kuwait'\n\\item 'Lebanon'\n\\item 'Oman'\n\\item 'Palestine'\n\\item 'Qatar'\n\\item 'Saudi Arabia'\n\\item 'Syria'\n\\item 'United Arab Emirates'\n\\item 'Yemen'\n\\item 'Algeria'\n\\item 'Angola'\n\\item 'Benin'\n\\item 'Botswana'\n\\item 'Burkina Faso'\n\\item 'Burundi'\n\\item 'Cameroon'\n\\item 'Cape Verde'\n\\item 'Central African Republic'\n\\item 'Chad'\n\\item 'Comoros'\n\\item 'Congo (Brazzaville)'\n\\item 'Congo (Kinshasa)'\n\\item 'Cote dIvoire (IvoryCoast)'\n\\item 'Djibouti'\n\\item 'Egypt'\n\\item 'Equatorial Guinea'\n\\item 'Eritrea'\n\\item 'Ethiopia'\n\\item 'Gabon'\n\\item 'Gambia, The'\n\\item 'Ghana'\n\\item 'Guinea'\n\\item 'Guinea-Bissau'\n\\item 'Kenya'\n\\item 'Lesotho'\n\\item 'Liberia'\n\\item 'Libya'\n\\item 'Madagascar'\n\\item 'Malawi'\n\\item 'Mali'\n\\item 'Mauritania'\n\\item 'Mauritius'\n\\item 'Morocco'\n\\item 'Mozambique'\n\\item 'Namibia'\n\\item 'Niger'\n\\item 'Nigeria'\n\\item 'Reunion'\n\\item 'Rwanda'\n\\item 'Saint Helena'\n\\item 'Sao Tome and Principe'\n\\item 'Senegal'\n\\item 'Seychelles'\n\\item 'Sierra Leone'\n\\item 'Somalia'\n\\item 'South Africa'\n\\item 'Sudan'\n\\item 'Swaziland'\n\\item 'Tanzania'\n\\item 'Togo'\n\\item 'Tunisia'\n\\item 'Uganda'\n\\item 'Western Sahara'\n\\item 'Zambia'\n\\item 'Zimbabwe'\n\\item 'Afghanistan'\n\\item 'American Samoa'\n\\item 'Australia'\n\\item 'Bangladesh'\n\\item 'Bhutan'\n\\item 'Brunei'\n\\item 'Burma (Myanmar)'\n\\item 'Cambodia'\n\\item 'China'\n\\item 'Cook Islands'\n\\item 'Fiji'\n\\item 'French Polynesia'\n\\item 'Guam'\n\\item 'Hawaiian Trade Zone'\n\\item 'Hong Kong'\n\\item 'India'\n\\item 'Indonesia'\n\\item 'Japan'\n\\item 'Kiribati'\n\\item 'Korea, North'\n\\item 'Korea, South'\n\\item 'Laos'\n\\item 'Macau'\n\\item 'Malaysia'\n\\item 'Maldives'\n\\item 'Mongolia'\n\\item 'Nauru'\n\\item 'Nepal'\n\\item 'New Caledonia'\n\\item 'New Zealand'\n\\item 'Niue'\n\\item 'Pakistan'\n\\item 'Papua New Guinea'\n\\item 'Philippines'\n\\item 'Samoa'\n\\item 'Singapore'\n\\item 'Solomon Islands'\n\\item 'Sri Lanka'\n\\item 'Taiwan'\n\\item 'Thailand'\n\\item 'Timor-Leste (East Timor)'\n\\item 'Tonga'\n\\item 'U.S. Pacific Islands'\n\\item 'Vanuatu'\n\\item 'Vietnam'\n\\item 'Wake Island'\n\\end{enumerate*}\n",
            "text/markdown": "1. 'Bermuda'\n2. 'Canada'\n3. 'Greenland'\n4. 'Mexico'\n5. 'Saint Pierre and Miquelon'\n6. 'United States'\n7. 'Antigua and Barbuda'\n8. 'Argentina'\n9. 'Aruba'\n10. 'Bahamas, The'\n11. 'Barbados'\n12. 'Belize'\n13. 'Bolivia'\n14. 'Brazil'\n15. 'Cayman Islands'\n16. 'Chile'\n17. 'Colombia'\n18. 'Costa Rica'\n19. 'Cuba'\n20. 'Dominica'\n21. 'Dominican Republic'\n22. 'Ecuador'\n23. 'El Salvador'\n24. 'Falkland Islands (Islas Malvinas)'\n25. 'French Guiana'\n26. 'Grenada'\n27. 'Guadeloupe'\n28. 'Guatemala'\n29. 'Guyana'\n30. 'Haiti'\n31. 'Honduras'\n32. 'Jamaica'\n33. 'Martinique'\n34. 'Montserrat'\n35. 'Netherlands Antilles'\n36. 'Nicaragua'\n37. 'Panama'\n38. 'Paraguay'\n39. 'Peru'\n40. 'Puerto Rico'\n41. 'Saint Kitts and Nevis'\n42. 'Saint Lucia'\n43. 'Saint Vincent/Grenadines'\n44. 'Suriname'\n45. 'Trinidad and Tobago'\n46. 'Turks and Caicos Islands'\n47. 'Uruguay'\n48. 'Venezuela'\n49. <span style=white-space:pre-wrap>'Virgin Islands,  U.S.'</span>\n50. 'Virgin Islands, British'\n51. 'Albania'\n52. 'Austria'\n53. 'Belgium'\n54. 'Bosnia and Herzegovina'\n55. 'Bulgaria'\n56. 'Croatia'\n57. 'Cyprus'\n58. 'Czech Republic'\n59. 'Denmark'\n60. 'Faroe Islands'\n61. 'Finland'\n62. 'Former Czechoslovakia'\n63. 'Former Serbia and Montenegro'\n64. 'Former Yugoslavia'\n65. 'France'\n66. 'Germany'\n67. 'Germany, East'\n68. 'Germany, West'\n69. 'Gibraltar'\n70. 'Greece'\n71. 'Hungary'\n72. 'Iceland'\n73. 'Ireland'\n74. 'Italy'\n75. 'Luxembourg'\n76. 'Macedonia'\n77. 'Malta'\n78. 'Montenegro'\n79. 'Netherlands'\n80. 'Norway'\n81. 'Poland'\n82. 'Portugal'\n83. 'Romania'\n84. 'Serbia'\n85. 'Slovakia'\n86. 'Slovenia'\n87. 'Spain'\n88. 'Sweden'\n89. 'Switzerland'\n90. 'Turkey'\n91. 'United Kingdom'\n92. 'Armenia'\n93. 'Azerbaijan'\n94. 'Belarus'\n95. 'Estonia'\n96. 'Former U.S.S.R.'\n97. 'Georgia'\n98. 'Kazakhstan'\n99. 'Kyrgyzstan'\n100. 'Latvia'\n101. 'Lithuania'\n102. 'Moldova'\n103. 'Russia'\n104. 'Tajikistan'\n105. 'Turkmenistan'\n106. 'Ukraine'\n107. 'Uzbekistan'\n108. 'Bahrain'\n109. 'Iran'\n110. 'Iraq'\n111. 'Israel'\n112. 'Jordan'\n113. 'Kuwait'\n114. 'Lebanon'\n115. 'Oman'\n116. 'Palestine'\n117. 'Qatar'\n118. 'Saudi Arabia'\n119. 'Syria'\n120. 'United Arab Emirates'\n121. 'Yemen'\n122. 'Algeria'\n123. 'Angola'\n124. 'Benin'\n125. 'Botswana'\n126. 'Burkina Faso'\n127. 'Burundi'\n128. 'Cameroon'\n129. 'Cape Verde'\n130. 'Central African Republic'\n131. 'Chad'\n132. 'Comoros'\n133. 'Congo (Brazzaville)'\n134. 'Congo (Kinshasa)'\n135. 'Cote dIvoire (IvoryCoast)'\n136. 'Djibouti'\n137. 'Egypt'\n138. 'Equatorial Guinea'\n139. 'Eritrea'\n140. 'Ethiopia'\n141. 'Gabon'\n142. 'Gambia, The'\n143. 'Ghana'\n144. 'Guinea'\n145. 'Guinea-Bissau'\n146. 'Kenya'\n147. 'Lesotho'\n148. 'Liberia'\n149. 'Libya'\n150. 'Madagascar'\n151. 'Malawi'\n152. 'Mali'\n153. 'Mauritania'\n154. 'Mauritius'\n155. 'Morocco'\n156. 'Mozambique'\n157. 'Namibia'\n158. 'Niger'\n159. 'Nigeria'\n160. 'Reunion'\n161. 'Rwanda'\n162. 'Saint Helena'\n163. 'Sao Tome and Principe'\n164. 'Senegal'\n165. 'Seychelles'\n166. 'Sierra Leone'\n167. 'Somalia'\n168. 'South Africa'\n169. 'Sudan'\n170. 'Swaziland'\n171. 'Tanzania'\n172. 'Togo'\n173. 'Tunisia'\n174. 'Uganda'\n175. 'Western Sahara'\n176. 'Zambia'\n177. 'Zimbabwe'\n178. 'Afghanistan'\n179. 'American Samoa'\n180. 'Australia'\n181. 'Bangladesh'\n182. 'Bhutan'\n183. 'Brunei'\n184. 'Burma (Myanmar)'\n185. 'Cambodia'\n186. 'China'\n187. 'Cook Islands'\n188. 'Fiji'\n189. 'French Polynesia'\n190. 'Guam'\n191. 'Hawaiian Trade Zone'\n192. 'Hong Kong'\n193. 'India'\n194. 'Indonesia'\n195. 'Japan'\n196. 'Kiribati'\n197. 'Korea, North'\n198. 'Korea, South'\n199. 'Laos'\n200. 'Macau'\n201. 'Malaysia'\n202. 'Maldives'\n203. 'Mongolia'\n204. 'Nauru'\n205. 'Nepal'\n206. 'New Caledonia'\n207. 'New Zealand'\n208. 'Niue'\n209. 'Pakistan'\n210. 'Papua New Guinea'\n211. 'Philippines'\n212. 'Samoa'\n213. 'Singapore'\n214. 'Solomon Islands'\n215. 'Sri Lanka'\n216. 'Taiwan'\n217. 'Thailand'\n218. 'Timor-Leste (East Timor)'\n219. 'Tonga'\n220. 'U.S. Pacific Islands'\n221. 'Vanuatu'\n222. 'Vietnam'\n223. 'Wake Island'\n\n\n",
            "text/html": [
              "<style>\n",
              ".list-inline {list-style: none; margin:0; padding: 0}\n",
              ".list-inline>li {display: inline-block}\n",
              ".list-inline>li:not(:last-child)::after {content: \"\\00b7\"; padding: 0 .5ex}\n",
              "</style>\n",
              "<ol class=list-inline><li>'Bermuda'</li><li>'Canada'</li><li>'Greenland'</li><li>'Mexico'</li><li>'Saint Pierre and Miquelon'</li><li>'United States'</li><li>'Antigua and Barbuda'</li><li>'Argentina'</li><li>'Aruba'</li><li>'Bahamas, The'</li><li>'Barbados'</li><li>'Belize'</li><li>'Bolivia'</li><li>'Brazil'</li><li>'Cayman Islands'</li><li>'Chile'</li><li>'Colombia'</li><li>'Costa Rica'</li><li>'Cuba'</li><li>'Dominica'</li><li>'Dominican Republic'</li><li>'Ecuador'</li><li>'El Salvador'</li><li>'Falkland Islands (Islas Malvinas)'</li><li>'French Guiana'</li><li>'Grenada'</li><li>'Guadeloupe'</li><li>'Guatemala'</li><li>'Guyana'</li><li>'Haiti'</li><li>'Honduras'</li><li>'Jamaica'</li><li>'Martinique'</li><li>'Montserrat'</li><li>'Netherlands Antilles'</li><li>'Nicaragua'</li><li>'Panama'</li><li>'Paraguay'</li><li>'Peru'</li><li>'Puerto Rico'</li><li>'Saint Kitts and Nevis'</li><li>'Saint Lucia'</li><li>'Saint Vincent/Grenadines'</li><li>'Suriname'</li><li>'Trinidad and Tobago'</li><li>'Turks and Caicos Islands'</li><li>'Uruguay'</li><li>'Venezuela'</li><li><span style=white-space:pre-wrap>'Virgin Islands,  U.S.'</span></li><li>'Virgin Islands, British'</li><li>'Albania'</li><li>'Austria'</li><li>'Belgium'</li><li>'Bosnia and Herzegovina'</li><li>'Bulgaria'</li><li>'Croatia'</li><li>'Cyprus'</li><li>'Czech Republic'</li><li>'Denmark'</li><li>'Faroe Islands'</li><li>'Finland'</li><li>'Former Czechoslovakia'</li><li>'Former Serbia and Montenegro'</li><li>'Former Yugoslavia'</li><li>'France'</li><li>'Germany'</li><li>'Germany, East'</li><li>'Germany, West'</li><li>'Gibraltar'</li><li>'Greece'</li><li>'Hungary'</li><li>'Iceland'</li><li>'Ireland'</li><li>'Italy'</li><li>'Luxembourg'</li><li>'Macedonia'</li><li>'Malta'</li><li>'Montenegro'</li><li>'Netherlands'</li><li>'Norway'</li><li>'Poland'</li><li>'Portugal'</li><li>'Romania'</li><li>'Serbia'</li><li>'Slovakia'</li><li>'Slovenia'</li><li>'Spain'</li><li>'Sweden'</li><li>'Switzerland'</li><li>'Turkey'</li><li>'United Kingdom'</li><li>'Armenia'</li><li>'Azerbaijan'</li><li>'Belarus'</li><li>'Estonia'</li><li>'Former U.S.S.R.'</li><li>'Georgia'</li><li>'Kazakhstan'</li><li>'Kyrgyzstan'</li><li>'Latvia'</li><li>'Lithuania'</li><li>'Moldova'</li><li>'Russia'</li><li>'Tajikistan'</li><li>'Turkmenistan'</li><li>'Ukraine'</li><li>'Uzbekistan'</li><li>'Bahrain'</li><li>'Iran'</li><li>'Iraq'</li><li>'Israel'</li><li>'Jordan'</li><li>'Kuwait'</li><li>'Lebanon'</li><li>'Oman'</li><li>'Palestine'</li><li>'Qatar'</li><li>'Saudi Arabia'</li><li>'Syria'</li><li>'United Arab Emirates'</li><li>'Yemen'</li><li>'Algeria'</li><li>'Angola'</li><li>'Benin'</li><li>'Botswana'</li><li>'Burkina Faso'</li><li>'Burundi'</li><li>'Cameroon'</li><li>'Cape Verde'</li><li>'Central African Republic'</li><li>'Chad'</li><li>'Comoros'</li><li>'Congo (Brazzaville)'</li><li>'Congo (Kinshasa)'</li><li>'Cote dIvoire (IvoryCoast)'</li><li>'Djibouti'</li><li>'Egypt'</li><li>'Equatorial Guinea'</li><li>'Eritrea'</li><li>'Ethiopia'</li><li>'Gabon'</li><li>'Gambia, The'</li><li>'Ghana'</li><li>'Guinea'</li><li>'Guinea-Bissau'</li><li>'Kenya'</li><li>'Lesotho'</li><li>'Liberia'</li><li>'Libya'</li><li>'Madagascar'</li><li>'Malawi'</li><li>'Mali'</li><li>'Mauritania'</li><li>'Mauritius'</li><li>'Morocco'</li><li>'Mozambique'</li><li>'Namibia'</li><li>'Niger'</li><li>'Nigeria'</li><li>'Reunion'</li><li>'Rwanda'</li><li>'Saint Helena'</li><li>'Sao Tome and Principe'</li><li>'Senegal'</li><li>'Seychelles'</li><li>'Sierra Leone'</li><li>'Somalia'</li><li>'South Africa'</li><li>'Sudan'</li><li>'Swaziland'</li><li>'Tanzania'</li><li>'Togo'</li><li>'Tunisia'</li><li>'Uganda'</li><li>'Western Sahara'</li><li>'Zambia'</li><li>'Zimbabwe'</li><li>'Afghanistan'</li><li>'American Samoa'</li><li>'Australia'</li><li>'Bangladesh'</li><li>'Bhutan'</li><li>'Brunei'</li><li>'Burma (Myanmar)'</li><li>'Cambodia'</li><li>'China'</li><li>'Cook Islands'</li><li>'Fiji'</li><li>'French Polynesia'</li><li>'Guam'</li><li>'Hawaiian Trade Zone'</li><li>'Hong Kong'</li><li>'India'</li><li>'Indonesia'</li><li>'Japan'</li><li>'Kiribati'</li><li>'Korea, North'</li><li>'Korea, South'</li><li>'Laos'</li><li>'Macau'</li><li>'Malaysia'</li><li>'Maldives'</li><li>'Mongolia'</li><li>'Nauru'</li><li>'Nepal'</li><li>'New Caledonia'</li><li>'New Zealand'</li><li>'Niue'</li><li>'Pakistan'</li><li>'Papua New Guinea'</li><li>'Philippines'</li><li>'Samoa'</li><li>'Singapore'</li><li>'Solomon Islands'</li><li>'Sri Lanka'</li><li>'Taiwan'</li><li>'Thailand'</li><li>'Timor-Leste (East Timor)'</li><li>'Tonga'</li><li>'U.S. Pacific Islands'</li><li>'Vanuatu'</li><li>'Vietnam'</li><li>'Wake Island'</li></ol>\n"
            ]
          },
          "metadata": {
            "tags": []
          }
        }
      ]
    },
    {
      "cell_type": "code",
      "metadata": {
        "colab": {
          "base_uri": "https://localhost:8080/",
          "height": 285
        },
        "id": "mglBmtwHH6mT",
        "outputId": "a586d7e1-bdac-46e1-98ab-b6ecd80ef45c"
      },
      "source": [
        "head(coal.countries)"
      ],
      "execution_count": 44,
      "outputs": [
        {
          "output_type": "display_data",
          "data": {
            "text/plain": [
              "  Region                    year coal_consumption\n",
              "1 Bermuda                   1980  0.00000        \n",
              "2 Canada                    1980  0.96156        \n",
              "3 Greenland                 1980  0.00005        \n",
              "4 Mexico                    1980  0.10239        \n",
              "5 Saint Pierre and Miquelon 1980  0.00000        \n",
              "6 United States             1980 15.38779        "
            ],
            "text/latex": "A tibble: 6 × 3\n\\begin{tabular}{lll}\n Region & year & coal\\_consumption\\\\\n <chr> & <int> & <dbl>\\\\\n\\hline\n\t Bermuda                   & 1980 &  0.00000\\\\\n\t Canada                    & 1980 &  0.96156\\\\\n\t Greenland                 & 1980 &  0.00005\\\\\n\t Mexico                    & 1980 &  0.10239\\\\\n\t Saint Pierre and Miquelon & 1980 &  0.00000\\\\\n\t United States             & 1980 & 15.38779\\\\\n\\end{tabular}\n",
            "text/markdown": "\nA tibble: 6 × 3\n\n| Region &lt;chr&gt; | year &lt;int&gt; | coal_consumption &lt;dbl&gt; |\n|---|---|---|\n| Bermuda                   | 1980 |  0.00000 |\n| Canada                    | 1980 |  0.96156 |\n| Greenland                 | 1980 |  0.00005 |\n| Mexico                    | 1980 |  0.10239 |\n| Saint Pierre and Miquelon | 1980 |  0.00000 |\n| United States             | 1980 | 15.38779 |\n\n",
            "text/html": [
              "<table class=\"dataframe\">\n",
              "<caption>A tibble: 6 × 3</caption>\n",
              "<thead>\n",
              "\t<tr><th scope=col>Region</th><th scope=col>year</th><th scope=col>coal_consumption</th></tr>\n",
              "\t<tr><th scope=col>&lt;chr&gt;</th><th scope=col>&lt;int&gt;</th><th scope=col>&lt;dbl&gt;</th></tr>\n",
              "</thead>\n",
              "<tbody>\n",
              "\t<tr><td>Bermuda                  </td><td>1980</td><td> 0.00000</td></tr>\n",
              "\t<tr><td>Canada                   </td><td>1980</td><td> 0.96156</td></tr>\n",
              "\t<tr><td>Greenland                </td><td>1980</td><td> 0.00005</td></tr>\n",
              "\t<tr><td>Mexico                   </td><td>1980</td><td> 0.10239</td></tr>\n",
              "\t<tr><td>Saint Pierre and Miquelon</td><td>1980</td><td> 0.00000</td></tr>\n",
              "\t<tr><td>United States            </td><td>1980</td><td>15.38779</td></tr>\n",
              "</tbody>\n",
              "</table>\n"
            ]
          },
          "metadata": {
            "tags": []
          }
        }
      ]
    },
    {
      "cell_type": "code",
      "metadata": {
        "colab": {
          "base_uri": "https://localhost:8080/",
          "height": 35
        },
        "id": "LQBAN5NRFioL",
        "outputId": "61dcd29f-f4b6-4ff6-bd0b-837cd87679c9"
      },
      "source": [
        "unique(coal.regions$Region)"
      ],
      "execution_count": 34,
      "outputs": [
        {
          "output_type": "display_data",
          "data": {
            "text/plain": [
              "[1] \"North America\"           \"Central & South America\"\n",
              "[3] \"Antarctica\"              \"Europe\"                 \n",
              "[5] \"Eurasia\"                 \"Middle East\"            \n",
              "[7] \"Africa\"                  \"Asia & Oceania\"         \n",
              "[9] \"World\"                  "
            ],
            "text/latex": "\\begin{enumerate*}\n\\item 'North America'\n\\item 'Central \\& South America'\n\\item 'Antarctica'\n\\item 'Europe'\n\\item 'Eurasia'\n\\item 'Middle East'\n\\item 'Africa'\n\\item 'Asia \\& Oceania'\n\\item 'World'\n\\end{enumerate*}\n",
            "text/markdown": "1. 'North America'\n2. 'Central &amp; South America'\n3. 'Antarctica'\n4. 'Europe'\n5. 'Eurasia'\n6. 'Middle East'\n7. 'Africa'\n8. 'Asia &amp; Oceania'\n9. 'World'\n\n\n",
            "text/html": [
              "<style>\n",
              ".list-inline {list-style: none; margin:0; padding: 0}\n",
              ".list-inline>li {display: inline-block}\n",
              ".list-inline>li:not(:last-child)::after {content: \"\\00b7\"; padding: 0 .5ex}\n",
              "</style>\n",
              "<ol class=list-inline><li>'North America'</li><li>'Central &amp; South America'</li><li>'Antarctica'</li><li>'Europe'</li><li>'Eurasia'</li><li>'Middle East'</li><li>'Africa'</li><li>'Asia &amp; Oceania'</li><li>'World'</li></ol>\n"
            ]
          },
          "metadata": {
            "tags": []
          }
        }
      ]
    },
    {
      "cell_type": "code",
      "metadata": {
        "colab": {
          "base_uri": "https://localhost:8080/",
          "height": 285
        },
        "id": "v_nvOp_1IDSg",
        "outputId": "e5f64637-ab22-4f7c-c48c-6f3599c8d72e"
      },
      "source": [
        "head(coal.regions)"
      ],
      "execution_count": 45,
      "outputs": [
        {
          "output_type": "display_data",
          "data": {
            "text/plain": [
              "  Region                  year coal_consumption\n",
              "1 North America           1980 16.45179        \n",
              "2 Central & South America 1980  0.42011        \n",
              "3 Antarctica              1980  0.00000        \n",
              "4 Europe                  1980 19.61333        \n",
              "5 Eurasia                 1980 11.45935        \n",
              "6 Middle East             1980  0.02787        "
            ],
            "text/latex": "A tibble: 6 × 3\n\\begin{tabular}{lll}\n Region & year & coal\\_consumption\\\\\n <chr> & <int> & <dbl>\\\\\n\\hline\n\t North America           & 1980 & 16.45179\\\\\n\t Central \\& South America & 1980 &  0.42011\\\\\n\t Antarctica              & 1980 &  0.00000\\\\\n\t Europe                  & 1980 & 19.61333\\\\\n\t Eurasia                 & 1980 & 11.45935\\\\\n\t Middle East             & 1980 &  0.02787\\\\\n\\end{tabular}\n",
            "text/markdown": "\nA tibble: 6 × 3\n\n| Region &lt;chr&gt; | year &lt;int&gt; | coal_consumption &lt;dbl&gt; |\n|---|---|---|\n| North America           | 1980 | 16.45179 |\n| Central &amp; South America | 1980 |  0.42011 |\n| Antarctica              | 1980 |  0.00000 |\n| Europe                  | 1980 | 19.61333 |\n| Eurasia                 | 1980 | 11.45935 |\n| Middle East             | 1980 |  0.02787 |\n\n",
            "text/html": [
              "<table class=\"dataframe\">\n",
              "<caption>A tibble: 6 × 3</caption>\n",
              "<thead>\n",
              "\t<tr><th scope=col>Region</th><th scope=col>year</th><th scope=col>coal_consumption</th></tr>\n",
              "\t<tr><th scope=col>&lt;chr&gt;</th><th scope=col>&lt;int&gt;</th><th scope=col>&lt;dbl&gt;</th></tr>\n",
              "</thead>\n",
              "<tbody>\n",
              "\t<tr><td>North America          </td><td>1980</td><td>16.45179</td></tr>\n",
              "\t<tr><td>Central &amp; South America</td><td>1980</td><td> 0.42011</td></tr>\n",
              "\t<tr><td>Antarctica             </td><td>1980</td><td> 0.00000</td></tr>\n",
              "\t<tr><td>Europe                 </td><td>1980</td><td>19.61333</td></tr>\n",
              "\t<tr><td>Eurasia                </td><td>1980</td><td>11.45935</td></tr>\n",
              "\t<tr><td>Middle East            </td><td>1980</td><td> 0.02787</td></tr>\n",
              "</tbody>\n",
              "</table>\n"
            ]
          },
          "metadata": {
            "tags": []
          }
        }
      ]
    },
    {
      "cell_type": "code",
      "metadata": {
        "colab": {
          "base_uri": "https://localhost:8080/"
        },
        "id": "afxDhqqwGRzy",
        "outputId": "07fe2813-bebe-4d06-9663-d40743510c2f"
      },
      "source": [
        "# rows for the world\n",
        "print(match(coal.regions$Region, \"World\"))"
      ],
      "execution_count": 37,
      "outputs": [
        {
          "output_type": "stream",
          "text": [
            "  [1] NA NA NA NA NA NA NA NA  1 NA NA NA NA NA NA NA NA  1 NA NA NA NA NA NA NA\n",
            " [26] NA  1 NA NA NA NA NA NA NA NA  1 NA NA NA NA NA NA NA NA  1 NA NA NA NA NA\n",
            " [51] NA NA NA  1 NA NA NA NA NA NA NA NA  1 NA NA NA NA NA NA NA NA  1 NA NA NA\n",
            " [76] NA NA NA NA NA  1 NA NA NA NA NA NA NA NA  1 NA NA NA NA NA NA NA NA  1 NA\n",
            "[101] NA NA NA NA NA NA NA  1 NA NA NA NA NA NA NA NA  1 NA NA NA NA NA NA NA NA\n",
            "[126]  1 NA NA NA NA NA NA NA NA  1 NA NA NA NA NA NA NA NA  1 NA NA NA NA NA NA\n",
            "[151] NA NA  1 NA NA NA NA NA NA NA NA  1 NA NA NA NA NA NA NA NA  1 NA NA NA NA\n",
            "[176] NA NA NA NA  1 NA NA NA NA NA NA NA NA  1 NA NA NA NA NA NA NA NA  1 NA NA\n",
            "[201] NA NA NA NA NA NA  1 NA NA NA NA NA NA NA NA  1 NA NA NA NA NA NA NA NA  1\n",
            "[226] NA NA NA NA NA NA NA NA  1 NA NA NA NA NA NA NA NA  1 NA NA NA NA NA NA NA\n",
            "[251] NA  1 NA NA NA NA NA NA NA NA  1 NA NA NA NA NA NA NA NA  1\n"
          ],
          "name": "stdout"
        }
      ]
    },
    {
      "cell_type": "code",
      "metadata": {
        "colab": {
          "base_uri": "https://localhost:8080/"
        },
        "id": "qSigmuHVGkI9",
        "outputId": "bb07eb3b-1789-4a2c-d43d-330ea74ccc88"
      },
      "source": [
        "# Row ids for the world\n",
        "world_rows <- which(!is.na(match(coal.regions$Region, \"World\")))\n",
        "print(world_rows)"
      ],
      "execution_count": 42,
      "outputs": [
        {
          "output_type": "stream",
          "text": [
            " [1]   9  18  27  36  45  54  63  72  81  90  99 108 117 126 135 144 153 162 171\n",
            "[20] 180 189 198 207 216 225 234 243 252 261 270\n"
          ],
          "name": "stdout"
        }
      ]
    },
    {
      "cell_type": "code",
      "metadata": {
        "colab": {
          "base_uri": "https://localhost:8080/",
          "height": 285
        },
        "id": "GTaeKROwHAqP",
        "outputId": "1a48fb5b-a631-4dcc-d912-e8fda621e3d3"
      },
      "source": [
        "# Data of world\n",
        "coal.world <- coal.regions[world_rows,]\n",
        "head(coal.world)"
      ],
      "execution_count": 43,
      "outputs": [
        {
          "output_type": "display_data",
          "data": {
            "text/plain": [
              "  Region year coal_consumption\n",
              "1 World  1980 69.89860        \n",
              "2 World  1981 71.37043        \n",
              "3 World  1982 72.47173        \n",
              "4 World  1983 74.54526        \n",
              "5 World  1984 79.00603        \n",
              "6 World  1985 82.36034        "
            ],
            "text/latex": "A tibble: 6 × 3\n\\begin{tabular}{lll}\n Region & year & coal\\_consumption\\\\\n <chr> & <int> & <dbl>\\\\\n\\hline\n\t World & 1980 & 69.89860\\\\\n\t World & 1981 & 71.37043\\\\\n\t World & 1982 & 72.47173\\\\\n\t World & 1983 & 74.54526\\\\\n\t World & 1984 & 79.00603\\\\\n\t World & 1985 & 82.36034\\\\\n\\end{tabular}\n",
            "text/markdown": "\nA tibble: 6 × 3\n\n| Region &lt;chr&gt; | year &lt;int&gt; | coal_consumption &lt;dbl&gt; |\n|---|---|---|\n| World | 1980 | 69.89860 |\n| World | 1981 | 71.37043 |\n| World | 1982 | 72.47173 |\n| World | 1983 | 74.54526 |\n| World | 1984 | 79.00603 |\n| World | 1985 | 82.36034 |\n\n",
            "text/html": [
              "<table class=\"dataframe\">\n",
              "<caption>A tibble: 6 × 3</caption>\n",
              "<thead>\n",
              "\t<tr><th scope=col>Region</th><th scope=col>year</th><th scope=col>coal_consumption</th></tr>\n",
              "\t<tr><th scope=col>&lt;chr&gt;</th><th scope=col>&lt;int&gt;</th><th scope=col>&lt;dbl&gt;</th></tr>\n",
              "</thead>\n",
              "<tbody>\n",
              "\t<tr><td>World</td><td>1980</td><td>69.89860</td></tr>\n",
              "\t<tr><td>World</td><td>1981</td><td>71.37043</td></tr>\n",
              "\t<tr><td>World</td><td>1982</td><td>72.47173</td></tr>\n",
              "\t<tr><td>World</td><td>1983</td><td>74.54526</td></tr>\n",
              "\t<tr><td>World</td><td>1984</td><td>79.00603</td></tr>\n",
              "\t<tr><td>World</td><td>1985</td><td>82.36034</td></tr>\n",
              "</tbody>\n",
              "</table>\n"
            ]
          },
          "metadata": {
            "tags": []
          }
        }
      ]
    },
    {
      "cell_type": "markdown",
      "metadata": {
        "id": "78J1_h3sIW_n"
      },
      "source": [
        "# Data Visualization"
      ]
    },
    {
      "cell_type": "code",
      "metadata": {
        "colab": {
          "base_uri": "https://localhost:8080/",
          "height": 437
        },
        "id": "Fpk9ZnPcIaBU",
        "outputId": "fc100fe9-d339-41e0-9bda-848ccf21f0cc"
      },
      "source": [
        "ggplot(data = coal.regions, mapping = aes(x = year, y = coal_consumption)) +\n",
        "geom_point()"
      ],
      "execution_count": 46,
      "outputs": [
        {
          "output_type": "display_data",
          "data": {
            "image/png": "[encoded data removed]",
            "text/plain": [
              "plot without title"
            ]
          },
          "metadata": {
            "tags": [],
            "image/png": {
              "width": 420,
              "height": 420
            }
          }
        }
      ]
    },
    {
      "cell_type": "code",
      "metadata": {
        "colab": {
          "base_uri": "https://localhost:8080/",
          "height": 437
        },
        "id": "EdmjKzqPJEJk",
        "outputId": "b8bf7888-16e5-48a8-b3d8-16767ed7e964"
      },
      "source": [
        "# lines\n",
        "ggplot(data = coal.regions, mapping = aes(x = year, y = coal_consumption)) +\n",
        "geom_line(mapping = aes(color=Region))"
      ],
      "execution_count": 47,
      "outputs": [
        {
          "output_type": "display_data",
          "data": {
            "image/png": "[encoded data removed]",
            "text/plain": [
              "plot without title"
            ]
          },
          "metadata": {
            "tags": [],
            "image/png": {
              "width": 420,
              "height": 420
            }
          }
        }
      ]
    },
    {
      "cell_type": "code",
      "metadata": {
        "colab": {
          "base_uri": "https://localhost:8080/",
          "height": 437
        },
        "id": "hPWRYOGwJobZ",
        "outputId": "e13f789e-5d01-44f3-823a-0cb521bc64cf"
      },
      "source": [
        "# lines + points\n",
        "ggplot(data = coal.regions, mapping = aes(x = year, y = coal_consumption)) +\n",
        "geom_line(mapping = aes(color=Region)) + \n",
        "geom_point(mapping = aes(color=Region))"
      ],
      "execution_count": 48,
      "outputs": [
        {
          "output_type": "display_data",
          "data": {
            "image/png": "[encoded data removed]",
            "text/plain": [
              "plot without title"
            ]
          },
          "metadata": {
            "tags": [],
            "image/png": {
              "width": 420,
              "height": 420
            }
          }
        }
      ]
    }
  ]
}