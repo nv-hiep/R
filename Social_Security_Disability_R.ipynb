{
  "nbformat": 4,
  "nbformat_minor": 0,
  "metadata": {
    "colab": {
      "name": "Social_Security_Disability_R.ipynb",
      "provenance": [],
      "collapsed_sections": [],
      "authorship_tag": "ABX9TyNj7czsd8Bcex3EWcIpuQ43",
      "include_colab_link": true
    },
    "kernelspec": {
      "name": "ir",
      "display_name": "R"
    }
  },
  "cells": [
    {
      "cell_type": "markdown",
      "metadata": {
        "id": "view-in-github",
        "colab_type": "text"
      },
      "source": [
        "<a href=\"https://colab.research.google.com/github/nv-hiep/R/blob/main/Social_Security_Disability_R.ipynb\" target=\"_parent\"><img src=\"https://colab.research.google.com/assets/colab-badge.svg\" alt=\"Open In Colab\"/></a>"
      ]
    },
    {
      "cell_type": "markdown",
      "metadata": {
        "id": "1MRLIbGl_dLS"
      },
      "source": [
        "Data Wrangling in R\n",
        "\n",
        "Water QualitySocial Security Disability"
      ]
    },
    {
      "cell_type": "markdown",
      "metadata": {
        "id": "js4jLbneikQO"
      },
      "source": [
        "https://colab.research.google.com/notebook#create=true&language=r"
      ]
    },
    {
      "cell_type": "markdown",
      "metadata": {
        "id": "atsneToaAJu-"
      },
      "source": [
        "# Load library"
      ]
    },
    {
      "cell_type": "code",
      "metadata": {
        "colab": {
          "base_uri": "https://localhost:8080/"
        },
        "id": "2RCk5rxo_jdM",
        "outputId": "80fd9d26-1302-449b-b65b-bdfc57ac640d"
      },
      "source": [
        "library(tidyverse)"
      ],
      "execution_count": 1,
      "outputs": [
        {
          "output_type": "stream",
          "text": [
            "Warning message in system(\"timedatectl\", intern = TRUE):\n",
            "“running command 'timedatectl' had status 1”\n",
            "── \u001b[1mAttaching packages\u001b[22m ─────────────────────────────────────── tidyverse 1.3.1 ──\n",
            "\n",
            "\u001b[32m✔\u001b[39m \u001b[34mggplot2\u001b[39m 3.3.5     \u001b[32m✔\u001b[39m \u001b[34mpurrr  \u001b[39m 0.3.4\n",
            "\u001b[32m✔\u001b[39m \u001b[34mtibble \u001b[39m 3.1.2     \u001b[32m✔\u001b[39m \u001b[34mdplyr  \u001b[39m 1.0.7\n",
            "\u001b[32m✔\u001b[39m \u001b[34mtidyr  \u001b[39m 1.1.3     \u001b[32m✔\u001b[39m \u001b[34mstringr\u001b[39m 1.4.0\n",
            "\u001b[32m✔\u001b[39m \u001b[34mreadr  \u001b[39m 1.4.0     \u001b[32m✔\u001b[39m \u001b[34mforcats\u001b[39m 0.5.1\n",
            "\n",
            "── \u001b[1mConflicts\u001b[22m ────────────────────────────────────────── tidyverse_conflicts() ──\n",
            "\u001b[31m✖\u001b[39m \u001b[34mdplyr\u001b[39m::\u001b[32mfilter()\u001b[39m masks \u001b[34mstats\u001b[39m::filter()\n",
            "\u001b[31m✖\u001b[39m \u001b[34mdplyr\u001b[39m::\u001b[32mlag()\u001b[39m    masks \u001b[34mstats\u001b[39m::lag()\n",
            "\n"
          ],
          "name": "stderr"
        }
      ]
    },
    {
      "cell_type": "code",
      "metadata": {
        "colab": {
          "base_uri": "https://localhost:8080/"
        },
        "id": "RI3kv_vJLp2j",
        "outputId": "b08ec003-4db9-41bc-8d84-c3beccb235e0"
      },
      "source": [
        "library(stringr)\n",
        "library(lubridate)"
      ],
      "execution_count": 2,
      "outputs": [
        {
          "output_type": "stream",
          "text": [
            "\n",
            "Attaching package: ‘lubridate’\n",
            "\n",
            "\n",
            "The following objects are masked from ‘package:base’:\n",
            "\n",
            "    date, intersect, setdiff, union\n",
            "\n",
            "\n"
          ],
          "name": "stderr"
        }
      ]
    },
    {
      "cell_type": "markdown",
      "metadata": {
        "id": "ZCfK683BANB_"
      },
      "source": [
        "# Read data"
      ]
    },
    {
      "cell_type": "code",
      "metadata": {
        "colab": {
          "base_uri": "https://localhost:8080/"
        },
        "id": "TM2QscmZAO2y",
        "outputId": "72f8305d-ba37-47b2-afd5-54667b27e5c0"
      },
      "source": [
        "# Read in the dataset\n",
        "ssa_tib <- read_csv('http://594442.youcanlearnit.net/ssadisability.csv')\n",
        "glimpse(ssa_tib)"
      ],
      "execution_count": 3,
      "outputs": [
        {
          "output_type": "stream",
          "text": [
            "\n",
            "\u001b[36m──\u001b[39m \u001b[1m\u001b[1mColumn specification\u001b[1m\u001b[22m \u001b[36m────────────────────────────────────────────────────────\u001b[39m\n",
            "cols(\n",
            "  .default = col_number(),\n",
            "  Fiscal_Year = \u001b[31mcol_character()\u001b[39m\n",
            ")\n",
            "\u001b[36mℹ\u001b[39m Use \u001b[30m\u001b[47m\u001b[30m\u001b[47m`spec()`\u001b[47m\u001b[30m\u001b[49m\u001b[39m for the full column specifications.\n",
            "\n",
            "\n"
          ],
          "name": "stderr"
        },
        {
          "output_type": "stream",
          "text": [
            "Rows: 10\n",
            "Columns: 25\n",
            "$ Fiscal_Year     \u001b[3m\u001b[90m<chr>\u001b[39m\u001b[23m \"FY08\", \"FY09\", \"FY10\", \"FY11\", \"FY12\", \"FY13\", \"FY14\"…\n",
            "$ Oct_Total       \u001b[3m\u001b[90m<dbl>\u001b[39m\u001b[23m 176407, 244781, 286598, 299033, 227456, 224624, 206471…\n",
            "$ Oct_Internet    \u001b[3m\u001b[90m<dbl>\u001b[39m\u001b[23m 15082, 32578, 65533, 92856, 86811, 92542, 98400, 13374…\n",
            "$ Nov_Total       \u001b[3m\u001b[90m<dbl>\u001b[39m\u001b[23m 204287, 181161, 213297, 209553, 200140, 249910, 237621…\n",
            "$ Nov_Internet    \u001b[3m\u001b[90m<dbl>\u001b[39m\u001b[23m 17301, 25620, 50098, 63424, 71175, 107053, 117934, 967…\n",
            "$ Dec_Total       \u001b[3m\u001b[90m<dbl>\u001b[39m\u001b[23m 151687, 176107, 198733, 215239, 254766, 188183, 175607…\n",
            "$ Dec_Internet    \u001b[3m\u001b[90m<dbl>\u001b[39m\u001b[23m 14321, 27174, 44512, 62877, 91424, 79719, 83377, 89619…\n",
            "$ Jan_Total       \u001b[3m\u001b[90m<dbl>\u001b[39m\u001b[23m 162966, 249062, 265665, 264286, 221146, 199588, 240969…\n",
            "$ Jan_Internet    \u001b[3m\u001b[90m<dbl>\u001b[39m\u001b[23m 18391, 57908, 68843, 84944, 85848, 93703, 125320, 1294…\n",
            "$ Feb_Total       \u001b[3m\u001b[90m<dbl>\u001b[39m\u001b[23m 228623, 221368, 225319, 223625, 228519, 219604, 205737…\n",
            "$ Feb_Internet    \u001b[3m\u001b[90m<dbl>\u001b[39m\u001b[23m 26034, 50408, 58465, 71314, 83576, 101878, 108384, 101…\n",
            "$ Mar_Total       \u001b[3m\u001b[90m<dbl>\u001b[39m\u001b[23m 190716, 235360, 243266, 246630, 299267, 285923, 219696…\n",
            "$ Mar_Internet    \u001b[3m\u001b[90m<dbl>\u001b[39m\u001b[23m 21064, 53592, 62198, 77916, 112104, 129415, 114993, 10…\n",
            "$ Apr_Total       \u001b[3m\u001b[90m<dbl>\u001b[39m\u001b[23m 194403, 234304, 298065, 300359, 233685, 224804, 218172…\n",
            "$ Apr_Internet    \u001b[3m\u001b[90m<dbl>\u001b[39m\u001b[23m 22372, 53675, 76573, 94722, 88330, 101619, 112417, 101…\n",
            "$ May_Total       \u001b[3m\u001b[90m<dbl>\u001b[39m\u001b[23m 226549, 281343, 239409, 241673, 239503, 269955, 258726…\n",
            "$ May_Internet    \u001b[3m\u001b[90m<dbl>\u001b[39m\u001b[23m 26337, 65822, 65780, 77603, 93826, 123440, 134714, 122…\n",
            "$ June_Total      \u001b[3m\u001b[90m<dbl>\u001b[39m\u001b[23m 193094, 237329, 231964, 233351, 284136, 223238, 213389…\n",
            "$ June_Internet   \u001b[3m\u001b[90m<dbl>\u001b[39m\u001b[23m 22551, 54285, 67163, 79925, 113613, 104146, 110227, 99…\n",
            "$ July_Total      \u001b[3m\u001b[90m<dbl>\u001b[39m\u001b[23m 181552, 285172, 300442, 292949, 221745, 204072, 198484…\n",
            "$ July_Internet   \u001b[3m\u001b[90m<dbl>\u001b[39m\u001b[23m 22728, 66565, 92957, 105276, 91323, 98326, 106013, 124…\n",
            "$ August_Total    \u001b[3m\u001b[90m<dbl>\u001b[39m\u001b[23m 245429, 240611, 248284, 237555, 298458, 281828, 265979…\n",
            "$ August_Internet \u001b[3m\u001b[90m<dbl>\u001b[39m\u001b[23m 30580, 54915, 75535, 86514, 119795, 135423, 139000, 10…\n",
            "$ Sept_Internet   \u001b[3m\u001b[90m<dbl>\u001b[39m\u001b[23m 24141, 52687, 73403, 103564, 93375, 104270, 107284, 98…\n",
            "$ Sept_Total      \u001b[3m\u001b[90m<dbl>\u001b[39m\u001b[23m 186750, 228692, 238965, 280913, 230648, 214004, 203384…\n"
          ],
          "name": "stdout"
        }
      ]
    },
    {
      "cell_type": "code",
      "metadata": {
        "colab": {
          "base_uri": "https://localhost:8080/",
          "height": 305
        },
        "id": "x7ZpJ8IiBDzZ",
        "outputId": "0d432516-cc50-4769-e50f-59b44a4f3376"
      },
      "source": [
        "head(ssa_tib)"
      ],
      "execution_count": 4,
      "outputs": [
        {
          "output_type": "display_data",
          "data": {
            "text/plain": [
              "  Fiscal_Year Oct_Total Oct_Internet Nov_Total Nov_Internet Dec_Total\n",
              "1 FY08        176407    15082        204287     17301       151687   \n",
              "2 FY09        244781    32578        181161     25620       176107   \n",
              "3 FY10        286598    65533        213297     50098       198733   \n",
              "4 FY11        299033    92856        209553     63424       215239   \n",
              "5 FY12        227456    86811        200140     71175       254766   \n",
              "6 FY13        224624    92542        249910    107053       188183   \n",
              "  Dec_Internet Jan_Total Jan_Internet Feb_Total ⋯ May_Total May_Internet\n",
              "1 14321        162966    18391        228623    ⋯ 226549     26337      \n",
              "2 27174        249062    57908        221368    ⋯ 281343     65822      \n",
              "3 44512        265665    68843        225319    ⋯ 239409     65780      \n",
              "4 62877        264286    84944        223625    ⋯ 241673     77603      \n",
              "5 91424        221146    85848        228519    ⋯ 239503     93826      \n",
              "6 79719        199588    93703        219604    ⋯ 269955    123440      \n",
              "  June_Total June_Internet July_Total July_Internet August_Total\n",
              "1 193094      22551        181552      22728        245429      \n",
              "2 237329      54285        285172      66565        240611      \n",
              "3 231964      67163        300442      92957        248284      \n",
              "4 233351      79925        292949     105276        237555      \n",
              "5 284136     113613        221745      91323        298458      \n",
              "6 223238     104146        204072      98326        281828      \n",
              "  August_Internet Sept_Internet Sept_Total\n",
              "1  30580           24141        186750    \n",
              "2  54915           52687        228692    \n",
              "3  75535           73403        238965    \n",
              "4  86514          103564        280913    \n",
              "5 119795           93375        230648    \n",
              "6 135423          104270        214004    "
            ],
            "text/latex": "A tibble: 6 × 25\n\\begin{tabular}{lllllllllllllllllllll}\n Fiscal\\_Year & Oct\\_Total & Oct\\_Internet & Nov\\_Total & Nov\\_Internet & Dec\\_Total & Dec\\_Internet & Jan\\_Total & Jan\\_Internet & Feb\\_Total & ⋯ & May\\_Total & May\\_Internet & June\\_Total & June\\_Internet & July\\_Total & July\\_Internet & August\\_Total & August\\_Internet & Sept\\_Internet & Sept\\_Total\\\\\n <chr> & <dbl> & <dbl> & <dbl> & <dbl> & <dbl> & <dbl> & <dbl> & <dbl> & <dbl> & ⋯ & <dbl> & <dbl> & <dbl> & <dbl> & <dbl> & <dbl> & <dbl> & <dbl> & <dbl> & <dbl>\\\\\n\\hline\n\t FY08 & 176407 & 15082 & 204287 &  17301 & 151687 & 14321 & 162966 & 18391 & 228623 & ⋯ & 226549 &  26337 & 193094 &  22551 & 181552 &  22728 & 245429 &  30580 &  24141 & 186750\\\\\n\t FY09 & 244781 & 32578 & 181161 &  25620 & 176107 & 27174 & 249062 & 57908 & 221368 & ⋯ & 281343 &  65822 & 237329 &  54285 & 285172 &  66565 & 240611 &  54915 &  52687 & 228692\\\\\n\t FY10 & 286598 & 65533 & 213297 &  50098 & 198733 & 44512 & 265665 & 68843 & 225319 & ⋯ & 239409 &  65780 & 231964 &  67163 & 300442 &  92957 & 248284 &  75535 &  73403 & 238965\\\\\n\t FY11 & 299033 & 92856 & 209553 &  63424 & 215239 & 62877 & 264286 & 84944 & 223625 & ⋯ & 241673 &  77603 & 233351 &  79925 & 292949 & 105276 & 237555 &  86514 & 103564 & 280913\\\\\n\t FY12 & 227456 & 86811 & 200140 &  71175 & 254766 & 91424 & 221146 & 85848 & 228519 & ⋯ & 239503 &  93826 & 284136 & 113613 & 221745 &  91323 & 298458 & 119795 &  93375 & 230648\\\\\n\t FY13 & 224624 & 92542 & 249910 & 107053 & 188183 & 79719 & 199588 & 93703 & 219604 & ⋯ & 269955 & 123440 & 223238 & 104146 & 204072 &  98326 & 281828 & 135423 & 104270 & 214004\\\\\n\\end{tabular}\n",
            "text/markdown": "\nA tibble: 6 × 25\n\n| Fiscal_Year &lt;chr&gt; | Oct_Total &lt;dbl&gt; | Oct_Internet &lt;dbl&gt; | Nov_Total &lt;dbl&gt; | Nov_Internet &lt;dbl&gt; | Dec_Total &lt;dbl&gt; | Dec_Internet &lt;dbl&gt; | Jan_Total &lt;dbl&gt; | Jan_Internet &lt;dbl&gt; | Feb_Total &lt;dbl&gt; | ⋯ ⋯ | May_Total &lt;dbl&gt; | May_Internet &lt;dbl&gt; | June_Total &lt;dbl&gt; | June_Internet &lt;dbl&gt; | July_Total &lt;dbl&gt; | July_Internet &lt;dbl&gt; | August_Total &lt;dbl&gt; | August_Internet &lt;dbl&gt; | Sept_Internet &lt;dbl&gt; | Sept_Total &lt;dbl&gt; |\n|---|---|---|---|---|---|---|---|---|---|---|---|---|---|---|---|---|---|---|---|---|\n| FY08 | 176407 | 15082 | 204287 |  17301 | 151687 | 14321 | 162966 | 18391 | 228623 | ⋯ | 226549 |  26337 | 193094 |  22551 | 181552 |  22728 | 245429 |  30580 |  24141 | 186750 |\n| FY09 | 244781 | 32578 | 181161 |  25620 | 176107 | 27174 | 249062 | 57908 | 221368 | ⋯ | 281343 |  65822 | 237329 |  54285 | 285172 |  66565 | 240611 |  54915 |  52687 | 228692 |\n| FY10 | 286598 | 65533 | 213297 |  50098 | 198733 | 44512 | 265665 | 68843 | 225319 | ⋯ | 239409 |  65780 | 231964 |  67163 | 300442 |  92957 | 248284 |  75535 |  73403 | 238965 |\n| FY11 | 299033 | 92856 | 209553 |  63424 | 215239 | 62877 | 264286 | 84944 | 223625 | ⋯ | 241673 |  77603 | 233351 |  79925 | 292949 | 105276 | 237555 |  86514 | 103564 | 280913 |\n| FY12 | 227456 | 86811 | 200140 |  71175 | 254766 | 91424 | 221146 | 85848 | 228519 | ⋯ | 239503 |  93826 | 284136 | 113613 | 221745 |  91323 | 298458 | 119795 |  93375 | 230648 |\n| FY13 | 224624 | 92542 | 249910 | 107053 | 188183 | 79719 | 199588 | 93703 | 219604 | ⋯ | 269955 | 123440 | 223238 | 104146 | 204072 |  98326 | 281828 | 135423 | 104270 | 214004 |\n\n",
            "text/html": [
              "<table class=\"dataframe\">\n",
              "<caption>A tibble: 6 × 25</caption>\n",
              "<thead>\n",
              "\t<tr><th scope=col>Fiscal_Year</th><th scope=col>Oct_Total</th><th scope=col>Oct_Internet</th><th scope=col>Nov_Total</th><th scope=col>Nov_Internet</th><th scope=col>Dec_Total</th><th scope=col>Dec_Internet</th><th scope=col>Jan_Total</th><th scope=col>Jan_Internet</th><th scope=col>Feb_Total</th><th scope=col>⋯</th><th scope=col>May_Total</th><th scope=col>May_Internet</th><th scope=col>June_Total</th><th scope=col>June_Internet</th><th scope=col>July_Total</th><th scope=col>July_Internet</th><th scope=col>August_Total</th><th scope=col>August_Internet</th><th scope=col>Sept_Internet</th><th scope=col>Sept_Total</th></tr>\n",
              "\t<tr><th scope=col>&lt;chr&gt;</th><th scope=col>&lt;dbl&gt;</th><th scope=col>&lt;dbl&gt;</th><th scope=col>&lt;dbl&gt;</th><th scope=col>&lt;dbl&gt;</th><th scope=col>&lt;dbl&gt;</th><th scope=col>&lt;dbl&gt;</th><th scope=col>&lt;dbl&gt;</th><th scope=col>&lt;dbl&gt;</th><th scope=col>&lt;dbl&gt;</th><th scope=col>⋯</th><th scope=col>&lt;dbl&gt;</th><th scope=col>&lt;dbl&gt;</th><th scope=col>&lt;dbl&gt;</th><th scope=col>&lt;dbl&gt;</th><th scope=col>&lt;dbl&gt;</th><th scope=col>&lt;dbl&gt;</th><th scope=col>&lt;dbl&gt;</th><th scope=col>&lt;dbl&gt;</th><th scope=col>&lt;dbl&gt;</th><th scope=col>&lt;dbl&gt;</th></tr>\n",
              "</thead>\n",
              "<tbody>\n",
              "\t<tr><td>FY08</td><td>176407</td><td>15082</td><td>204287</td><td> 17301</td><td>151687</td><td>14321</td><td>162966</td><td>18391</td><td>228623</td><td>⋯</td><td>226549</td><td> 26337</td><td>193094</td><td> 22551</td><td>181552</td><td> 22728</td><td>245429</td><td> 30580</td><td> 24141</td><td>186750</td></tr>\n",
              "\t<tr><td>FY09</td><td>244781</td><td>32578</td><td>181161</td><td> 25620</td><td>176107</td><td>27174</td><td>249062</td><td>57908</td><td>221368</td><td>⋯</td><td>281343</td><td> 65822</td><td>237329</td><td> 54285</td><td>285172</td><td> 66565</td><td>240611</td><td> 54915</td><td> 52687</td><td>228692</td></tr>\n",
              "\t<tr><td>FY10</td><td>286598</td><td>65533</td><td>213297</td><td> 50098</td><td>198733</td><td>44512</td><td>265665</td><td>68843</td><td>225319</td><td>⋯</td><td>239409</td><td> 65780</td><td>231964</td><td> 67163</td><td>300442</td><td> 92957</td><td>248284</td><td> 75535</td><td> 73403</td><td>238965</td></tr>\n",
              "\t<tr><td>FY11</td><td>299033</td><td>92856</td><td>209553</td><td> 63424</td><td>215239</td><td>62877</td><td>264286</td><td>84944</td><td>223625</td><td>⋯</td><td>241673</td><td> 77603</td><td>233351</td><td> 79925</td><td>292949</td><td>105276</td><td>237555</td><td> 86514</td><td>103564</td><td>280913</td></tr>\n",
              "\t<tr><td>FY12</td><td>227456</td><td>86811</td><td>200140</td><td> 71175</td><td>254766</td><td>91424</td><td>221146</td><td>85848</td><td>228519</td><td>⋯</td><td>239503</td><td> 93826</td><td>284136</td><td>113613</td><td>221745</td><td> 91323</td><td>298458</td><td>119795</td><td> 93375</td><td>230648</td></tr>\n",
              "\t<tr><td>FY13</td><td>224624</td><td>92542</td><td>249910</td><td>107053</td><td>188183</td><td>79719</td><td>199588</td><td>93703</td><td>219604</td><td>⋯</td><td>269955</td><td>123440</td><td>223238</td><td>104146</td><td>204072</td><td> 98326</td><td>281828</td><td>135423</td><td>104270</td><td>214004</td></tr>\n",
              "</tbody>\n",
              "</table>\n"
            ]
          },
          "metadata": {
            "tags": []
          }
        }
      ]
    },
    {
      "cell_type": "code",
      "metadata": {
        "colab": {
          "base_uri": "https://localhost:8080/",
          "height": 1000
        },
        "id": "YiD7UNhdBKqB",
        "outputId": "df70c69b-6b45-448a-ea61-e7fc39dfea33"
      },
      "source": [
        "summary(ssa_tib)"
      ],
      "execution_count": 5,
      "outputs": [
        {
          "output_type": "display_data",
          "data": {
            "text/plain": [
              " Fiscal_Year          Oct_Total       Oct_Internet      Nov_Total     \n",
              " Length:10          Min.   :173396   Min.   : 15082   Min.   :161320  \n",
              " Class :character   1st Qu.:211009   1st Qu.: 70852   1st Qu.:179313  \n",
              " Mode  :character   Median :236028   Median : 91434   Median :202214  \n",
              "                    Mean   :233766   Mean   : 83384   Mean   :201009  \n",
              "                    3rd Qu.:251916   3rd Qu.: 97014   3rd Qu.:212361  \n",
              "                    Max.   :299033   Max.   :133740   Max.   :249910  \n",
              "                                                                      \n",
              "  Nov_Internet      Dec_Total       Dec_Internet      Jan_Total     \n",
              " Min.   : 17301   Min.   :151687   Min.   : 14321   Min.   :162966  \n",
              " 1st Qu.: 53430   1st Qu.:172671   1st Qu.: 49103   1st Qu.:204533  \n",
              " Median : 78400   Median :182145   Median : 81548   Median :227587  \n",
              " Mean   : 72515   Mean   :190244   Mean   : 68204   Mean   :223128  \n",
              " 3rd Qu.: 95088   3rd Qu.:200070   3rd Qu.: 88501   3rd Qu.:247039  \n",
              " Max.   :117934   Max.   :254766   Max.   :103867   Max.   :265665  \n",
              "                                                                    \n",
              "  Jan_Internet      Feb_Total       Feb_Internet      Mar_Total     \n",
              " Min.   : 18391   Min.   :189174   Min.   : 26034   Min.   :190716  \n",
              " 1st Qu.: 72868   1st Qu.:205737   1st Qu.: 58465   1st Qu.:204066  \n",
              " Median : 89776   Median :221368   Median : 83576   Median :235360  \n",
              " Mean   : 87879   Mean   :214754   Mean   : 77902   Mean   :235222  \n",
              " 3rd Qu.:112880   3rd Qu.:225319   3rd Qu.:101878   3rd Qu.:246630  \n",
              " Max.   :129482   Max.   :228623   Max.   :108384   Max.   :299267  \n",
              "                  NA's   :1        NA's   :1        NA's   :1       \n",
              "  Mar_Internet      Apr_Total       Apr_Internet      May_Total     \n",
              " Min.   : 21064   Min.   :194403   Min.   : 22372   Min.   :193897  \n",
              " 1st Qu.: 62198   1st Qu.:218172   1st Qu.: 76573   1st Qu.:239409  \n",
              " Median : 98015   Median :233685   Median : 94722   Median :241673  \n",
              " Mean   : 85866   Mean   :239206   Mean   : 86321   Mean   :244527  \n",
              " 3rd Qu.:112104   3rd Qu.:243558   3rd Qu.:101619   3rd Qu.:258726  \n",
              " Max.   :129415   Max.   :300359   Max.   :125640   Max.   :281343  \n",
              " NA's   :1        NA's   :1        NA's   :1        NA's   :1       \n",
              "  May_Internet      June_Total     June_Internet      July_Total    \n",
              " Min.   : 26337   Min.   :181050   Min.   : 22551   Min.   :181552  \n",
              " 1st Qu.: 65822   1st Qu.:204307   1st Qu.: 67163   1st Qu.:204072  \n",
              " Median : 93826   Median :223238   Median : 94258   Median :228531  \n",
              " Mean   : 90004   Mean   :222429   Mean   : 82889   Mean   :239349  \n",
              " 3rd Qu.:122196   3rd Qu.:233351   3rd Qu.:104146   3rd Qu.:285172  \n",
              " Max.   :134714   Max.   :284136   Max.   :113613   Max.   :300442  \n",
              " NA's   :1        NA's   :1        NA's   :1        NA's   :1       \n",
              " July_Internet     August_Total    August_Internet  Sept_Internet   \n",
              " Min.   : 22728   Min.   :191747   Min.   : 30580   Min.   : 24141  \n",
              " 1st Qu.: 91323   1st Qu.:237555   1st Qu.: 75535   1st Qu.: 73403  \n",
              " Median : 98326   Median :245429   Median :100290   Median : 96916  \n",
              " Mean   : 92184   Mean   :245962   Mean   : 93957   Mean   : 83835  \n",
              " 3rd Qu.:106013   3rd Qu.:265979   3rd Qu.:119795   3rd Qu.:103564  \n",
              " Max.   :124923   Max.   :298458   Max.   :139000   Max.   :107284  \n",
              " NA's   :1        NA's   :1        NA's   :1        NA's   :1       \n",
              "   Sept_Total    \n",
              " Min.   :181097  \n",
              " 1st Qu.:192635  \n",
              " Median :214004  \n",
              " Mean   :217454  \n",
              " 3rd Qu.:230648  \n",
              " Max.   :280913  \n",
              " NA's   :1       "
            ]
          },
          "metadata": {
            "tags": []
          }
        }
      ]
    },
    {
      "cell_type": "code",
      "metadata": {
        "colab": {
          "base_uri": "https://localhost:8080/",
          "height": 105
        },
        "id": "qHmRJ1mxMdEZ",
        "outputId": "0b643658-d950-4989-fc65-02e39bf1b74a"
      },
      "source": [
        "cat('Number of columns:', length(colnames(ssa_tib)), '\\n' )\n",
        "print( paste('Number of columns:', length(colnames(ssa_tib))) )\n",
        "colnames(ssa_tib)"
      ],
      "execution_count": 6,
      "outputs": [
        {
          "output_type": "stream",
          "text": [
            "Number of columns: 25 \n",
            "[1] \"Number of columns: 25\"\n"
          ],
          "name": "stdout"
        },
        {
          "output_type": "display_data",
          "data": {
            "text/plain": [
              " [1] \"Fiscal_Year\"     \"Oct_Total\"       \"Oct_Internet\"    \"Nov_Total\"      \n",
              " [5] \"Nov_Internet\"    \"Dec_Total\"       \"Dec_Internet\"    \"Jan_Total\"      \n",
              " [9] \"Jan_Internet\"    \"Feb_Total\"       \"Feb_Internet\"    \"Mar_Total\"      \n",
              "[13] \"Mar_Internet\"    \"Apr_Total\"       \"Apr_Internet\"    \"May_Total\"      \n",
              "[17] \"May_Internet\"    \"June_Total\"      \"June_Internet\"   \"July_Total\"     \n",
              "[21] \"July_Internet\"   \"August_Total\"    \"August_Internet\" \"Sept_Internet\"  \n",
              "[25] \"Sept_Total\"     "
            ],
            "text/latex": "\\begin{enumerate*}\n\\item 'Fiscal\\_Year'\n\\item 'Oct\\_Total'\n\\item 'Oct\\_Internet'\n\\item 'Nov\\_Total'\n\\item 'Nov\\_Internet'\n\\item 'Dec\\_Total'\n\\item 'Dec\\_Internet'\n\\item 'Jan\\_Total'\n\\item 'Jan\\_Internet'\n\\item 'Feb\\_Total'\n\\item 'Feb\\_Internet'\n\\item 'Mar\\_Total'\n\\item 'Mar\\_Internet'\n\\item 'Apr\\_Total'\n\\item 'Apr\\_Internet'\n\\item 'May\\_Total'\n\\item 'May\\_Internet'\n\\item 'June\\_Total'\n\\item 'June\\_Internet'\n\\item 'July\\_Total'\n\\item 'July\\_Internet'\n\\item 'August\\_Total'\n\\item 'August\\_Internet'\n\\item 'Sept\\_Internet'\n\\item 'Sept\\_Total'\n\\end{enumerate*}\n",
            "text/markdown": "1. 'Fiscal_Year'\n2. 'Oct_Total'\n3. 'Oct_Internet'\n4. 'Nov_Total'\n5. 'Nov_Internet'\n6. 'Dec_Total'\n7. 'Dec_Internet'\n8. 'Jan_Total'\n9. 'Jan_Internet'\n10. 'Feb_Total'\n11. 'Feb_Internet'\n12. 'Mar_Total'\n13. 'Mar_Internet'\n14. 'Apr_Total'\n15. 'Apr_Internet'\n16. 'May_Total'\n17. 'May_Internet'\n18. 'June_Total'\n19. 'June_Internet'\n20. 'July_Total'\n21. 'July_Internet'\n22. 'August_Total'\n23. 'August_Internet'\n24. 'Sept_Internet'\n25. 'Sept_Total'\n\n\n",
            "text/html": [
              "<style>\n",
              ".list-inline {list-style: none; margin:0; padding: 0}\n",
              ".list-inline>li {display: inline-block}\n",
              ".list-inline>li:not(:last-child)::after {content: \"\\00b7\"; padding: 0 .5ex}\n",
              "</style>\n",
              "<ol class=list-inline><li>'Fiscal_Year'</li><li>'Oct_Total'</li><li>'Oct_Internet'</li><li>'Nov_Total'</li><li>'Nov_Internet'</li><li>'Dec_Total'</li><li>'Dec_Internet'</li><li>'Jan_Total'</li><li>'Jan_Internet'</li><li>'Feb_Total'</li><li>'Feb_Internet'</li><li>'Mar_Total'</li><li>'Mar_Internet'</li><li>'Apr_Total'</li><li>'Apr_Internet'</li><li>'May_Total'</li><li>'May_Internet'</li><li>'June_Total'</li><li>'June_Internet'</li><li>'July_Total'</li><li>'July_Internet'</li><li>'August_Total'</li><li>'August_Internet'</li><li>'Sept_Internet'</li><li>'Sept_Total'</li></ol>\n"
            ]
          },
          "metadata": {
            "tags": []
          }
        }
      ]
    },
    {
      "cell_type": "code",
      "metadata": {
        "colab": {
          "base_uri": "https://localhost:8080/"
        },
        "id": "rTYaA4glMj0y",
        "outputId": "59d1dd10-b640-4436-d858-5bf6a6711786"
      },
      "source": [
        "cat('Number of (row and columns):', dim(ssa_tib) )"
      ],
      "execution_count": 7,
      "outputs": [
        {
          "output_type": "stream",
          "text": [
            "Number of (row and columns): 10 25"
          ],
          "name": "stdout"
        }
      ]
    },
    {
      "cell_type": "markdown",
      "metadata": {
        "id": "1oRyxld9HqJm"
      },
      "source": [
        "# Data Cleaning / Data Wrangling"
      ]
    },
    {
      "cell_type": "markdown",
      "metadata": {
        "id": "sZ_1av1MBcIs"
      },
      "source": [
        "Convert from wide to long"
      ]
    },
    {
      "cell_type": "code",
      "metadata": {
        "id": "vPlju1r8BgHN",
        "colab": {
          "base_uri": "https://localhost:8080/"
        },
        "outputId": "a60792a9-97aa-4d24-e64d-68efde336611"
      },
      "source": [
        "glimpse(ssa_tib)"
      ],
      "execution_count": 8,
      "outputs": [
        {
          "output_type": "stream",
          "text": [
            "Rows: 10\n",
            "Columns: 25\n",
            "$ Fiscal_Year     \u001b[3m\u001b[90m<chr>\u001b[39m\u001b[23m \"FY08\", \"FY09\", \"FY10\", \"FY11\", \"FY12\", \"FY13\", \"FY14\"…\n",
            "$ Oct_Total       \u001b[3m\u001b[90m<dbl>\u001b[39m\u001b[23m 176407, 244781, 286598, 299033, 227456, 224624, 206471…\n",
            "$ Oct_Internet    \u001b[3m\u001b[90m<dbl>\u001b[39m\u001b[23m 15082, 32578, 65533, 92856, 86811, 92542, 98400, 13374…\n",
            "$ Nov_Total       \u001b[3m\u001b[90m<dbl>\u001b[39m\u001b[23m 204287, 181161, 213297, 209553, 200140, 249910, 237621…\n",
            "$ Nov_Internet    \u001b[3m\u001b[90m<dbl>\u001b[39m\u001b[23m 17301, 25620, 50098, 63424, 71175, 107053, 117934, 967…\n",
            "$ Dec_Total       \u001b[3m\u001b[90m<dbl>\u001b[39m\u001b[23m 151687, 176107, 198733, 215239, 254766, 188183, 175607…\n",
            "$ Dec_Internet    \u001b[3m\u001b[90m<dbl>\u001b[39m\u001b[23m 14321, 27174, 44512, 62877, 91424, 79719, 83377, 89619…\n",
            "$ Jan_Total       \u001b[3m\u001b[90m<dbl>\u001b[39m\u001b[23m 162966, 249062, 265665, 264286, 221146, 199588, 240969…\n",
            "$ Jan_Internet    \u001b[3m\u001b[90m<dbl>\u001b[39m\u001b[23m 18391, 57908, 68843, 84944, 85848, 93703, 125320, 1294…\n",
            "$ Feb_Total       \u001b[3m\u001b[90m<dbl>\u001b[39m\u001b[23m 228623, 221368, 225319, 223625, 228519, 219604, 205737…\n",
            "$ Feb_Internet    \u001b[3m\u001b[90m<dbl>\u001b[39m\u001b[23m 26034, 50408, 58465, 71314, 83576, 101878, 108384, 101…\n",
            "$ Mar_Total       \u001b[3m\u001b[90m<dbl>\u001b[39m\u001b[23m 190716, 235360, 243266, 246630, 299267, 285923, 219696…\n",
            "$ Mar_Internet    \u001b[3m\u001b[90m<dbl>\u001b[39m\u001b[23m 21064, 53592, 62198, 77916, 112104, 129415, 114993, 10…\n",
            "$ Apr_Total       \u001b[3m\u001b[90m<dbl>\u001b[39m\u001b[23m 194403, 234304, 298065, 300359, 233685, 224804, 218172…\n",
            "$ Apr_Internet    \u001b[3m\u001b[90m<dbl>\u001b[39m\u001b[23m 22372, 53675, 76573, 94722, 88330, 101619, 112417, 101…\n",
            "$ May_Total       \u001b[3m\u001b[90m<dbl>\u001b[39m\u001b[23m 226549, 281343, 239409, 241673, 239503, 269955, 258726…\n",
            "$ May_Internet    \u001b[3m\u001b[90m<dbl>\u001b[39m\u001b[23m 26337, 65822, 65780, 77603, 93826, 123440, 134714, 122…\n",
            "$ June_Total      \u001b[3m\u001b[90m<dbl>\u001b[39m\u001b[23m 193094, 237329, 231964, 233351, 284136, 223238, 213389…\n",
            "$ June_Internet   \u001b[3m\u001b[90m<dbl>\u001b[39m\u001b[23m 22551, 54285, 67163, 79925, 113613, 104146, 110227, 99…\n",
            "$ July_Total      \u001b[3m\u001b[90m<dbl>\u001b[39m\u001b[23m 181552, 285172, 300442, 292949, 221745, 204072, 198484…\n",
            "$ July_Internet   \u001b[3m\u001b[90m<dbl>\u001b[39m\u001b[23m 22728, 66565, 92957, 105276, 91323, 98326, 106013, 124…\n",
            "$ August_Total    \u001b[3m\u001b[90m<dbl>\u001b[39m\u001b[23m 245429, 240611, 248284, 237555, 298458, 281828, 265979…\n",
            "$ August_Internet \u001b[3m\u001b[90m<dbl>\u001b[39m\u001b[23m 30580, 54915, 75535, 86514, 119795, 135423, 139000, 10…\n",
            "$ Sept_Internet   \u001b[3m\u001b[90m<dbl>\u001b[39m\u001b[23m 24141, 52687, 73403, 103564, 93375, 104270, 107284, 98…\n",
            "$ Sept_Total      \u001b[3m\u001b[90m<dbl>\u001b[39m\u001b[23m 186750, 228692, 238965, 280913, 230648, 214004, 203384…\n"
          ],
          "name": "stdout"
        }
      ]
    },
    {
      "cell_type": "code",
      "metadata": {
        "colab": {
          "base_uri": "https://localhost:8080/",
          "height": 254
        },
        "id": "PVaVVsoTbjC7",
        "outputId": "3c347ae3-fa73-4594-df4b-829cc192eb9f"
      },
      "source": [
        "ssa_tib.long <- gather(ssa_tib, month, applications, -Fiscal_Year)\n",
        "head(ssa_tib.long, 5)"
      ],
      "execution_count": 30,
      "outputs": [
        {
          "output_type": "display_data",
          "data": {
            "text/plain": [
              "  Fiscal_Year month     applications\n",
              "1 FY08        Oct_Total 176407      \n",
              "2 FY09        Oct_Total 244781      \n",
              "3 FY10        Oct_Total 286598      \n",
              "4 FY11        Oct_Total 299033      \n",
              "5 FY12        Oct_Total 227456      "
            ],
            "text/latex": "A tibble: 5 × 3\n\\begin{tabular}{lll}\n Fiscal\\_Year & month & applications\\\\\n <chr> & <chr> & <dbl>\\\\\n\\hline\n\t FY08 & Oct\\_Total & 176407\\\\\n\t FY09 & Oct\\_Total & 244781\\\\\n\t FY10 & Oct\\_Total & 286598\\\\\n\t FY11 & Oct\\_Total & 299033\\\\\n\t FY12 & Oct\\_Total & 227456\\\\\n\\end{tabular}\n",
            "text/markdown": "\nA tibble: 5 × 3\n\n| Fiscal_Year &lt;chr&gt; | month &lt;chr&gt; | applications &lt;dbl&gt; |\n|---|---|---|\n| FY08 | Oct_Total | 176407 |\n| FY09 | Oct_Total | 244781 |\n| FY10 | Oct_Total | 286598 |\n| FY11 | Oct_Total | 299033 |\n| FY12 | Oct_Total | 227456 |\n\n",
            "text/html": [
              "<table class=\"dataframe\">\n",
              "<caption>A tibble: 5 × 3</caption>\n",
              "<thead>\n",
              "\t<tr><th scope=col>Fiscal_Year</th><th scope=col>month</th><th scope=col>applications</th></tr>\n",
              "\t<tr><th scope=col>&lt;chr&gt;</th><th scope=col>&lt;chr&gt;</th><th scope=col>&lt;dbl&gt;</th></tr>\n",
              "</thead>\n",
              "<tbody>\n",
              "\t<tr><td>FY08</td><td>Oct_Total</td><td>176407</td></tr>\n",
              "\t<tr><td>FY09</td><td>Oct_Total</td><td>244781</td></tr>\n",
              "\t<tr><td>FY10</td><td>Oct_Total</td><td>286598</td></tr>\n",
              "\t<tr><td>FY11</td><td>Oct_Total</td><td>299033</td></tr>\n",
              "\t<tr><td>FY12</td><td>Oct_Total</td><td>227456</td></tr>\n",
              "</tbody>\n",
              "</table>\n"
            ]
          },
          "metadata": {
            "tags": []
          }
        }
      ]
    },
    {
      "cell_type": "code",
      "metadata": {
        "colab": {
          "base_uri": "https://localhost:8080/",
          "height": 69
        },
        "id": "qSigmuHVGkI9",
        "outputId": "e0612dc2-3c15-446f-da73-f77db69ad760"
      },
      "source": [
        "unique(ssa_tib.long$month)"
      ],
      "execution_count": 31,
      "outputs": [
        {
          "output_type": "display_data",
          "data": {
            "text/plain": [
              " [1] \"Oct_Total\"       \"Oct_Internet\"    \"Nov_Total\"       \"Nov_Internet\"   \n",
              " [5] \"Dec_Total\"       \"Dec_Internet\"    \"Jan_Total\"       \"Jan_Internet\"   \n",
              " [9] \"Feb_Total\"       \"Feb_Internet\"    \"Mar_Total\"       \"Mar_Internet\"   \n",
              "[13] \"Apr_Total\"       \"Apr_Internet\"    \"May_Total\"       \"May_Internet\"   \n",
              "[17] \"June_Total\"      \"June_Internet\"   \"July_Total\"      \"July_Internet\"  \n",
              "[21] \"August_Total\"    \"August_Internet\" \"Sept_Internet\"   \"Sept_Total\"     "
            ],
            "text/latex": "\\begin{enumerate*}\n\\item 'Oct\\_Total'\n\\item 'Oct\\_Internet'\n\\item 'Nov\\_Total'\n\\item 'Nov\\_Internet'\n\\item 'Dec\\_Total'\n\\item 'Dec\\_Internet'\n\\item 'Jan\\_Total'\n\\item 'Jan\\_Internet'\n\\item 'Feb\\_Total'\n\\item 'Feb\\_Internet'\n\\item 'Mar\\_Total'\n\\item 'Mar\\_Internet'\n\\item 'Apr\\_Total'\n\\item 'Apr\\_Internet'\n\\item 'May\\_Total'\n\\item 'May\\_Internet'\n\\item 'June\\_Total'\n\\item 'June\\_Internet'\n\\item 'July\\_Total'\n\\item 'July\\_Internet'\n\\item 'August\\_Total'\n\\item 'August\\_Internet'\n\\item 'Sept\\_Internet'\n\\item 'Sept\\_Total'\n\\end{enumerate*}\n",
            "text/markdown": "1. 'Oct_Total'\n2. 'Oct_Internet'\n3. 'Nov_Total'\n4. 'Nov_Internet'\n5. 'Dec_Total'\n6. 'Dec_Internet'\n7. 'Jan_Total'\n8. 'Jan_Internet'\n9. 'Feb_Total'\n10. 'Feb_Internet'\n11. 'Mar_Total'\n12. 'Mar_Internet'\n13. 'Apr_Total'\n14. 'Apr_Internet'\n15. 'May_Total'\n16. 'May_Internet'\n17. 'June_Total'\n18. 'June_Internet'\n19. 'July_Total'\n20. 'July_Internet'\n21. 'August_Total'\n22. 'August_Internet'\n23. 'Sept_Internet'\n24. 'Sept_Total'\n\n\n",
            "text/html": [
              "<style>\n",
              ".list-inline {list-style: none; margin:0; padding: 0}\n",
              ".list-inline>li {display: inline-block}\n",
              ".list-inline>li:not(:last-child)::after {content: \"\\00b7\"; padding: 0 .5ex}\n",
              "</style>\n",
              "<ol class=list-inline><li>'Oct_Total'</li><li>'Oct_Internet'</li><li>'Nov_Total'</li><li>'Nov_Internet'</li><li>'Dec_Total'</li><li>'Dec_Internet'</li><li>'Jan_Total'</li><li>'Jan_Internet'</li><li>'Feb_Total'</li><li>'Feb_Internet'</li><li>'Mar_Total'</li><li>'Mar_Internet'</li><li>'Apr_Total'</li><li>'Apr_Internet'</li><li>'May_Total'</li><li>'May_Internet'</li><li>'June_Total'</li><li>'June_Internet'</li><li>'July_Total'</li><li>'July_Internet'</li><li>'August_Total'</li><li>'August_Internet'</li><li>'Sept_Internet'</li><li>'Sept_Total'</li></ol>\n"
            ]
          },
          "metadata": {
            "tags": []
          }
        }
      ]
    },
    {
      "cell_type": "code",
      "metadata": {
        "colab": {
          "base_uri": "https://localhost:8080/",
          "height": 285
        },
        "id": "GTaeKROwHAqP",
        "outputId": "faf91e8e-92de-4b5c-bebc-e6af7a9cea72"
      },
      "source": [
        "# Separate a column\n",
        "ssa_tib.long <- separate(ssa_tib.long, month, c(\"month\", \"method\"), sep = \"_\")\n",
        "head(ssa_tib.long)"
      ],
      "execution_count": 32,
      "outputs": [
        {
          "output_type": "display_data",
          "data": {
            "text/plain": [
              "  Fiscal_Year month method applications\n",
              "1 FY08        Oct   Total  176407      \n",
              "2 FY09        Oct   Total  244781      \n",
              "3 FY10        Oct   Total  286598      \n",
              "4 FY11        Oct   Total  299033      \n",
              "5 FY12        Oct   Total  227456      \n",
              "6 FY13        Oct   Total  224624      "
            ],
            "text/latex": "A tibble: 6 × 4\n\\begin{tabular}{llll}\n Fiscal\\_Year & month & method & applications\\\\\n <chr> & <chr> & <chr> & <dbl>\\\\\n\\hline\n\t FY08 & Oct & Total & 176407\\\\\n\t FY09 & Oct & Total & 244781\\\\\n\t FY10 & Oct & Total & 286598\\\\\n\t FY11 & Oct & Total & 299033\\\\\n\t FY12 & Oct & Total & 227456\\\\\n\t FY13 & Oct & Total & 224624\\\\\n\\end{tabular}\n",
            "text/markdown": "\nA tibble: 6 × 4\n\n| Fiscal_Year &lt;chr&gt; | month &lt;chr&gt; | method &lt;chr&gt; | applications &lt;dbl&gt; |\n|---|---|---|---|\n| FY08 | Oct | Total | 176407 |\n| FY09 | Oct | Total | 244781 |\n| FY10 | Oct | Total | 286598 |\n| FY11 | Oct | Total | 299033 |\n| FY12 | Oct | Total | 227456 |\n| FY13 | Oct | Total | 224624 |\n\n",
            "text/html": [
              "<table class=\"dataframe\">\n",
              "<caption>A tibble: 6 × 4</caption>\n",
              "<thead>\n",
              "\t<tr><th scope=col>Fiscal_Year</th><th scope=col>month</th><th scope=col>method</th><th scope=col>applications</th></tr>\n",
              "\t<tr><th scope=col>&lt;chr&gt;</th><th scope=col>&lt;chr&gt;</th><th scope=col>&lt;chr&gt;</th><th scope=col>&lt;dbl&gt;</th></tr>\n",
              "</thead>\n",
              "<tbody>\n",
              "\t<tr><td>FY08</td><td>Oct</td><td>Total</td><td>176407</td></tr>\n",
              "\t<tr><td>FY09</td><td>Oct</td><td>Total</td><td>244781</td></tr>\n",
              "\t<tr><td>FY10</td><td>Oct</td><td>Total</td><td>286598</td></tr>\n",
              "\t<tr><td>FY11</td><td>Oct</td><td>Total</td><td>299033</td></tr>\n",
              "\t<tr><td>FY12</td><td>Oct</td><td>Total</td><td>227456</td></tr>\n",
              "\t<tr><td>FY13</td><td>Oct</td><td>Total</td><td>224624</td></tr>\n",
              "</tbody>\n",
              "</table>\n"
            ]
          },
          "metadata": {
            "tags": []
          }
        }
      ]
    },
    {
      "cell_type": "code",
      "metadata": {
        "colab": {
          "base_uri": "https://localhost:8080/",
          "height": 35
        },
        "id": "v6DlWB0nPE_G",
        "outputId": "2688be25-e3e6-472d-a99c-8ff430c3e250"
      },
      "source": [
        "unique(ssa_tib.long$month)"
      ],
      "execution_count": 33,
      "outputs": [
        {
          "output_type": "display_data",
          "data": {
            "text/plain": [
              " [1] \"Oct\"    \"Nov\"    \"Dec\"    \"Jan\"    \"Feb\"    \"Mar\"    \"Apr\"    \"May\"   \n",
              " [9] \"June\"   \"July\"   \"August\" \"Sept\"  "
            ],
            "text/latex": "\\begin{enumerate*}\n\\item 'Oct'\n\\item 'Nov'\n\\item 'Dec'\n\\item 'Jan'\n\\item 'Feb'\n\\item 'Mar'\n\\item 'Apr'\n\\item 'May'\n\\item 'June'\n\\item 'July'\n\\item 'August'\n\\item 'Sept'\n\\end{enumerate*}\n",
            "text/markdown": "1. 'Oct'\n2. 'Nov'\n3. 'Dec'\n4. 'Jan'\n5. 'Feb'\n6. 'Mar'\n7. 'Apr'\n8. 'May'\n9. 'June'\n10. 'July'\n11. 'August'\n12. 'Sept'\n\n\n",
            "text/html": [
              "<style>\n",
              ".list-inline {list-style: none; margin:0; padding: 0}\n",
              ".list-inline>li {display: inline-block}\n",
              ".list-inline>li:not(:last-child)::after {content: \"\\00b7\"; padding: 0 .5ex}\n",
              "</style>\n",
              "<ol class=list-inline><li>'Oct'</li><li>'Nov'</li><li>'Dec'</li><li>'Jan'</li><li>'Feb'</li><li>'Mar'</li><li>'Apr'</li><li>'May'</li><li>'June'</li><li>'July'</li><li>'August'</li><li>'Sept'</li></ol>\n"
            ]
          },
          "metadata": {
            "tags": []
          }
        }
      ]
    },
    {
      "cell_type": "code",
      "metadata": {
        "id": "bjgMBKBEPa4w"
      },
      "source": [
        "# Trim month string to 03 characters\n",
        "ssa_tib.long$month <- substr(ssa_tib.long$month, 1, 3)"
      ],
      "execution_count": 34,
      "outputs": []
    },
    {
      "cell_type": "code",
      "metadata": {
        "colab": {
          "base_uri": "https://localhost:8080/",
          "height": 35
        },
        "id": "K_fxeirlPwB5",
        "outputId": "a4b3b89c-8839-48df-b55e-730848b8e7d6"
      },
      "source": [
        "unique(ssa_tib.long$month)"
      ],
      "execution_count": 35,
      "outputs": [
        {
          "output_type": "display_data",
          "data": {
            "text/plain": [
              " [1] \"Oct\" \"Nov\" \"Dec\" \"Jan\" \"Feb\" \"Mar\" \"Apr\" \"May\" \"Jun\" \"Jul\" \"Aug\" \"Sep\""
            ],
            "text/latex": "\\begin{enumerate*}\n\\item 'Oct'\n\\item 'Nov'\n\\item 'Dec'\n\\item 'Jan'\n\\item 'Feb'\n\\item 'Mar'\n\\item 'Apr'\n\\item 'May'\n\\item 'Jun'\n\\item 'Jul'\n\\item 'Aug'\n\\item 'Sep'\n\\end{enumerate*}\n",
            "text/markdown": "1. 'Oct'\n2. 'Nov'\n3. 'Dec'\n4. 'Jan'\n5. 'Feb'\n6. 'Mar'\n7. 'Apr'\n8. 'May'\n9. 'Jun'\n10. 'Jul'\n11. 'Aug'\n12. 'Sep'\n\n\n",
            "text/html": [
              "<style>\n",
              ".list-inline {list-style: none; margin:0; padding: 0}\n",
              ".list-inline>li {display: inline-block}\n",
              ".list-inline>li:not(:last-child)::after {content: \"\\00b7\"; padding: 0 .5ex}\n",
              "</style>\n",
              "<ol class=list-inline><li>'Oct'</li><li>'Nov'</li><li>'Dec'</li><li>'Jan'</li><li>'Feb'</li><li>'Mar'</li><li>'Apr'</li><li>'May'</li><li>'Jun'</li><li>'Jul'</li><li>'Aug'</li><li>'Sep'</li></ol>\n"
            ]
          },
          "metadata": {
            "tags": []
          }
        }
      ]
    },
    {
      "cell_type": "code",
      "metadata": {
        "colab": {
          "base_uri": "https://localhost:8080/",
          "height": 35
        },
        "id": "trBo4gRnQNh1",
        "outputId": "f5321aea-d701-4693-da5a-f17f04fd5f90"
      },
      "source": [
        "unique(ssa_tib.long$Fiscal_Year)"
      ],
      "execution_count": 36,
      "outputs": [
        {
          "output_type": "display_data",
          "data": {
            "text/plain": [
              " [1] \"FY08\" \"FY09\" \"FY10\" \"FY11\" \"FY12\" \"FY13\" \"FY14\" \"FY15\" \"FY16\" \"FY17\""
            ],
            "text/latex": "\\begin{enumerate*}\n\\item 'FY08'\n\\item 'FY09'\n\\item 'FY10'\n\\item 'FY11'\n\\item 'FY12'\n\\item 'FY13'\n\\item 'FY14'\n\\item 'FY15'\n\\item 'FY16'\n\\item 'FY17'\n\\end{enumerate*}\n",
            "text/markdown": "1. 'FY08'\n2. 'FY09'\n3. 'FY10'\n4. 'FY11'\n5. 'FY12'\n6. 'FY13'\n7. 'FY14'\n8. 'FY15'\n9. 'FY16'\n10. 'FY17'\n\n\n",
            "text/html": [
              "<style>\n",
              ".list-inline {list-style: none; margin:0; padding: 0}\n",
              ".list-inline>li {display: inline-block}\n",
              ".list-inline>li:not(:last-child)::after {content: \"\\00b7\"; padding: 0 .5ex}\n",
              "</style>\n",
              "<ol class=list-inline><li>'FY08'</li><li>'FY09'</li><li>'FY10'</li><li>'FY11'</li><li>'FY12'</li><li>'FY13'</li><li>'FY14'</li><li>'FY15'</li><li>'FY16'</li><li>'FY17'</li></ol>\n"
            ]
          },
          "metadata": {
            "tags": []
          }
        }
      ]
    },
    {
      "cell_type": "code",
      "metadata": {
        "id": "lyAimSVvQUYu"
      },
      "source": [
        "# To real year\n",
        "ssa_tib.long$Fiscal_Year <- str_replace(ssa_tib.long$Fiscal_Year, \"FY\", \"20\")"
      ],
      "execution_count": 37,
      "outputs": []
    },
    {
      "cell_type": "code",
      "metadata": {
        "colab": {
          "base_uri": "https://localhost:8080/",
          "height": 35
        },
        "id": "M_s3cKDBhe6X",
        "outputId": "805d8ce7-9a58-47c7-de36-18530fce4fad"
      },
      "source": [
        "unique(ssa_tib.long$Fiscal_Year)"
      ],
      "execution_count": 38,
      "outputs": [
        {
          "output_type": "display_data",
          "data": {
            "text/plain": [
              " [1] \"2008\" \"2009\" \"2010\" \"2011\" \"2012\" \"2013\" \"2014\" \"2015\" \"2016\" \"2017\""
            ],
            "text/latex": "\\begin{enumerate*}\n\\item '2008'\n\\item '2009'\n\\item '2010'\n\\item '2011'\n\\item '2012'\n\\item '2013'\n\\item '2014'\n\\item '2015'\n\\item '2016'\n\\item '2017'\n\\end{enumerate*}\n",
            "text/markdown": "1. '2008'\n2. '2009'\n3. '2010'\n4. '2011'\n5. '2012'\n6. '2013'\n7. '2014'\n8. '2015'\n9. '2016'\n10. '2017'\n\n\n",
            "text/html": [
              "<style>\n",
              ".list-inline {list-style: none; margin:0; padding: 0}\n",
              ".list-inline>li {display: inline-block}\n",
              ".list-inline>li:not(:last-child)::after {content: \"\\00b7\"; padding: 0 .5ex}\n",
              "</style>\n",
              "<ol class=list-inline><li>'2008'</li><li>'2009'</li><li>'2010'</li><li>'2011'</li><li>'2012'</li><li>'2013'</li><li>'2014'</li><li>'2015'</li><li>'2016'</li><li>'2017'</li></ol>\n"
            ]
          },
          "metadata": {
            "tags": []
          }
        }
      ]
    },
    {
      "cell_type": "code",
      "metadata": {
        "id": "UdSBIRp_Qh5G"
      },
      "source": [
        "ssa_tib.long$Date <- dmy(paste(\"01\", ssa_tib.long$month, ssa_tib.long$Fiscal_Year))"
      ],
      "execution_count": 46,
      "outputs": []
    },
    {
      "cell_type": "code",
      "metadata": {
        "colab": {
          "base_uri": "https://localhost:8080/",
          "height": 308
        },
        "id": "z4mrl7L1Q5xp",
        "outputId": "0b899913-6684-4a3b-94e5-d782fb928816"
      },
      "source": [
        "summary(ssa_tib.long)"
      ],
      "execution_count": 47,
      "outputs": [
        {
          "output_type": "display_data",
          "data": {
            "text/plain": [
              " Fiscal_Year           month              method           applications   \n",
              " Length:240         Length:240         Length:240         Min.   : 14321  \n",
              " Class :character   Class :character   Class :character   1st Qu.: 91399  \n",
              " Mode  :character   Mode  :character   Mode  :character   Median :145344  \n",
              "                                                          Mean   :154322  \n",
              "                                                          3rd Qu.:224669  \n",
              "                                                          Max.   :300442  \n",
              "                                                          NA's   :16      \n",
              "      Date           \n",
              " Min.   :2008-01-01  \n",
              " 1st Qu.:2010-06-23  \n",
              " Median :2012-12-16  \n",
              " Mean   :2012-12-15  \n",
              " 3rd Qu.:2015-06-08  \n",
              " Max.   :2017-12-01  \n",
              "                     "
            ]
          },
          "metadata": {
            "tags": []
          }
        }
      ]
    },
    {
      "cell_type": "code",
      "metadata": {
        "id": "wvTc5rvLRGkT",
        "colab": {
          "base_uri": "https://localhost:8080/",
          "height": 285
        },
        "outputId": "18120692-3463-464a-f242-6ef5a176ac47"
      },
      "source": [
        "head(ssa_tib.long)"
      ],
      "execution_count": 48,
      "outputs": [
        {
          "output_type": "display_data",
          "data": {
            "text/plain": [
              "  Fiscal_Year month method applications Date      \n",
              "1 2008        Oct   Total  176407       2008-10-01\n",
              "2 2009        Oct   Total  244781       2009-10-01\n",
              "3 2010        Oct   Total  286598       2010-10-01\n",
              "4 2011        Oct   Total  299033       2011-10-01\n",
              "5 2012        Oct   Total  227456       2012-10-01\n",
              "6 2013        Oct   Total  224624       2013-10-01"
            ],
            "text/latex": "A tibble: 6 × 5\n\\begin{tabular}{lllll}\n Fiscal\\_Year & month & method & applications & Date\\\\\n <chr> & <chr> & <chr> & <dbl> & <date>\\\\\n\\hline\n\t 2008 & Oct & Total & 176407 & 2008-10-01\\\\\n\t 2009 & Oct & Total & 244781 & 2009-10-01\\\\\n\t 2010 & Oct & Total & 286598 & 2010-10-01\\\\\n\t 2011 & Oct & Total & 299033 & 2011-10-01\\\\\n\t 2012 & Oct & Total & 227456 & 2012-10-01\\\\\n\t 2013 & Oct & Total & 224624 & 2013-10-01\\\\\n\\end{tabular}\n",
            "text/markdown": "\nA tibble: 6 × 5\n\n| Fiscal_Year &lt;chr&gt; | month &lt;chr&gt; | method &lt;chr&gt; | applications &lt;dbl&gt; | Date &lt;date&gt; |\n|---|---|---|---|---|\n| 2008 | Oct | Total | 176407 | 2008-10-01 |\n| 2009 | Oct | Total | 244781 | 2009-10-01 |\n| 2010 | Oct | Total | 286598 | 2010-10-01 |\n| 2011 | Oct | Total | 299033 | 2011-10-01 |\n| 2012 | Oct | Total | 227456 | 2012-10-01 |\n| 2013 | Oct | Total | 224624 | 2013-10-01 |\n\n",
            "text/html": [
              "<table class=\"dataframe\">\n",
              "<caption>A tibble: 6 × 5</caption>\n",
              "<thead>\n",
              "\t<tr><th scope=col>Fiscal_Year</th><th scope=col>month</th><th scope=col>method</th><th scope=col>applications</th><th scope=col>Date</th></tr>\n",
              "\t<tr><th scope=col>&lt;chr&gt;</th><th scope=col>&lt;chr&gt;</th><th scope=col>&lt;chr&gt;</th><th scope=col>&lt;dbl&gt;</th><th scope=col>&lt;date&gt;</th></tr>\n",
              "</thead>\n",
              "<tbody>\n",
              "\t<tr><td>2008</td><td>Oct</td><td>Total</td><td>176407</td><td>2008-10-01</td></tr>\n",
              "\t<tr><td>2009</td><td>Oct</td><td>Total</td><td>244781</td><td>2009-10-01</td></tr>\n",
              "\t<tr><td>2010</td><td>Oct</td><td>Total</td><td>286598</td><td>2010-10-01</td></tr>\n",
              "\t<tr><td>2011</td><td>Oct</td><td>Total</td><td>299033</td><td>2011-10-01</td></tr>\n",
              "\t<tr><td>2012</td><td>Oct</td><td>Total</td><td>227456</td><td>2012-10-01</td></tr>\n",
              "\t<tr><td>2013</td><td>Oct</td><td>Total</td><td>224624</td><td>2013-10-01</td></tr>\n",
              "</tbody>\n",
              "</table>\n"
            ]
          },
          "metadata": {
            "tags": []
          }
        }
      ]
    },
    {
      "cell_type": "code",
      "metadata": {
        "colab": {
          "base_uri": "https://localhost:8080/",
          "height": 52
        },
        "id": "011s0ezkRrjA",
        "outputId": "23199744-857a-4f9a-f63a-e3fde240d6c0"
      },
      "source": [
        "# Account for the difference between Calendar Year and Fiscal Year\n",
        "advanced_date_id <- which( month(ssa_tib.long$Date) >= 10 )\n",
        "advanced_date_id"
      ],
      "execution_count": 50,
      "outputs": [
        {
          "output_type": "display_data",
          "data": {
            "text/plain": [
              " [1]  1  2  3  4  5  6  7  8  9 10 11 12 13 14 15 16 17 18 19 20 21 22 23 24 25\n",
              "[26] 26 27 28 29 30 31 32 33 34 35 36 37 38 39 40 41 42 43 44 45 46 47 48 49 50\n",
              "[51] 51 52 53 54 55 56 57 58 59 60"
            ],
            "text/latex": "\\begin{enumerate*}\n\\item 1\n\\item 2\n\\item 3\n\\item 4\n\\item 5\n\\item 6\n\\item 7\n\\item 8\n\\item 9\n\\item 10\n\\item 11\n\\item 12\n\\item 13\n\\item 14\n\\item 15\n\\item 16\n\\item 17\n\\item 18\n\\item 19\n\\item 20\n\\item 21\n\\item 22\n\\item 23\n\\item 24\n\\item 25\n\\item 26\n\\item 27\n\\item 28\n\\item 29\n\\item 30\n\\item 31\n\\item 32\n\\item 33\n\\item 34\n\\item 35\n\\item 36\n\\item 37\n\\item 38\n\\item 39\n\\item 40\n\\item 41\n\\item 42\n\\item 43\n\\item 44\n\\item 45\n\\item 46\n\\item 47\n\\item 48\n\\item 49\n\\item 50\n\\item 51\n\\item 52\n\\item 53\n\\item 54\n\\item 55\n\\item 56\n\\item 57\n\\item 58\n\\item 59\n\\item 60\n\\end{enumerate*}\n",
            "text/markdown": "1. 1\n2. 2\n3. 3\n4. 4\n5. 5\n6. 6\n7. 7\n8. 8\n9. 9\n10. 10\n11. 11\n12. 12\n13. 13\n14. 14\n15. 15\n16. 16\n17. 17\n18. 18\n19. 19\n20. 20\n21. 21\n22. 22\n23. 23\n24. 24\n25. 25\n26. 26\n27. 27\n28. 28\n29. 29\n30. 30\n31. 31\n32. 32\n33. 33\n34. 34\n35. 35\n36. 36\n37. 37\n38. 38\n39. 39\n40. 40\n41. 41\n42. 42\n43. 43\n44. 44\n45. 45\n46. 46\n47. 47\n48. 48\n49. 49\n50. 50\n51. 51\n52. 52\n53. 53\n54. 54\n55. 55\n56. 56\n57. 57\n58. 58\n59. 59\n60. 60\n\n\n",
            "text/html": [
              "<style>\n",
              ".list-inline {list-style: none; margin:0; padding: 0}\n",
              ".list-inline>li {display: inline-block}\n",
              ".list-inline>li:not(:last-child)::after {content: \"\\00b7\"; padding: 0 .5ex}\n",
              "</style>\n",
              "<ol class=list-inline><li>1</li><li>2</li><li>3</li><li>4</li><li>5</li><li>6</li><li>7</li><li>8</li><li>9</li><li>10</li><li>11</li><li>12</li><li>13</li><li>14</li><li>15</li><li>16</li><li>17</li><li>18</li><li>19</li><li>20</li><li>21</li><li>22</li><li>23</li><li>24</li><li>25</li><li>26</li><li>27</li><li>28</li><li>29</li><li>30</li><li>31</li><li>32</li><li>33</li><li>34</li><li>35</li><li>36</li><li>37</li><li>38</li><li>39</li><li>40</li><li>41</li><li>42</li><li>43</li><li>44</li><li>45</li><li>46</li><li>47</li><li>48</li><li>49</li><li>50</li><li>51</li><li>52</li><li>53</li><li>54</li><li>55</li><li>56</li><li>57</li><li>58</li><li>59</li><li>60</li></ol>\n"
            ]
          },
          "metadata": {
            "tags": []
          }
        }
      ]
    },
    {
      "cell_type": "code",
      "metadata": {
        "id": "nXdRdFQrR7a_"
      },
      "source": [
        "# To calendar year\n",
        "year(ssa_tib.long$Date[advanced_date_id]) <- year( ssa_tib.long$Date[advanced_date_id] ) - 1"
      ],
      "execution_count": 56,
      "outputs": []
    },
    {
      "cell_type": "code",
      "metadata": {
        "colab": {
          "base_uri": "https://localhost:8080/",
          "height": 285
        },
        "id": "K5ZoMD_BSVVT",
        "outputId": "5653d231-6425-4706-9333-f8e220b7b1af"
      },
      "source": [
        "head(ssa_tib.long)"
      ],
      "execution_count": 57,
      "outputs": [
        {
          "output_type": "display_data",
          "data": {
            "text/plain": [
              "  Fiscal_Year month method applications Date      \n",
              "1 2008        Oct   Total  176407       2007-10-01\n",
              "2 2009        Oct   Total  244781       2008-10-01\n",
              "3 2010        Oct   Total  286598       2009-10-01\n",
              "4 2011        Oct   Total  299033       2010-10-01\n",
              "5 2012        Oct   Total  227456       2011-10-01\n",
              "6 2013        Oct   Total  224624       2012-10-01"
            ],
            "text/latex": "A tibble: 6 × 5\n\\begin{tabular}{lllll}\n Fiscal\\_Year & month & method & applications & Date\\\\\n <chr> & <chr> & <chr> & <dbl> & <date>\\\\\n\\hline\n\t 2008 & Oct & Total & 176407 & 2007-10-01\\\\\n\t 2009 & Oct & Total & 244781 & 2008-10-01\\\\\n\t 2010 & Oct & Total & 286598 & 2009-10-01\\\\\n\t 2011 & Oct & Total & 299033 & 2010-10-01\\\\\n\t 2012 & Oct & Total & 227456 & 2011-10-01\\\\\n\t 2013 & Oct & Total & 224624 & 2012-10-01\\\\\n\\end{tabular}\n",
            "text/markdown": "\nA tibble: 6 × 5\n\n| Fiscal_Year &lt;chr&gt; | month &lt;chr&gt; | method &lt;chr&gt; | applications &lt;dbl&gt; | Date &lt;date&gt; |\n|---|---|---|---|---|\n| 2008 | Oct | Total | 176407 | 2007-10-01 |\n| 2009 | Oct | Total | 244781 | 2008-10-01 |\n| 2010 | Oct | Total | 286598 | 2009-10-01 |\n| 2011 | Oct | Total | 299033 | 2010-10-01 |\n| 2012 | Oct | Total | 227456 | 2011-10-01 |\n| 2013 | Oct | Total | 224624 | 2012-10-01 |\n\n",
            "text/html": [
              "<table class=\"dataframe\">\n",
              "<caption>A tibble: 6 × 5</caption>\n",
              "<thead>\n",
              "\t<tr><th scope=col>Fiscal_Year</th><th scope=col>month</th><th scope=col>method</th><th scope=col>applications</th><th scope=col>Date</th></tr>\n",
              "\t<tr><th scope=col>&lt;chr&gt;</th><th scope=col>&lt;chr&gt;</th><th scope=col>&lt;chr&gt;</th><th scope=col>&lt;dbl&gt;</th><th scope=col>&lt;date&gt;</th></tr>\n",
              "</thead>\n",
              "<tbody>\n",
              "\t<tr><td>2008</td><td>Oct</td><td>Total</td><td>176407</td><td>2007-10-01</td></tr>\n",
              "\t<tr><td>2009</td><td>Oct</td><td>Total</td><td>244781</td><td>2008-10-01</td></tr>\n",
              "\t<tr><td>2010</td><td>Oct</td><td>Total</td><td>286598</td><td>2009-10-01</td></tr>\n",
              "\t<tr><td>2011</td><td>Oct</td><td>Total</td><td>299033</td><td>2010-10-01</td></tr>\n",
              "\t<tr><td>2012</td><td>Oct</td><td>Total</td><td>227456</td><td>2011-10-01</td></tr>\n",
              "\t<tr><td>2013</td><td>Oct</td><td>Total</td><td>224624</td><td>2012-10-01</td></tr>\n",
              "</tbody>\n",
              "</table>\n"
            ]
          },
          "metadata": {
            "tags": []
          }
        }
      ]
    },
    {
      "cell_type": "code",
      "metadata": {
        "id": "QP4sp7sBSxFf"
      },
      "source": [
        "# Remove redundant columns\n",
        "ssa_tib.long$Fiscal_Year <- NULL\n",
        "ssa_tib.long$month <- NULL"
      ],
      "execution_count": 58,
      "outputs": []
    },
    {
      "cell_type": "code",
      "metadata": {
        "colab": {
          "base_uri": "https://localhost:8080/",
          "height": 285
        },
        "id": "olT4NP9eS_TS",
        "outputId": "acced0e0-25ce-4889-b7e6-c9263c833a4f"
      },
      "source": [
        "head(ssa_tib.long)"
      ],
      "execution_count": 59,
      "outputs": [
        {
          "output_type": "display_data",
          "data": {
            "text/plain": [
              "  method applications Date      \n",
              "1 Total  176407       2007-10-01\n",
              "2 Total  244781       2008-10-01\n",
              "3 Total  286598       2009-10-01\n",
              "4 Total  299033       2010-10-01\n",
              "5 Total  227456       2011-10-01\n",
              "6 Total  224624       2012-10-01"
            ],
            "text/latex": "A tibble: 6 × 3\n\\begin{tabular}{lll}\n method & applications & Date\\\\\n <chr> & <dbl> & <date>\\\\\n\\hline\n\t Total & 176407 & 2007-10-01\\\\\n\t Total & 244781 & 2008-10-01\\\\\n\t Total & 286598 & 2009-10-01\\\\\n\t Total & 299033 & 2010-10-01\\\\\n\t Total & 227456 & 2011-10-01\\\\\n\t Total & 224624 & 2012-10-01\\\\\n\\end{tabular}\n",
            "text/markdown": "\nA tibble: 6 × 3\n\n| method &lt;chr&gt; | applications &lt;dbl&gt; | Date &lt;date&gt; |\n|---|---|---|\n| Total | 176407 | 2007-10-01 |\n| Total | 244781 | 2008-10-01 |\n| Total | 286598 | 2009-10-01 |\n| Total | 299033 | 2010-10-01 |\n| Total | 227456 | 2011-10-01 |\n| Total | 224624 | 2012-10-01 |\n\n",
            "text/html": [
              "<table class=\"dataframe\">\n",
              "<caption>A tibble: 6 × 3</caption>\n",
              "<thead>\n",
              "\t<tr><th scope=col>method</th><th scope=col>applications</th><th scope=col>Date</th></tr>\n",
              "\t<tr><th scope=col>&lt;chr&gt;</th><th scope=col>&lt;dbl&gt;</th><th scope=col>&lt;date&gt;</th></tr>\n",
              "</thead>\n",
              "<tbody>\n",
              "\t<tr><td>Total</td><td>176407</td><td>2007-10-01</td></tr>\n",
              "\t<tr><td>Total</td><td>244781</td><td>2008-10-01</td></tr>\n",
              "\t<tr><td>Total</td><td>286598</td><td>2009-10-01</td></tr>\n",
              "\t<tr><td>Total</td><td>299033</td><td>2010-10-01</td></tr>\n",
              "\t<tr><td>Total</td><td>227456</td><td>2011-10-01</td></tr>\n",
              "\t<tr><td>Total</td><td>224624</td><td>2012-10-01</td></tr>\n",
              "</tbody>\n",
              "</table>\n"
            ]
          },
          "metadata": {
            "tags": []
          }
        }
      ]
    },
    {
      "cell_type": "code",
      "metadata": {
        "id": "_Ur6Y1RmTNwv"
      },
      "source": [
        "# Convert method to factor\n",
        "ssa_tib.long$method <- as.factor(ssa_tib.long$method)"
      ],
      "execution_count": 60,
      "outputs": []
    },
    {
      "cell_type": "code",
      "metadata": {
        "colab": {
          "base_uri": "https://localhost:8080/",
          "height": 163
        },
        "id": "vYJrnkK3TgOS",
        "outputId": "5b52d8b1-6288-40e3-8fa8-476d74c9b40a"
      },
      "source": [
        "summary(ssa_tib.long)"
      ],
      "execution_count": 62,
      "outputs": [
        {
          "output_type": "display_data",
          "data": {
            "text/plain": [
              "      method     applications         Date           \n",
              " Internet:120   Min.   : 14321   Min.   :2007-10-01  \n",
              " Total   :120   1st Qu.: 91399   1st Qu.:2010-03-24  \n",
              "                Median :145344   Median :2012-09-16  \n",
              "                Mean   :154322   Mean   :2012-09-15  \n",
              "                3rd Qu.:224669   3rd Qu.:2015-03-08  \n",
              "                Max.   :300442   Max.   :2017-09-01  \n",
              "                NA's   :16                           "
            ]
          },
          "metadata": {
            "tags": []
          }
        }
      ]
    },
    {
      "cell_type": "code",
      "metadata": {
        "colab": {
          "base_uri": "https://localhost:8080/",
          "height": 285
        },
        "id": "8ATA3WxRVg-t",
        "outputId": "a148e097-3a8b-4067-a8ed-fe2f92f48dca"
      },
      "source": [
        "ssa <- ssa_tib.long %>% spread(method, applications)\n",
        "head(ssa)"
      ],
      "execution_count": 64,
      "outputs": [
        {
          "output_type": "display_data",
          "data": {
            "text/plain": [
              "  Date       Internet Total \n",
              "1 2007-10-01 15082    176407\n",
              "2 2007-11-01 17301    204287\n",
              "3 2007-12-01 14321    151687\n",
              "4 2008-01-01 18391    162966\n",
              "5 2008-02-01 26034    228623\n",
              "6 2008-03-01 21064    190716"
            ],
            "text/latex": "A tibble: 6 × 3\n\\begin{tabular}{lll}\n Date & Internet & Total\\\\\n <date> & <dbl> & <dbl>\\\\\n\\hline\n\t 2007-10-01 & 15082 & 176407\\\\\n\t 2007-11-01 & 17301 & 204287\\\\\n\t 2007-12-01 & 14321 & 151687\\\\\n\t 2008-01-01 & 18391 & 162966\\\\\n\t 2008-02-01 & 26034 & 228623\\\\\n\t 2008-03-01 & 21064 & 190716\\\\\n\\end{tabular}\n",
            "text/markdown": "\nA tibble: 6 × 3\n\n| Date &lt;date&gt; | Internet &lt;dbl&gt; | Total &lt;dbl&gt; |\n|---|---|---|\n| 2007-10-01 | 15082 | 176407 |\n| 2007-11-01 | 17301 | 204287 |\n| 2007-12-01 | 14321 | 151687 |\n| 2008-01-01 | 18391 | 162966 |\n| 2008-02-01 | 26034 | 228623 |\n| 2008-03-01 | 21064 | 190716 |\n\n",
            "text/html": [
              "<table class=\"dataframe\">\n",
              "<caption>A tibble: 6 × 3</caption>\n",
              "<thead>\n",
              "\t<tr><th scope=col>Date</th><th scope=col>Internet</th><th scope=col>Total</th></tr>\n",
              "\t<tr><th scope=col>&lt;date&gt;</th><th scope=col>&lt;dbl&gt;</th><th scope=col>&lt;dbl&gt;</th></tr>\n",
              "</thead>\n",
              "<tbody>\n",
              "\t<tr><td>2007-10-01</td><td>15082</td><td>176407</td></tr>\n",
              "\t<tr><td>2007-11-01</td><td>17301</td><td>204287</td></tr>\n",
              "\t<tr><td>2007-12-01</td><td>14321</td><td>151687</td></tr>\n",
              "\t<tr><td>2008-01-01</td><td>18391</td><td>162966</td></tr>\n",
              "\t<tr><td>2008-02-01</td><td>26034</td><td>228623</td></tr>\n",
              "\t<tr><td>2008-03-01</td><td>21064</td><td>190716</td></tr>\n",
              "</tbody>\n",
              "</table>\n"
            ]
          },
          "metadata": {
            "tags": []
          }
        }
      ]
    },
    {
      "cell_type": "markdown",
      "metadata": {
        "id": "2J0qyRFHWamW"
      },
      "source": [
        "# Vizualization"
      ]
    },
    {
      "cell_type": "markdown",
      "metadata": {
        "id": "rykMsjj6wQCw"
      },
      "source": [
        "Question: Have the effort by Social Security Disability to move applications online been successful?\n",
        "\n",
        "Internet application = online application"
      ]
    },
    {
      "cell_type": "code",
      "metadata": {
        "id": "BCQQk8SVwO9D"
      },
      "source": [
        "ssa$online_percentage <- round(100*ssa$Internet / ssa$Total, 3)"
      ],
      "execution_count": 69,
      "outputs": []
    },
    {
      "cell_type": "code",
      "metadata": {
        "colab": {
          "base_uri": "https://localhost:8080/"
        },
        "id": "3uZyYqMgxRad",
        "outputId": "590c507f-81b5-4706-8fda-c18ed6d78e48"
      },
      "source": [
        "print(ssa, n=5)"
      ],
      "execution_count": 70,
      "outputs": [
        {
          "output_type": "stream",
          "text": [
            "\u001b[90m# A tibble: 120 x 4\u001b[39m\n",
            "  Date       Internet  Total online_percentage\n",
            "  \u001b[3m\u001b[90m<date>\u001b[39m\u001b[23m        \u001b[3m\u001b[90m<dbl>\u001b[39m\u001b[23m  \u001b[3m\u001b[90m<dbl>\u001b[39m\u001b[23m             \u001b[3m\u001b[90m<dbl>\u001b[39m\u001b[23m\n",
            "\u001b[90m1\u001b[39m 2007-10-01    \u001b[4m1\u001b[24m\u001b[4m5\u001b[24m082 \u001b[4m1\u001b[24m\u001b[4m7\u001b[24m\u001b[4m6\u001b[24m407              8.55\n",
            "\u001b[90m2\u001b[39m 2007-11-01    \u001b[4m1\u001b[24m\u001b[4m7\u001b[24m301 \u001b[4m2\u001b[24m\u001b[4m0\u001b[24m\u001b[4m4\u001b[24m287              8.47\n",
            "\u001b[90m3\u001b[39m 2007-12-01    \u001b[4m1\u001b[24m\u001b[4m4\u001b[24m321 \u001b[4m1\u001b[24m\u001b[4m5\u001b[24m\u001b[4m1\u001b[24m687              9.44\n",
            "\u001b[90m4\u001b[39m 2008-01-01    \u001b[4m1\u001b[24m\u001b[4m8\u001b[24m391 \u001b[4m1\u001b[24m\u001b[4m6\u001b[24m\u001b[4m2\u001b[24m966             11.3 \n",
            "\u001b[90m5\u001b[39m 2008-02-01    \u001b[4m2\u001b[24m\u001b[4m6\u001b[24m034 \u001b[4m2\u001b[24m\u001b[4m2\u001b[24m\u001b[4m8\u001b[24m623             11.4 \n",
            "\u001b[90m# … with 115 more rows\u001b[39m\n"
          ],
          "name": "stdout"
        }
      ]
    },
    {
      "cell_type": "code",
      "metadata": {
        "colab": {
          "base_uri": "https://localhost:8080/",
          "height": 474
        },
        "id": "1rrYUK10xZH3",
        "outputId": "3882ac2d-75d7-4863-84ac-d379261b12be"
      },
      "source": [
        "ggplot(data = ssa, mapping = aes(x=Date, y = online_percentage)) +\n",
        "geom_point()"
      ],
      "execution_count": 71,
      "outputs": [
        {
          "output_type": "stream",
          "text": [
            "Warning message:\n",
            "“Removed 8 rows containing missing values (geom_point).”\n"
          ],
          "name": "stderr"
        },
        {
          "output_type": "display_data",
          "data": {
            "image/png": "[encoded data removed]",
            "text/plain": [
              "plot without title"
            ]
          },
          "metadata": {
            "tags": [],
            "image/png": {
              "width": 420,
              "height": 420
            }
          }
        }
      ]
    },
    {
      "cell_type": "markdown",
      "metadata": {
        "id": "kW44dFYRx6BN"
      },
      "source": [
        "# Conclusion"
      ]
    },
    {
      "cell_type": "markdown",
      "metadata": {
        "id": "3XVvy_4Jx1-z"
      },
      "source": [
        "The effort by the Social Security Administration move applications online were successful for many years. Specifically, only less than 10% of applications in 2007 were submitted online and that number grew steadily until 2014, when it exceeded 50%, but then it leveled off. So they might have some more work to do if they want to continue to increase that number. "
      ]
    }
  ]
}